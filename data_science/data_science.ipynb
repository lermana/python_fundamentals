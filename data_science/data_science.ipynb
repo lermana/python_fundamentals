{
 "cells": [
  {
   "cell_type": "markdown",
   "metadata": {},
   "source": [
    "# 0. Overview\n",
    "\n",
    "### Data\n",
    "\n",
    "We will be analyzing an extract of 1994 U.S. Census data. See more on the data set [here](https://archive.ics.uci.edu/ml/datasets/census+income). First, we are going to need some help from some well-known, third-party libraries"
   ]
  },
  {
   "cell_type": "markdown",
   "metadata": {},
   "source": [
    "### Goals\n",
    "\n",
    "Work through the given data - cleaning it, exploring it, transforming it - so as to come to a point where we can build a model to predict whether or not a given citizen, based on the other available information, earns over $50K per year. Additionally, we will dive into learning the proper protocols for setting up for tuning, and evaluating, our predictive models. "
   ]
  },
  {
   "cell_type": "markdown",
   "metadata": {},
   "source": [
    "### Third-party libraries\n",
    "\n",
    "Third-party libraries are libraries (collections of code) that do not come with the core Python distribution. You can get these libraries through downloading the Anaconda distribution, which includes them all, or through installing them manually with `pip` (or `pip3`, depending on your system), which is the Python package manager.\n",
    "\n",
    "When importing a Python library, you can give it an alias, which is usually done to make something easier to type. It's good to follow standard protocol for a given library when doing this so that other people will recognize it throughout your code. \n",
    "\n",
    "`numpy` (typically abbreviated as `np`) provides the following:\n",
    "- a homogenous (read: for a single data type) array with very useful manipulation methods\n",
    "- a number of useful advanced math functions\n",
    "- other data type helpers\n",
    "- in many ways `numpy` is a collection of Python wrappers for very well-optimized C and FORTRAN math code\n",
    "\n",
    "`pandas` (typically abbreviated as `pd`) is:\n",
    "- a library that provides, amongst other things, a very nice data structure known as the `DataFrame`\n",
    "- the `DataFrame` is a relational / tabular data structure\n",
    "- i.e. it allows you to do SQL-ish analysis in Python\n",
    "- it also visualizes nicely in Jupyter notebooks\n",
    "- a good bit of Pandas is actually just user-friendly interfaces on top of `numpy`\n",
    "\n",
    "`matplotlib` (from which the `pyplot` submodule is typically imported and aliased as `plt`)\n",
    "- the old faithful data visualization library for Python\n",
    "- it definitely provides a steep learning curve\n",
    "- but it's a powerful tool once learned\n",
    "\n",
    "`sklearn`\n",
    "- the \"gold standard\" for non-neural-nets (look at `tensorflow` for those) machine learning models\n",
    "- battle tested, widely uses\n",
    "\n",
    "`seaborn`\n",
    "- provides additional data visualization, particularly the \"heat map\""
   ]
  },
  {
   "cell_type": "code",
   "execution_count": 1,
   "metadata": {},
   "outputs": [],
   "source": [
    "import requests\n",
    "import numpy as np\n",
    "import pandas as pd\n",
    "import matplotlib.pyplot as plt\n",
    "import seaborn as sns\n",
    "from sklearn.feature_selection import RFE, chi2\n",
    "from sklearn.ensemble import RandomForestClassifier\n",
    "from sklearn.model_selection import (\n",
    "            train_test_split, cross_val_score, cross_validate, GridSearchCV,\n",
    "            validation_curve\n",
    ")\n",
    "from sklearn.metrics import (\n",
    "            accuracy_score, confusion_matrix, precision_score, recall_score,\n",
    "            make_scorer, PrecisionRecallDisplay\n",
    ")"
   ]
  },
  {
   "cell_type": "markdown",
   "metadata": {},
   "source": [
    "### Taking notes in a `jupyter notebook`\n",
    "\n",
    "The ability to intertermix well-formatted notes with your code and charts is one of the strongest features that `jupyer` offers its users. You can write notes with [markdown syntax](https://github.com/adam-p/markdown-here/wiki/Markdown-Cheatsheet). Below is a an example markdown cell, which you can `enter` into to see how its formatting is created: "
   ]
  },
  {
   "cell_type": "markdown",
   "metadata": {},
   "source": [
    "**Example note taking**:\n",
    "> Here is a *quote* \n",
    "\n",
    "We can write `code`, too:\n",
    "```\n",
    "def fake_func():\n",
    "    return None\n",
    "```\n",
    "\n",
    "You can write math, too:\n",
    "> $\\sum n$\n",
    "\n",
    "Here's a [link](https://github.com/adam-p/markdown-here/wiki/Markdown-Cheatsheet) to more examples."
   ]
  },
  {
   "cell_type": "markdown",
   "metadata": {},
   "source": [
    "### Plots"
   ]
  },
  {
   "cell_type": "code",
   "execution_count": 2,
   "metadata": {},
   "outputs": [],
   "source": [
    "%matplotlib inline"
   ]
  },
  {
   "cell_type": "markdown",
   "metadata": {},
   "source": [
    "The above is a _magic_ Jupyter command that ensures all `matplotlib` plots will by default show in the notebook."
   ]
  },
  {
   "cell_type": "markdown",
   "metadata": {},
   "source": [
    "# 1. Get Data"
   ]
  },
  {
   "cell_type": "markdown",
   "metadata": {},
   "source": [
    "### Retrieve and quick look"
   ]
  },
  {
   "cell_type": "code",
   "execution_count": 3,
   "metadata": {},
   "outputs": [],
   "source": [
    "def get_census_data():\n",
    "    # column names\n",
    "    cols = ['age', 'workclass', 'fnlwgt', 'education', \n",
    "            'education_num', 'marital_status', 'occupation',\n",
    "            'relationship', 'race', 'sex', 'capital_gain',\n",
    "            'capital_loss', 'hours_per_week', 'native_country', \n",
    "            'over_fifty_k']\n",
    "\n",
    "    # url to retrieve data from\n",
    "    url = 'https://archive.ics.uci.edu/ml/machine-learning-databases/adult/adult.data'\n",
    "\n",
    "    print(\"Retrieving data.\")\n",
    "\n",
    "    # convert data from of list of lists to DataFrame, set columns, and return\n",
    "    return pd.read_csv(url, names=cols)"
   ]
  },
  {
   "cell_type": "markdown",
   "metadata": {},
   "source": [
    "Let's use the above function to retrieve our data:"
   ]
  },
  {
   "cell_type": "code",
   "execution_count": 4,
   "metadata": {
    "scrolled": true
   },
   "outputs": [
    {
     "name": "stdout",
     "output_type": "stream",
     "text": [
      "Retrieving data.\n"
     ]
    }
   ],
   "source": [
    "table = get_census_data()"
   ]
  },
  {
   "cell_type": "markdown",
   "metadata": {},
   "source": [
    "A great first step is to check out the size of your data:"
   ]
  },
  {
   "cell_type": "code",
   "execution_count": 5,
   "metadata": {
    "scrolled": false
   },
   "outputs": [
    {
     "data": {
      "text/plain": [
       "(32561, 15)"
      ]
     },
     "execution_count": 5,
     "metadata": {},
     "output_type": "execute_result"
    }
   ],
   "source": [
    "table.shape"
   ]
  },
  {
   "cell_type": "markdown",
   "metadata": {},
   "source": [
    "Next, let's look at data types. We can call the `dtypes` attribute on our `DataFrame` to see the data type for each of its columns. We'll then pass those results into the `value_counts` method, which returns all the values in the column it's called on, with the number of times that each value shows up in the column:"
   ]
  },
  {
   "cell_type": "code",
   "execution_count": 6,
   "metadata": {},
   "outputs": [
    {
     "data": {
      "text/plain": [
       "age                int64\n",
       "workclass         object\n",
       "fnlwgt             int64\n",
       "education         object\n",
       "education_num      int64\n",
       "marital_status    object\n",
       "occupation        object\n",
       "relationship      object\n",
       "race              object\n",
       "sex               object\n",
       "capital_gain       int64\n",
       "capital_loss       int64\n",
       "hours_per_week     int64\n",
       "native_country    object\n",
       "over_fifty_k      object\n",
       "dtype: object"
      ]
     },
     "execution_count": 6,
     "metadata": {},
     "output_type": "execute_result"
    }
   ],
   "source": [
    "table.dtypes"
   ]
  },
  {
   "cell_type": "code",
   "execution_count": 7,
   "metadata": {
    "scrolled": true
   },
   "outputs": [
    {
     "data": {
      "text/plain": [
       "object    9\n",
       "int64     6\n",
       "dtype: int64"
      ]
     },
     "execution_count": 7,
     "metadata": {},
     "output_type": "execute_result"
    }
   ],
   "source": [
    "table.dtypes.value_counts()"
   ]
  },
  {
   "cell_type": "markdown",
   "metadata": {},
   "source": [
    "All data columns are currently formatted as _strings_ (which `pandas` represents with the `object` type), which we will have to handle accordingly. \n",
    "\n",
    "Let's actually _look_ quickly at the top and bottom of the table. We can do this through using `iloc`, which takes the _integer location_ of rows and columns to return:"
   ]
  },
  {
   "cell_type": "code",
   "execution_count": 8,
   "metadata": {
    "scrolled": false
   },
   "outputs": [
    {
     "data": {
      "text/html": [
       "<div>\n",
       "<style scoped>\n",
       "    .dataframe tbody tr th:only-of-type {\n",
       "        vertical-align: middle;\n",
       "    }\n",
       "\n",
       "    .dataframe tbody tr th {\n",
       "        vertical-align: top;\n",
       "    }\n",
       "\n",
       "    .dataframe thead th {\n",
       "        text-align: right;\n",
       "    }\n",
       "</style>\n",
       "<table border=\"1\" class=\"dataframe\">\n",
       "  <thead>\n",
       "    <tr style=\"text-align: right;\">\n",
       "      <th></th>\n",
       "      <th>age</th>\n",
       "      <th>workclass</th>\n",
       "      <th>fnlwgt</th>\n",
       "      <th>education</th>\n",
       "      <th>education_num</th>\n",
       "      <th>marital_status</th>\n",
       "      <th>occupation</th>\n",
       "    </tr>\n",
       "  </thead>\n",
       "  <tbody>\n",
       "    <tr>\n",
       "      <th>0</th>\n",
       "      <td>39</td>\n",
       "      <td>State-gov</td>\n",
       "      <td>77516</td>\n",
       "      <td>Bachelors</td>\n",
       "      <td>13</td>\n",
       "      <td>Never-married</td>\n",
       "      <td>Adm-clerical</td>\n",
       "    </tr>\n",
       "    <tr>\n",
       "      <th>1</th>\n",
       "      <td>50</td>\n",
       "      <td>Self-emp-not-inc</td>\n",
       "      <td>83311</td>\n",
       "      <td>Bachelors</td>\n",
       "      <td>13</td>\n",
       "      <td>Married-civ-spouse</td>\n",
       "      <td>Exec-managerial</td>\n",
       "    </tr>\n",
       "    <tr>\n",
       "      <th>2</th>\n",
       "      <td>38</td>\n",
       "      <td>Private</td>\n",
       "      <td>215646</td>\n",
       "      <td>HS-grad</td>\n",
       "      <td>9</td>\n",
       "      <td>Divorced</td>\n",
       "      <td>Handlers-cleaners</td>\n",
       "    </tr>\n",
       "    <tr>\n",
       "      <th>3</th>\n",
       "      <td>53</td>\n",
       "      <td>Private</td>\n",
       "      <td>234721</td>\n",
       "      <td>11th</td>\n",
       "      <td>7</td>\n",
       "      <td>Married-civ-spouse</td>\n",
       "      <td>Handlers-cleaners</td>\n",
       "    </tr>\n",
       "    <tr>\n",
       "      <th>4</th>\n",
       "      <td>28</td>\n",
       "      <td>Private</td>\n",
       "      <td>338409</td>\n",
       "      <td>Bachelors</td>\n",
       "      <td>13</td>\n",
       "      <td>Married-civ-spouse</td>\n",
       "      <td>Prof-specialty</td>\n",
       "    </tr>\n",
       "  </tbody>\n",
       "</table>\n",
       "</div>"
      ],
      "text/plain": [
       "   age          workclass  fnlwgt   education  education_num  \\\n",
       "0   39          State-gov   77516   Bachelors             13   \n",
       "1   50   Self-emp-not-inc   83311   Bachelors             13   \n",
       "2   38            Private  215646     HS-grad              9   \n",
       "3   53            Private  234721        11th              7   \n",
       "4   28            Private  338409   Bachelors             13   \n",
       "\n",
       "        marital_status          occupation  \n",
       "0        Never-married        Adm-clerical  \n",
       "1   Married-civ-spouse     Exec-managerial  \n",
       "2             Divorced   Handlers-cleaners  \n",
       "3   Married-civ-spouse   Handlers-cleaners  \n",
       "4   Married-civ-spouse      Prof-specialty  "
      ]
     },
     "execution_count": 8,
     "metadata": {},
     "output_type": "execute_result"
    }
   ],
   "source": [
    "table.iloc[:5, :7]"
   ]
  },
  {
   "cell_type": "code",
   "execution_count": 9,
   "metadata": {},
   "outputs": [
    {
     "data": {
      "text/html": [
       "<div>\n",
       "<style scoped>\n",
       "    .dataframe tbody tr th:only-of-type {\n",
       "        vertical-align: middle;\n",
       "    }\n",
       "\n",
       "    .dataframe tbody tr th {\n",
       "        vertical-align: top;\n",
       "    }\n",
       "\n",
       "    .dataframe thead th {\n",
       "        text-align: right;\n",
       "    }\n",
       "</style>\n",
       "<table border=\"1\" class=\"dataframe\">\n",
       "  <thead>\n",
       "    <tr style=\"text-align: right;\">\n",
       "      <th></th>\n",
       "      <th>race</th>\n",
       "      <th>sex</th>\n",
       "      <th>capital_gain</th>\n",
       "      <th>capital_loss</th>\n",
       "      <th>hours_per_week</th>\n",
       "      <th>native_country</th>\n",
       "      <th>over_fifty_k</th>\n",
       "    </tr>\n",
       "  </thead>\n",
       "  <tbody>\n",
       "    <tr>\n",
       "      <th>32556</th>\n",
       "      <td>White</td>\n",
       "      <td>Female</td>\n",
       "      <td>0</td>\n",
       "      <td>0</td>\n",
       "      <td>38</td>\n",
       "      <td>United-States</td>\n",
       "      <td>&lt;=50K</td>\n",
       "    </tr>\n",
       "    <tr>\n",
       "      <th>32557</th>\n",
       "      <td>White</td>\n",
       "      <td>Male</td>\n",
       "      <td>0</td>\n",
       "      <td>0</td>\n",
       "      <td>40</td>\n",
       "      <td>United-States</td>\n",
       "      <td>&gt;50K</td>\n",
       "    </tr>\n",
       "    <tr>\n",
       "      <th>32558</th>\n",
       "      <td>White</td>\n",
       "      <td>Female</td>\n",
       "      <td>0</td>\n",
       "      <td>0</td>\n",
       "      <td>40</td>\n",
       "      <td>United-States</td>\n",
       "      <td>&lt;=50K</td>\n",
       "    </tr>\n",
       "    <tr>\n",
       "      <th>32559</th>\n",
       "      <td>White</td>\n",
       "      <td>Male</td>\n",
       "      <td>0</td>\n",
       "      <td>0</td>\n",
       "      <td>20</td>\n",
       "      <td>United-States</td>\n",
       "      <td>&lt;=50K</td>\n",
       "    </tr>\n",
       "    <tr>\n",
       "      <th>32560</th>\n",
       "      <td>White</td>\n",
       "      <td>Female</td>\n",
       "      <td>15024</td>\n",
       "      <td>0</td>\n",
       "      <td>40</td>\n",
       "      <td>United-States</td>\n",
       "      <td>&gt;50K</td>\n",
       "    </tr>\n",
       "  </tbody>\n",
       "</table>\n",
       "</div>"
      ],
      "text/plain": [
       "         race      sex  capital_gain  capital_loss  hours_per_week  \\\n",
       "32556   White   Female             0             0              38   \n",
       "32557   White     Male             0             0              40   \n",
       "32558   White   Female             0             0              40   \n",
       "32559   White     Male             0             0              20   \n",
       "32560   White   Female         15024             0              40   \n",
       "\n",
       "       native_country over_fifty_k  \n",
       "32556   United-States        <=50K  \n",
       "32557   United-States         >50K  \n",
       "32558   United-States        <=50K  \n",
       "32559   United-States        <=50K  \n",
       "32560   United-States         >50K  "
      ]
     },
     "execution_count": 9,
     "metadata": {},
     "output_type": "execute_result"
    }
   ],
   "source": [
    "table.iloc[-5:, 8:]"
   ]
  },
  {
   "cell_type": "markdown",
   "metadata": {},
   "source": [
    "### Data cleanliness\n",
    "\n",
    "Let's check for missing values:"
   ]
  },
  {
   "cell_type": "markdown",
   "metadata": {},
   "source": [
    "`isnull()` is a method that returns `True` for every row in `data` that is `null`, in each of the columns. We can then call `sum` on the results to see the total number of `null` values in each column.\n",
    "\n",
    "We see that we have 1 missing value each, for every column except for `age` - let's see if these all these values are in the same row:"
   ]
  },
  {
   "cell_type": "code",
   "execution_count": 10,
   "metadata": {},
   "outputs": [
    {
     "data": {
      "text/plain": [
       "Int64Index([], dtype='int64')"
      ]
     },
     "execution_count": 10,
     "metadata": {},
     "output_type": "execute_result"
    }
   ],
   "source": [
    "table[table.isnull().any(1)].index"
   ]
  },
  {
   "cell_type": "markdown",
   "metadata": {},
   "source": [
    "One of the ways in which we can filter a `DataFrame` is to pass a condition into it using square brackets.The square bracket syntax works such that it will then return the rows in the `DataFrame` that have a value of `True`. So, `isnull` returns a whole collection of `True` or `False` values for each position in the index, and the square bracket syntax then returns the rest of the row for each `True` index value. "
   ]
  },
  {
   "cell_type": "markdown",
   "metadata": {},
   "source": [
    "Now, let's check for duplicates:"
   ]
  },
  {
   "cell_type": "code",
   "execution_count": 11,
   "metadata": {},
   "outputs": [
    {
     "data": {
      "text/plain": [
       "0    False\n",
       "1    False\n",
       "2    False\n",
       "3    False\n",
       "4    False\n",
       "dtype: bool"
      ]
     },
     "execution_count": 11,
     "metadata": {},
     "output_type": "execute_result"
    }
   ],
   "source": [
    "table.duplicated().head()"
   ]
  },
  {
   "cell_type": "code",
   "execution_count": 12,
   "metadata": {
    "scrolled": false
   },
   "outputs": [
    {
     "data": {
      "text/plain": [
       "24"
      ]
     },
     "execution_count": 12,
     "metadata": {},
     "output_type": "execute_result"
    }
   ],
   "source": [
    "table.duplicated().sum()"
   ]
  },
  {
   "cell_type": "code",
   "execution_count": 13,
   "metadata": {},
   "outputs": [
    {
     "data": {
      "text/html": [
       "<div>\n",
       "<style scoped>\n",
       "    .dataframe tbody tr th:only-of-type {\n",
       "        vertical-align: middle;\n",
       "    }\n",
       "\n",
       "    .dataframe tbody tr th {\n",
       "        vertical-align: top;\n",
       "    }\n",
       "\n",
       "    .dataframe thead th {\n",
       "        text-align: right;\n",
       "    }\n",
       "</style>\n",
       "<table border=\"1\" class=\"dataframe\">\n",
       "  <thead>\n",
       "    <tr style=\"text-align: right;\">\n",
       "      <th></th>\n",
       "      <th>age</th>\n",
       "      <th>workclass</th>\n",
       "      <th>fnlwgt</th>\n",
       "      <th>education</th>\n",
       "      <th>education_num</th>\n",
       "      <th>marital_status</th>\n",
       "      <th>occupation</th>\n",
       "      <th>relationship</th>\n",
       "      <th>race</th>\n",
       "      <th>sex</th>\n",
       "      <th>capital_gain</th>\n",
       "      <th>capital_loss</th>\n",
       "      <th>hours_per_week</th>\n",
       "      <th>native_country</th>\n",
       "      <th>over_fifty_k</th>\n",
       "    </tr>\n",
       "  </thead>\n",
       "  <tbody>\n",
       "    <tr>\n",
       "      <th>17673</th>\n",
       "      <td>19</td>\n",
       "      <td>Private</td>\n",
       "      <td>97261</td>\n",
       "      <td>HS-grad</td>\n",
       "      <td>9</td>\n",
       "      <td>Never-married</td>\n",
       "      <td>Farming-fishing</td>\n",
       "      <td>Not-in-family</td>\n",
       "      <td>White</td>\n",
       "      <td>Male</td>\n",
       "      <td>0</td>\n",
       "      <td>0</td>\n",
       "      <td>40</td>\n",
       "      <td>United-States</td>\n",
       "      <td>&lt;=50K</td>\n",
       "    </tr>\n",
       "    <tr>\n",
       "      <th>18698</th>\n",
       "      <td>19</td>\n",
       "      <td>Private</td>\n",
       "      <td>97261</td>\n",
       "      <td>HS-grad</td>\n",
       "      <td>9</td>\n",
       "      <td>Never-married</td>\n",
       "      <td>Farming-fishing</td>\n",
       "      <td>Not-in-family</td>\n",
       "      <td>White</td>\n",
       "      <td>Male</td>\n",
       "      <td>0</td>\n",
       "      <td>0</td>\n",
       "      <td>40</td>\n",
       "      <td>United-States</td>\n",
       "      <td>&lt;=50K</td>\n",
       "    </tr>\n",
       "    <tr>\n",
       "      <th>6990</th>\n",
       "      <td>19</td>\n",
       "      <td>Private</td>\n",
       "      <td>138153</td>\n",
       "      <td>Some-college</td>\n",
       "      <td>10</td>\n",
       "      <td>Never-married</td>\n",
       "      <td>Adm-clerical</td>\n",
       "      <td>Own-child</td>\n",
       "      <td>White</td>\n",
       "      <td>Female</td>\n",
       "      <td>0</td>\n",
       "      <td>0</td>\n",
       "      <td>10</td>\n",
       "      <td>United-States</td>\n",
       "      <td>&lt;=50K</td>\n",
       "    </tr>\n",
       "    <tr>\n",
       "      <th>21318</th>\n",
       "      <td>19</td>\n",
       "      <td>Private</td>\n",
       "      <td>138153</td>\n",
       "      <td>Some-college</td>\n",
       "      <td>10</td>\n",
       "      <td>Never-married</td>\n",
       "      <td>Adm-clerical</td>\n",
       "      <td>Own-child</td>\n",
       "      <td>White</td>\n",
       "      <td>Female</td>\n",
       "      <td>0</td>\n",
       "      <td>0</td>\n",
       "      <td>10</td>\n",
       "      <td>United-States</td>\n",
       "      <td>&lt;=50K</td>\n",
       "    </tr>\n",
       "    <tr>\n",
       "      <th>15189</th>\n",
       "      <td>19</td>\n",
       "      <td>Private</td>\n",
       "      <td>146679</td>\n",
       "      <td>Some-college</td>\n",
       "      <td>10</td>\n",
       "      <td>Never-married</td>\n",
       "      <td>Exec-managerial</td>\n",
       "      <td>Own-child</td>\n",
       "      <td>Black</td>\n",
       "      <td>Male</td>\n",
       "      <td>0</td>\n",
       "      <td>0</td>\n",
       "      <td>30</td>\n",
       "      <td>United-States</td>\n",
       "      <td>&lt;=50K</td>\n",
       "    </tr>\n",
       "  </tbody>\n",
       "</table>\n",
       "</div>"
      ],
      "text/plain": [
       "       age workclass  fnlwgt      education  education_num  marital_status  \\\n",
       "17673   19   Private   97261        HS-grad              9   Never-married   \n",
       "18698   19   Private   97261        HS-grad              9   Never-married   \n",
       "6990    19   Private  138153   Some-college             10   Never-married   \n",
       "21318   19   Private  138153   Some-college             10   Never-married   \n",
       "15189   19   Private  146679   Some-college             10   Never-married   \n",
       "\n",
       "             occupation    relationship    race      sex  capital_gain  \\\n",
       "17673   Farming-fishing   Not-in-family   White     Male             0   \n",
       "18698   Farming-fishing   Not-in-family   White     Male             0   \n",
       "6990       Adm-clerical       Own-child   White   Female             0   \n",
       "21318      Adm-clerical       Own-child   White   Female             0   \n",
       "15189   Exec-managerial       Own-child   Black     Male             0   \n",
       "\n",
       "       capital_loss  hours_per_week  native_country over_fifty_k  \n",
       "17673             0              40   United-States        <=50K  \n",
       "18698             0              40   United-States        <=50K  \n",
       "6990              0              10   United-States        <=50K  \n",
       "21318             0              10   United-States        <=50K  \n",
       "15189             0              30   United-States        <=50K  "
      ]
     },
     "execution_count": 13,
     "metadata": {},
     "output_type": "execute_result"
    }
   ],
   "source": [
    "table[table.duplicated(keep=False)].sort_values(table.columns.to_list()).head()"
   ]
  },
  {
   "cell_type": "markdown",
   "metadata": {},
   "source": [
    "The `duplicated` method works similarly to `isnull`, in that it returns a _boolean mask_. By default, it will return `True` for a row that has _already_ been seen. You can control whether it treats the _first_ or _last_ instance of a row as a duplicate, or you can also count _all_ instances of a given row (that appears more than once) as duplicates. This behavior is controlled through the `keep` _keyword argument_. \n",
    "\n",
    "Let's write _all_ duplicates to file before we drop them. We can do this using the `to_csv` method, which takes (in addition to other optional parameters that control things like the delimiter used) a _path_ to write the file to:"
   ]
  },
  {
   "cell_type": "code",
   "execution_count": 14,
   "metadata": {},
   "outputs": [],
   "source": [
    "table[table.duplicated(keep=False)].to_csv(\"duplicates.csv\")"
   ]
  },
  {
   "cell_type": "code",
   "execution_count": 15,
   "metadata": {},
   "outputs": [],
   "source": [
    "table = table.drop_duplicates()"
   ]
  },
  {
   "cell_type": "markdown",
   "metadata": {},
   "source": [
    "### Data type handling - _numeric_\n",
    "\n",
    "Let's get this data typed properly. We may have to manually make these changes using the `astype` method, but let's see what the `infer_objects` method can do for us:"
   ]
  },
  {
   "cell_type": "code",
   "execution_count": 16,
   "metadata": {
    "scrolled": true
   },
   "outputs": [
    {
     "data": {
      "text/plain": [
       "age                int64\n",
       "workclass         object\n",
       "fnlwgt             int64\n",
       "education         object\n",
       "education_num      int64\n",
       "marital_status    object\n",
       "occupation        object\n",
       "relationship      object\n",
       "race              object\n",
       "sex               object\n",
       "capital_gain       int64\n",
       "capital_loss       int64\n",
       "hours_per_week     int64\n",
       "native_country    object\n",
       "over_fifty_k      object\n",
       "dtype: object"
      ]
     },
     "execution_count": 16,
     "metadata": {},
     "output_type": "execute_result"
    }
   ],
   "source": [
    "table.infer_objects().dtypes"
   ]
  },
  {
   "cell_type": "markdown",
   "metadata": {},
   "source": [
    "Great! Let's retain:"
   ]
  },
  {
   "cell_type": "code",
   "execution_count": 17,
   "metadata": {},
   "outputs": [],
   "source": [
    "table = table.infer_objects()"
   ]
  },
  {
   "cell_type": "markdown",
   "metadata": {},
   "source": [
    "### Data type handling - _boolean_\n",
    "\n",
    "Let's take a closer look at what we're trying to predict - `over_fifty_k`:"
   ]
  },
  {
   "cell_type": "code",
   "execution_count": 18,
   "metadata": {
    "scrolled": true
   },
   "outputs": [
    {
     "data": {
      "text/plain": [
       "0     <=50K\n",
       "1     <=50K\n",
       "2     <=50K\n",
       "3     <=50K\n",
       "4     <=50K\n",
       "Name: over_fifty_k, dtype: object"
      ]
     },
     "execution_count": 18,
     "metadata": {},
     "output_type": "execute_result"
    }
   ],
   "source": [
    "table.over_fifty_k.head()"
   ]
  },
  {
   "cell_type": "markdown",
   "metadata": {},
   "source": [
    "This doesn't look very nice, does it?"
   ]
  },
  {
   "cell_type": "code",
   "execution_count": 19,
   "metadata": {
    "scrolled": false
   },
   "outputs": [
    {
     "data": {
      "text/plain": [
       " <=50K    24698\n",
       " >50K      7839\n",
       "Name: over_fifty_k, dtype: int64"
      ]
     },
     "execution_count": 19,
     "metadata": {},
     "output_type": "execute_result"
    }
   ],
   "source": [
    "table.over_fifty_k.value_counts()"
   ]
  },
  {
   "cell_type": "markdown",
   "metadata": {},
   "source": [
    "So, this is really a `bool` variable, but we currently have it represented via this _ugly_ string. Let's fix that."
   ]
  },
  {
   "cell_type": "markdown",
   "metadata": {},
   "source": [
    "### --"
   ]
  },
  {
   "cell_type": "markdown",
   "metadata": {},
   "source": [
    "### Problem\n",
    "\n",
    "Re-engineer this as a `bool` column."
   ]
  },
  {
   "cell_type": "markdown",
   "metadata": {},
   "source": [
    "### --"
   ]
  },
  {
   "cell_type": "markdown",
   "metadata": {},
   "source": [
    "### Data type handling - almost done\n",
    "\n",
    "Let's take a look at what we've done so far:"
   ]
  },
  {
   "cell_type": "code",
   "execution_count": 23,
   "metadata": {
    "scrolled": true
   },
   "outputs": [
    {
     "data": {
      "text/plain": [
       "object    9\n",
       "int64     6\n",
       "bool      1\n",
       "dtype: int64"
      ]
     },
     "execution_count": 23,
     "metadata": {},
     "output_type": "execute_result"
    }
   ],
   "source": [
    "table.dtypes.value_counts()"
   ]
  },
  {
   "cell_type": "markdown",
   "metadata": {},
   "source": [
    "We can actually make sub-selections on our table, by `dtype`:"
   ]
  },
  {
   "cell_type": "code",
   "execution_count": 24,
   "metadata": {},
   "outputs": [
    {
     "data": {
      "text/html": [
       "<div>\n",
       "<style scoped>\n",
       "    .dataframe tbody tr th:only-of-type {\n",
       "        vertical-align: middle;\n",
       "    }\n",
       "\n",
       "    .dataframe tbody tr th {\n",
       "        vertical-align: top;\n",
       "    }\n",
       "\n",
       "    .dataframe thead th {\n",
       "        text-align: right;\n",
       "    }\n",
       "</style>\n",
       "<table border=\"1\" class=\"dataframe\">\n",
       "  <thead>\n",
       "    <tr style=\"text-align: right;\">\n",
       "      <th></th>\n",
       "      <th>age</th>\n",
       "      <th>fnlwgt</th>\n",
       "      <th>education_num</th>\n",
       "      <th>capital_gain</th>\n",
       "      <th>capital_loss</th>\n",
       "      <th>hours_per_week</th>\n",
       "    </tr>\n",
       "  </thead>\n",
       "  <tbody>\n",
       "    <tr>\n",
       "      <th>0</th>\n",
       "      <td>39</td>\n",
       "      <td>77516</td>\n",
       "      <td>13</td>\n",
       "      <td>2174</td>\n",
       "      <td>0</td>\n",
       "      <td>40</td>\n",
       "    </tr>\n",
       "    <tr>\n",
       "      <th>1</th>\n",
       "      <td>50</td>\n",
       "      <td>83311</td>\n",
       "      <td>13</td>\n",
       "      <td>0</td>\n",
       "      <td>0</td>\n",
       "      <td>13</td>\n",
       "    </tr>\n",
       "    <tr>\n",
       "      <th>2</th>\n",
       "      <td>38</td>\n",
       "      <td>215646</td>\n",
       "      <td>9</td>\n",
       "      <td>0</td>\n",
       "      <td>0</td>\n",
       "      <td>40</td>\n",
       "    </tr>\n",
       "    <tr>\n",
       "      <th>3</th>\n",
       "      <td>53</td>\n",
       "      <td>234721</td>\n",
       "      <td>7</td>\n",
       "      <td>0</td>\n",
       "      <td>0</td>\n",
       "      <td>40</td>\n",
       "    </tr>\n",
       "    <tr>\n",
       "      <th>4</th>\n",
       "      <td>28</td>\n",
       "      <td>338409</td>\n",
       "      <td>13</td>\n",
       "      <td>0</td>\n",
       "      <td>0</td>\n",
       "      <td>40</td>\n",
       "    </tr>\n",
       "  </tbody>\n",
       "</table>\n",
       "</div>"
      ],
      "text/plain": [
       "   age  fnlwgt  education_num  capital_gain  capital_loss  hours_per_week\n",
       "0   39   77516             13          2174             0              40\n",
       "1   50   83311             13             0             0              13\n",
       "2   38  215646              9             0             0              40\n",
       "3   53  234721              7             0             0              40\n",
       "4   28  338409             13             0             0              40"
      ]
     },
     "execution_count": 24,
     "metadata": {},
     "output_type": "execute_result"
    }
   ],
   "source": [
    "table.select_dtypes(include=[int]).head()"
   ]
  },
  {
   "cell_type": "code",
   "execution_count": 25,
   "metadata": {},
   "outputs": [
    {
     "data": {
      "text/html": [
       "<div>\n",
       "<style scoped>\n",
       "    .dataframe tbody tr th:only-of-type {\n",
       "        vertical-align: middle;\n",
       "    }\n",
       "\n",
       "    .dataframe tbody tr th {\n",
       "        vertical-align: top;\n",
       "    }\n",
       "\n",
       "    .dataframe thead th {\n",
       "        text-align: right;\n",
       "    }\n",
       "</style>\n",
       "<table border=\"1\" class=\"dataframe\">\n",
       "  <thead>\n",
       "    <tr style=\"text-align: right;\">\n",
       "      <th></th>\n",
       "      <th>over_fifty_k_bool</th>\n",
       "    </tr>\n",
       "  </thead>\n",
       "  <tbody>\n",
       "    <tr>\n",
       "      <th>0</th>\n",
       "      <td>False</td>\n",
       "    </tr>\n",
       "    <tr>\n",
       "      <th>1</th>\n",
       "      <td>False</td>\n",
       "    </tr>\n",
       "    <tr>\n",
       "      <th>2</th>\n",
       "      <td>False</td>\n",
       "    </tr>\n",
       "    <tr>\n",
       "      <th>3</th>\n",
       "      <td>False</td>\n",
       "    </tr>\n",
       "    <tr>\n",
       "      <th>4</th>\n",
       "      <td>False</td>\n",
       "    </tr>\n",
       "  </tbody>\n",
       "</table>\n",
       "</div>"
      ],
      "text/plain": [
       "   over_fifty_k_bool\n",
       "0              False\n",
       "1              False\n",
       "2              False\n",
       "3              False\n",
       "4              False"
      ]
     },
     "execution_count": 25,
     "metadata": {},
     "output_type": "execute_result"
    }
   ],
   "source": [
    "table.select_dtypes(exclude=[object, int]).head()"
   ]
  },
  {
   "cell_type": "markdown",
   "metadata": {},
   "source": [
    "Wait... before we progress - should we check all the other `object` columns to make sure they don't have the same issue as `over_fifty_k` did?"
   ]
  },
  {
   "cell_type": "markdown",
   "metadata": {},
   "source": [
    "### --"
   ]
  },
  {
   "cell_type": "markdown",
   "metadata": {},
   "source": [
    "### Problem\n",
    "\n",
    "Check whether other `object` column values have issues with trailing and / or leading spaces, and try to make use of iteration and / or group selection."
   ]
  },
  {
   "cell_type": "markdown",
   "metadata": {},
   "source": [
    "### --"
   ]
  },
  {
   "cell_type": "markdown",
   "metadata": {},
   "source": [
    "# 2. Exploratory Data Analysis\n",
    "\n",
    "Exploratory data analysis (EDA) is key to understanding your data - this is where you poke around and see how things work."
   ]
  },
  {
   "cell_type": "markdown",
   "metadata": {},
   "source": [
    "### Numeric columns - _distributional analysis_\n",
    "\n",
    "With numeric data, we often want to understand how it's _distributed_, i.e. the frequencies associated with different values in the data.\n",
    "\n",
    "Let's start with `age`. We can see the number of unique values with the `nunique` method:"
   ]
  },
  {
   "cell_type": "code",
   "execution_count": 31,
   "metadata": {
    "scrolled": false
   },
   "outputs": [
    {
     "data": {
      "text/plain": [
       "73"
      ]
     },
     "execution_count": 31,
     "metadata": {},
     "output_type": "execute_result"
    }
   ],
   "source": [
    "table.age.nunique()"
   ]
  },
  {
   "cell_type": "markdown",
   "metadata": {},
   "source": [
    "We have a good number of values here, but this is still _discrete_ data, so we can actually use `value_counts` to analyze it.\n",
    "\n",
    "In the following cell, we're going to go into `table`, get the `age` column, call `value_counts`, sort the index with the `sort_index` method (so that the ages are presented in _numerical_ order, as opposed order of frequency, which is how `value_counts` will return its results) and then we're going to call `plot`.\n",
    "\n",
    "You can call (i.e. put parantheses after the function name) `plot` directly, which will produce a _line_ plot, or you can specify other types of plots. In this case, we're calling the `bar` method, which will give us a _bar graph_. I've passed some additional arguments to `bar` to control the _size_ of the figure, as well as the _color_ of the plot, and, finally, the rotation of the _x-axis_ labels.\n",
    "\n",
    "The results of this procedure are the _axes_ of the plot, which can be used to further modify the plot. I'm using these _axes_ (stored in the variable `ax`) to set a title."
   ]
  },
  {
   "cell_type": "code",
   "execution_count": 32,
   "metadata": {},
   "outputs": [
    {
     "data": {
      "image/png": "[encoded data removed]",
      "text/plain": [
       "<Figure size 1080x576 with 1 Axes>"
      ]
     },
     "metadata": {
      "needs_background": "light"
     },
     "output_type": "display_data"
    }
   ],
   "source": [
    "ax = table.age.value_counts().sort_index().plot.bar(figsize=(15, 8), color=\"steelblue\", rot=80)\n",
    "ax.title.set_text('age: counts by age')"
   ]
  },
  {
   "cell_type": "markdown",
   "metadata": {},
   "source": [
    "They say a picture's worth a thousand words, and I think that adage undoubtedly holds true in data analysis.\n",
    "\n",
    "Right off the bat, we can see here that there's an unusual spike at 90, which could indicate that all ages greater than or equal to 90 were simply bucketed. Additionally, we can that the 30s are probably the most well-represented decade in this data. \n",
    "\n",
    "Let's put some numbers behind these observations."
   ]
  },
  {
   "cell_type": "code",
   "execution_count": 33,
   "metadata": {
    "scrolled": true
   },
   "outputs": [
    {
     "data": {
      "text/html": [
       "<div>\n",
       "<style scoped>\n",
       "    .dataframe tbody tr th:only-of-type {\n",
       "        vertical-align: middle;\n",
       "    }\n",
       "\n",
       "    .dataframe tbody tr th {\n",
       "        vertical-align: top;\n",
       "    }\n",
       "\n",
       "    .dataframe thead th {\n",
       "        text-align: right;\n",
       "    }\n",
       "</style>\n",
       "<table border=\"1\" class=\"dataframe\">\n",
       "  <thead>\n",
       "    <tr style=\"text-align: right;\">\n",
       "      <th></th>\n",
       "      <th>age</th>\n",
       "    </tr>\n",
       "  </thead>\n",
       "  <tbody>\n",
       "    <tr>\n",
       "      <th>count</th>\n",
       "      <td>32537.000000</td>\n",
       "    </tr>\n",
       "    <tr>\n",
       "      <th>mean</th>\n",
       "      <td>38.585549</td>\n",
       "    </tr>\n",
       "    <tr>\n",
       "      <th>std</th>\n",
       "      <td>13.637984</td>\n",
       "    </tr>\n",
       "    <tr>\n",
       "      <th>min</th>\n",
       "      <td>17.000000</td>\n",
       "    </tr>\n",
       "    <tr>\n",
       "      <th>25%</th>\n",
       "      <td>28.000000</td>\n",
       "    </tr>\n",
       "    <tr>\n",
       "      <th>50%</th>\n",
       "      <td>37.000000</td>\n",
       "    </tr>\n",
       "    <tr>\n",
       "      <th>75%</th>\n",
       "      <td>48.000000</td>\n",
       "    </tr>\n",
       "    <tr>\n",
       "      <th>max</th>\n",
       "      <td>90.000000</td>\n",
       "    </tr>\n",
       "  </tbody>\n",
       "</table>\n",
       "</div>"
      ],
      "text/plain": [
       "                age\n",
       "count  32537.000000\n",
       "mean      38.585549\n",
       "std       13.637984\n",
       "min       17.000000\n",
       "25%       28.000000\n",
       "50%       37.000000\n",
       "75%       48.000000\n",
       "max       90.000000"
      ]
     },
     "execution_count": 33,
     "metadata": {},
     "output_type": "execute_result"
    }
   ],
   "source": [
    "table.age.describe().to_frame()"
   ]
  },
  {
   "cell_type": "markdown",
   "metadata": {},
   "source": [
    "The `describe` method gives us a number of descriptive stats. In order of appearance:\n",
    "- number of non-null rows\n",
    "- mean\n",
    "- standard deviation\n",
    "- minumum value in the data\n",
    "- 25th percentile\n",
    "- median\n",
    "- 75th percentile\n",
    "- maximum value in the data\n",
    "\n",
    "Note that you can also call these functions individually:"
   ]
  },
  {
   "cell_type": "code",
   "execution_count": 34,
   "metadata": {},
   "outputs": [
    {
     "data": {
      "text/plain": [
       "38.585548759873376"
      ]
     },
     "execution_count": 34,
     "metadata": {},
     "output_type": "execute_result"
    }
   ],
   "source": [
    "table.age.mean()"
   ]
  },
  {
   "cell_type": "code",
   "execution_count": 35,
   "metadata": {},
   "outputs": [
    {
     "data": {
      "text/plain": [
       "0.90000    58.0\n",
       "0.95000    63.0\n",
       "0.99000    74.0\n",
       "0.99900    90.0\n",
       "0.99990    90.0\n",
       "0.99999    90.0\n",
       "Name: age, dtype: float64"
      ]
     },
     "execution_count": 35,
     "metadata": {},
     "output_type": "execute_result"
    }
   ],
   "source": [
    "table.age.quantile([.9, .95, .99, .999, .9999, .99999])"
   ]
  },
  {
   "cell_type": "markdown",
   "metadata": {},
   "source": [
    "We can see that the average age (noting that this is not a _true_ average, due to binning at 90) is around 39. The fact that the median is a little bit lower than the average is a nod to this data's _positive- or right-skew_. We can also see that this data goes neither below 17 nor above 90.\n",
    "\n",
    "It might help to simplify our age visualization a bit -- let's take a quick look at age, _rounded_:"
   ]
  },
  {
   "cell_type": "code",
   "execution_count": 36,
   "metadata": {},
   "outputs": [
    {
     "data": {
      "image/png": "[encoded data removed]",
      "text/plain": [
       "<Figure size 792x576 with 1 Axes>"
      ]
     },
     "metadata": {
      "needs_background": "light"
     },
     "output_type": "display_data"
    }
   ],
   "source": [
    "ax = table.age.round(-1).value_counts().sort_index().plot.bar(figsize=(11, 8), rot=0)\n",
    "\n",
    "t = ax.title.set_text(\"Age, Rounded to Nearest 10\")"
   ]
  },
  {
   "cell_type": "markdown",
   "metadata": {},
   "source": [
    "We could also round to the nearest five, if we wanted to:"
   ]
  },
  {
   "cell_type": "code",
   "execution_count": 37,
   "metadata": {},
   "outputs": [],
   "source": [
    "def custom_round(x, base=5):\n",
    "    return (base * round(x.astype(float)/base)).astype(int)"
   ]
  },
  {
   "cell_type": "code",
   "execution_count": 38,
   "metadata": {},
   "outputs": [
    {
     "data": {
      "text/plain": [
       "0    40\n",
       "1    50\n",
       "2    40\n",
       "3    55\n",
       "4    30\n",
       "5    35\n",
       "6    50\n",
       "7    50\n",
       "8    30\n",
       "9    40\n",
       "Name: age, dtype: int64"
      ]
     },
     "execution_count": 38,
     "metadata": {},
     "output_type": "execute_result"
    }
   ],
   "source": [
    "custom_round(table.age).head(10)"
   ]
  },
  {
   "cell_type": "code",
   "execution_count": 39,
   "metadata": {},
   "outputs": [
    {
     "data": {
      "image/png": "[encoded data removed]",
      "text/plain": [
       "<Figure size 792x576 with 1 Axes>"
      ]
     },
     "metadata": {
      "needs_background": "light"
     },
     "output_type": "display_data"
    }
   ],
   "source": [
    "ax = custom_round(table.age).value_counts().sort_index().plot.bar(figsize=(11, 8), rot=0)\n",
    "\n",
    "t = ax.title.set_text(\"Age, Rounded to Nearest 5\")"
   ]
  },
  {
   "cell_type": "markdown",
   "metadata": {},
   "source": [
    "Sometimes binning values can help for the purposes of interpretation; in the case of \"noisy\" data (or data with low-quality information), it can also help to engineer a little bit of information loss.\n",
    "\n",
    "Let's move on another numeric column, `fnlwgt`, which the data's website describes as a statistically engineered field that's used by the government; we will do this through plotting a _histogram_, which we can do through the `DataFrame`'s `hist` method. I often use something like `bins=100`, but there exist [more elegant ideas](https://en.wikipedia.org/wiki/Freedman%E2%80%93Diaconis_rule) of how to calculate the number of bins to use. "
   ]
  },
  {
   "cell_type": "code",
   "execution_count": 40,
   "metadata": {},
   "outputs": [
    {
     "data": {
      "image/png": "[encoded data removed]",
      "text/plain": [
       "<Figure size 792x576 with 1 Axes>"
      ]
     },
     "metadata": {
      "needs_background": "light"
     },
     "output_type": "display_data"
    }
   ],
   "source": [
    "ax = table.fnlwgt.hist(bins=100, figsize=(11, 8))"
   ]
  },
  {
   "cell_type": "markdown",
   "metadata": {},
   "source": [
    "This is interesting data -- we can see a \"long\" tail out to the right, so we'd consider this data to be _positively skewed_. Practically speaking, this means there are high-valued outliers that might \"pull\" the mean upwards from the rest of the data. Let's check this by comparing the mean to the median:"
   ]
  },
  {
   "cell_type": "code",
   "execution_count": 41,
   "metadata": {},
   "outputs": [
    {
     "data": {
      "text/plain": [
       "mean      189780.848511\n",
       "median    178356.000000\n",
       "Name: fnlwgt, dtype: float64"
      ]
     },
     "execution_count": 41,
     "metadata": {},
     "output_type": "execute_result"
    }
   ],
   "source": [
    "table.fnlwgt.agg([\"mean\", \"median\"])"
   ]
  },
  {
   "cell_type": "code",
   "execution_count": 42,
   "metadata": {},
   "outputs": [
    {
     "data": {
      "text/plain": [
       "1.0640564293375385"
      ]
     },
     "execution_count": 42,
     "metadata": {},
     "output_type": "execute_result"
    }
   ],
   "source": [
    "table.fnlwgt.mean() / table.fnlwgt.median()"
   ]
  },
  {
   "cell_type": "markdown",
   "metadata": {},
   "source": [
    "Sometimes, when we see data that is skewed, it can be helpful to take a transform of it. Taking the _logarithm_ of data will strongly reduce data. The _square root_ will reduce skew more gently. The _cube root_ transform works well when dealing with negative values.\n",
    "\n",
    "Let's try the `log` function from `numpy`:"
   ]
  },
  {
   "cell_type": "code",
   "execution_count": 43,
   "metadata": {},
   "outputs": [
    {
     "data": {
      "image/png": "[encoded data removed]",
      "text/plain": [
       "<Figure size 792x576 with 1 Axes>"
      ]
     },
     "metadata": {
      "needs_background": "light"
     },
     "output_type": "display_data"
    }
   ],
   "source": [
    "ax = np.log(table.fnlwgt).hist(bins=100, figsize=(11, 8))"
   ]
  },
  {
   "cell_type": "code",
   "execution_count": 44,
   "metadata": {},
   "outputs": [],
   "source": [
    "fnlwgt_log = np.log(table.fnlwgt)"
   ]
  },
  {
   "cell_type": "code",
   "execution_count": 45,
   "metadata": {
    "scrolled": true
   },
   "outputs": [
    {
     "data": {
      "text/plain": [
       "0.991090097412325"
      ]
     },
     "execution_count": 45,
     "metadata": {},
     "output_type": "execute_result"
    }
   ],
   "source": [
    "fnlwgt_log.mean() / fnlwgt_log.median()"
   ]
  },
  {
   "cell_type": "markdown",
   "metadata": {},
   "source": [
    "We see that (by quick proxy of mean / median) skewness is reduced; this is apparent visually, too. \"Squashing\" the data like this can help in prediction problems! That said, remember that you are now in _log_ space, which means that you must un-transform (i.e. with `np.exp`) if you, for instance, train a model to log-transformed data but need to interpret in original units."
   ]
  },
  {
   "cell_type": "markdown",
   "metadata": {},
   "source": [
    "Let's take a look at another continuous column, `capital_gain`. "
   ]
  },
  {
   "cell_type": "code",
   "execution_count": 46,
   "metadata": {},
   "outputs": [
    {
     "data": {
      "image/png": "[encoded data removed]",
      "text/plain": [
       "<Figure size 792x576 with 1 Axes>"
      ]
     },
     "metadata": {
      "needs_background": "light"
     },
     "output_type": "display_data"
    }
   ],
   "source": [
    "ax = table.capital_gain.hist(figsize=(11, 8), color=\"steelblue\", bins=100)\n",
    "ax.title.set_text(\"histogram: capital gain\")"
   ]
  },
  {
   "cell_type": "markdown",
   "metadata": {},
   "source": [
    "Wowza! How many people in this data set even have a non-zero capital_gain?"
   ]
  },
  {
   "cell_type": "code",
   "execution_count": 47,
   "metadata": {
    "scrolled": true
   },
   "outputs": [
    {
     "data": {
      "text/plain": [
       "2712"
      ]
     },
     "execution_count": 47,
     "metadata": {},
     "output_type": "execute_result"
    }
   ],
   "source": [
    "(table.capital_gain > 0).sum()"
   ]
  },
  {
   "cell_type": "markdown",
   "metadata": {},
   "source": [
    "So, less than 10% of the data. I wonder if a similar situation exists for `capital_loss`?"
   ]
  },
  {
   "cell_type": "markdown",
   "metadata": {},
   "source": [
    "### --"
   ]
  },
  {
   "cell_type": "markdown",
   "metadata": {},
   "source": [
    "### Problem\n",
    "\n",
    "Determine the percentage of people in the data who have a non-zero value for `capital_loss`.\n",
    "\n",
    "Then, confirm whether or not there is overlap between `capital_gain` and `capital_loss`. Hint: to check multiple conditions, each must be wrapped in its own set of paranetheses; you can use `|` for _or_ and `&` for _and_, depending on how you'd like to structure the conditions.\n",
    "\n",
    "Next, create a new column, `capital_gain_net`, that combines the values in `capital_gain` and `capital_loss`. Visualize the results and do a quick write-up on what you have found. Feel free to home in on particular sections of the chart. "
   ]
  },
  {
   "cell_type": "markdown",
   "metadata": {},
   "source": [
    "### --"
   ]
  },
  {
   "cell_type": "markdown",
   "metadata": {},
   "source": [
    "### Relational data analysis: the _group by_\n",
    "\n",
    "Anyone who's done SQL before knows how valuable the _group by_ can be. \n",
    "\n",
    "For those unfamiliar, the basic idea is that you take column of categorical data, and group another column of data around it. Or, put differently, you bucket one column's data based on what values are, in each row, for some other column. And then, you apply some sort of aggregation function. \n",
    "\n",
    "Let's look at an example. Here, we'll look at average `capital_gain` when income is over $50K vs. when it's not:"
   ]
  },
  {
   "cell_type": "code",
   "execution_count": 55,
   "metadata": {},
   "outputs": [
    {
     "data": {
      "text/html": [
       "<div>\n",
       "<style scoped>\n",
       "    .dataframe tbody tr th:only-of-type {\n",
       "        vertical-align: middle;\n",
       "    }\n",
       "\n",
       "    .dataframe tbody tr th {\n",
       "        vertical-align: top;\n",
       "    }\n",
       "\n",
       "    .dataframe thead th {\n",
       "        text-align: right;\n",
       "    }\n",
       "</style>\n",
       "<table border=\"1\" class=\"dataframe\">\n",
       "  <thead>\n",
       "    <tr style=\"text-align: right;\">\n",
       "      <th></th>\n",
       "      <th>capital_gain</th>\n",
       "    </tr>\n",
       "    <tr>\n",
       "      <th>over_fifty_k_bool</th>\n",
       "      <th></th>\n",
       "    </tr>\n",
       "  </thead>\n",
       "  <tbody>\n",
       "    <tr>\n",
       "      <th>False</th>\n",
       "      <td>148.884970</td>\n",
       "    </tr>\n",
       "    <tr>\n",
       "      <th>True</th>\n",
       "      <td>4007.164562</td>\n",
       "    </tr>\n",
       "  </tbody>\n",
       "</table>\n",
       "</div>"
      ],
      "text/plain": [
       "                   capital_gain\n",
       "over_fifty_k_bool              \n",
       "False                148.884970\n",
       "True                4007.164562"
      ]
     },
     "execution_count": 55,
     "metadata": {},
     "output_type": "execute_result"
    }
   ],
   "source": [
    "table[[\"over_fifty_k_bool\", \"capital_gain\"]\n",
    "      ].groupby(\"over_fifty_k_bool\"\n",
    "      ).mean()"
   ]
  },
  {
   "cell_type": "markdown",
   "metadata": {},
   "source": [
    "Interesting, or maybe, not? Folks earning over $50K per year had, on average, much higher capital gains. \n",
    "\n",
    "Let's throw standard deviation into the mix, which is always good to do as the mean alone can be misleading (see: skewness). First, we'll save our previous result into a new variable (I'm prefixing the variable name with an underscore so as to avoid cluttering the namespace):"
   ]
  },
  {
   "cell_type": "code",
   "execution_count": 56,
   "metadata": {},
   "outputs": [],
   "source": [
    "_cap_gains_means = table[[\"over_fifty_k_bool\", \"capital_gain\"]\n",
    "                        ].groupby(\"over_fifty_k_bool\").mean()"
   ]
  },
  {
   "cell_type": "markdown",
   "metadata": {},
   "source": [
    "Next, let's rename the column so as to avoid ambiguity:"
   ]
  },
  {
   "cell_type": "code",
   "execution_count": 57,
   "metadata": {},
   "outputs": [],
   "source": [
    "_cap_gains_means = _cap_gains_means.rename(\n",
    "                            columns={\"capital_gain\": \"capital_gain_mean\"})"
   ]
  },
  {
   "cell_type": "code",
   "execution_count": 58,
   "metadata": {},
   "outputs": [
    {
     "data": {
      "text/plain": [
       "Index(['capital_gain_mean'], dtype='object')"
      ]
     },
     "execution_count": 58,
     "metadata": {},
     "output_type": "execute_result"
    }
   ],
   "source": [
    "_cap_gains_means.columns"
   ]
  },
  {
   "cell_type": "markdown",
   "metadata": {},
   "source": [
    "Note that we could have achieved the same result by running: `_cap_gains_means.columns = [\"capital_gain_mean\"]`"
   ]
  },
  {
   "cell_type": "markdown",
   "metadata": {},
   "source": [
    "Next, let's create the standard deviation result:"
   ]
  },
  {
   "cell_type": "code",
   "execution_count": 59,
   "metadata": {},
   "outputs": [],
   "source": [
    "_cap_gains_std = table[[\"over_fifty_k_bool\", \"capital_gain\"]\n",
    "                        ].groupby(\"over_fifty_k_bool\").std()"
   ]
  },
  {
   "cell_type": "code",
   "execution_count": 60,
   "metadata": {},
   "outputs": [],
   "source": [
    "_cap_gains_std = _cap_gains_std.rename(\n",
    "    columns={\"capital_gain\": \"capital_gain_std\"})"
   ]
  },
  {
   "cell_type": "markdown",
   "metadata": {},
   "source": [
    "Finally, we can _join_ these tables together. For those unfamiliar, this is another important SQL concept in which we, using a common column (in this case, the row index), concatenate the columns of two (or more) tables together."
   ]
  },
  {
   "cell_type": "code",
   "execution_count": 61,
   "metadata": {
    "scrolled": true
   },
   "outputs": [
    {
     "data": {
      "text/html": [
       "<div>\n",
       "<style scoped>\n",
       "    .dataframe tbody tr th:only-of-type {\n",
       "        vertical-align: middle;\n",
       "    }\n",
       "\n",
       "    .dataframe tbody tr th {\n",
       "        vertical-align: top;\n",
       "    }\n",
       "\n",
       "    .dataframe thead th {\n",
       "        text-align: right;\n",
       "    }\n",
       "</style>\n",
       "<table border=\"1\" class=\"dataframe\">\n",
       "  <thead>\n",
       "    <tr style=\"text-align: right;\">\n",
       "      <th></th>\n",
       "      <th>capital_gain_mean</th>\n",
       "      <th>capital_gain_std</th>\n",
       "    </tr>\n",
       "    <tr>\n",
       "      <th>over_fifty_k_bool</th>\n",
       "      <th></th>\n",
       "      <th></th>\n",
       "    </tr>\n",
       "  </thead>\n",
       "  <tbody>\n",
       "    <tr>\n",
       "      <th>False</th>\n",
       "      <td>148.884970</td>\n",
       "      <td>963.557955</td>\n",
       "    </tr>\n",
       "    <tr>\n",
       "      <th>True</th>\n",
       "      <td>4007.164562</td>\n",
       "      <td>14572.097223</td>\n",
       "    </tr>\n",
       "  </tbody>\n",
       "</table>\n",
       "</div>"
      ],
      "text/plain": [
       "                   capital_gain_mean  capital_gain_std\n",
       "over_fifty_k_bool                                     \n",
       "False                     148.884970        963.557955\n",
       "True                     4007.164562      14572.097223"
      ]
     },
     "execution_count": 61,
     "metadata": {},
     "output_type": "execute_result"
    }
   ],
   "source": [
    "_cap_gains_means.join(_cap_gains_std)"
   ]
  },
  {
   "cell_type": "markdown",
   "metadata": {},
   "source": [
    "So, we have a much higher _average_ `capital_gain` with higher income, but also much more _volatility_. Let's quanitfy that on a relative basis."
   ]
  },
  {
   "cell_type": "code",
   "execution_count": 62,
   "metadata": {},
   "outputs": [],
   "source": [
    "_cap_gains_joined = _cap_gains_means.join(_cap_gains_std)"
   ]
  },
  {
   "cell_type": "code",
   "execution_count": 63,
   "metadata": {},
   "outputs": [],
   "source": [
    "_cap_gains_joined[\"cap_gains_ratio\"] = (\n",
    "                                _cap_gains_joined.capital_gain_std /\n",
    "                                _cap_gains_joined.capital_gain_mean\n",
    "                            )"
   ]
  },
  {
   "cell_type": "code",
   "execution_count": 64,
   "metadata": {
    "scrolled": true
   },
   "outputs": [
    {
     "data": {
      "text/html": [
       "<div>\n",
       "<style scoped>\n",
       "    .dataframe tbody tr th:only-of-type {\n",
       "        vertical-align: middle;\n",
       "    }\n",
       "\n",
       "    .dataframe tbody tr th {\n",
       "        vertical-align: top;\n",
       "    }\n",
       "\n",
       "    .dataframe thead th {\n",
       "        text-align: right;\n",
       "    }\n",
       "</style>\n",
       "<table border=\"1\" class=\"dataframe\">\n",
       "  <thead>\n",
       "    <tr style=\"text-align: right;\">\n",
       "      <th></th>\n",
       "      <th>capital_gain_mean</th>\n",
       "      <th>capital_gain_std</th>\n",
       "      <th>cap_gains_ratio</th>\n",
       "    </tr>\n",
       "    <tr>\n",
       "      <th>over_fifty_k_bool</th>\n",
       "      <th></th>\n",
       "      <th></th>\n",
       "      <th></th>\n",
       "    </tr>\n",
       "  </thead>\n",
       "  <tbody>\n",
       "    <tr>\n",
       "      <th>False</th>\n",
       "      <td>148.884970</td>\n",
       "      <td>963.557955</td>\n",
       "      <td>6.471828</td>\n",
       "    </tr>\n",
       "    <tr>\n",
       "      <th>True</th>\n",
       "      <td>4007.164562</td>\n",
       "      <td>14572.097223</td>\n",
       "      <td>3.636511</td>\n",
       "    </tr>\n",
       "  </tbody>\n",
       "</table>\n",
       "</div>"
      ],
      "text/plain": [
       "                   capital_gain_mean  capital_gain_std  cap_gains_ratio\n",
       "over_fifty_k_bool                                                      \n",
       "False                     148.884970        963.557955         6.471828\n",
       "True                     4007.164562      14572.097223         3.636511"
      ]
     },
     "execution_count": 64,
     "metadata": {},
     "output_type": "execute_result"
    }
   ],
   "source": [
    "_cap_gains_joined"
   ]
  },
  {
   "cell_type": "markdown",
   "metadata": {},
   "source": [
    "Interesting - *proportionately*, the low-income folks have more volatility.\n",
    "\n",
    "Some **important** takeaways:\n",
    "- always consider a mean alongside standard deviation\n",
    "- thinking relatively (and thinking carefully about what your denominator is) can be very important\n",
    "\n",
    "Do you think we could replicate this anlysis for our other numeric columns? Now, before we do that ... based on our knowledge of the data, we've (hopefully) noticed that `education` and `education_num` are, for all intents and purposes, identical - so let's kill one from `table`:"
   ]
  },
  {
   "cell_type": "code",
   "execution_count": 65,
   "metadata": {},
   "outputs": [],
   "source": [
    "table = table.drop(\"education_num\", axis=1)"
   ]
  },
  {
   "cell_type": "markdown",
   "metadata": {},
   "source": [
    "### --"
   ]
  },
  {
   "cell_type": "markdown",
   "metadata": {},
   "source": [
    "### Problem\n",
    "\n",
    "Replicate the above group-by analysis, which we performed on `capital_gain`, on the other numeric columns in the data. Do this as programmatically as you can. Bonus points if you can figure out a way to measure the disparity between the results where `over_fifty_k` is `True`, and where it's `False`"
   ]
  },
  {
   "cell_type": "markdown",
   "metadata": {},
   "source": [
    "### --"
   ]
  },
  {
   "cell_type": "markdown",
   "metadata": {},
   "source": [
    "### Relational data analysis: _cross tabulations_\n",
    "\n",
    "Can we do something similar for categorical data?"
   ]
  },
  {
   "cell_type": "code",
   "execution_count": 73,
   "metadata": {
    "scrolled": true
   },
   "outputs": [
    {
     "data": {
      "text/html": [
       "<div>\n",
       "<style scoped>\n",
       "    .dataframe tbody tr th:only-of-type {\n",
       "        vertical-align: middle;\n",
       "    }\n",
       "\n",
       "    .dataframe tbody tr th {\n",
       "        vertical-align: top;\n",
       "    }\n",
       "\n",
       "    .dataframe thead th {\n",
       "        text-align: right;\n",
       "    }\n",
       "</style>\n",
       "<table border=\"1\" class=\"dataframe\">\n",
       "  <thead>\n",
       "    <tr style=\"text-align: right;\">\n",
       "      <th>over_fifty_k_bool</th>\n",
       "      <th>False</th>\n",
       "      <th>True</th>\n",
       "    </tr>\n",
       "    <tr>\n",
       "      <th>marital_status</th>\n",
       "      <th></th>\n",
       "      <th></th>\n",
       "    </tr>\n",
       "  </thead>\n",
       "  <tbody>\n",
       "    <tr>\n",
       "      <th>Divorced</th>\n",
       "      <td>3978</td>\n",
       "      <td>463</td>\n",
       "    </tr>\n",
       "    <tr>\n",
       "      <th>Married-AF-spouse</th>\n",
       "      <td>13</td>\n",
       "      <td>10</td>\n",
       "    </tr>\n",
       "    <tr>\n",
       "      <th>Married-civ-spouse</th>\n",
       "      <td>8280</td>\n",
       "      <td>6690</td>\n",
       "    </tr>\n",
       "    <tr>\n",
       "      <th>Married-spouse-absent</th>\n",
       "      <td>384</td>\n",
       "      <td>34</td>\n",
       "    </tr>\n",
       "    <tr>\n",
       "      <th>Never-married</th>\n",
       "      <td>10176</td>\n",
       "      <td>491</td>\n",
       "    </tr>\n",
       "    <tr>\n",
       "      <th>Separated</th>\n",
       "      <td>959</td>\n",
       "      <td>66</td>\n",
       "    </tr>\n",
       "    <tr>\n",
       "      <th>Widowed</th>\n",
       "      <td>908</td>\n",
       "      <td>85</td>\n",
       "    </tr>\n",
       "  </tbody>\n",
       "</table>\n",
       "</div>"
      ],
      "text/plain": [
       "over_fifty_k_bool      False  True\n",
       "marital_status                    \n",
       "Divorced                3978   463\n",
       "Married-AF-spouse         13    10\n",
       "Married-civ-spouse      8280  6690\n",
       "Married-spouse-absent    384    34\n",
       "Never-married          10176   491\n",
       "Separated                959    66\n",
       "Widowed                  908    85"
      ]
     },
     "execution_count": 73,
     "metadata": {},
     "output_type": "execute_result"
    }
   ],
   "source": [
    "pd.crosstab(table.over_fifty_k_bool, table.marital_status).T"
   ]
  },
  {
   "cell_type": "markdown",
   "metadata": {},
   "source": [
    "The `pd.crosstab` function allows us to break down data into groups, based on the values the passed rows take for each of two columns, and returns the count for each group."
   ]
  },
  {
   "cell_type": "markdown",
   "metadata": {},
   "source": [
    "Let's save these results:"
   ]
  },
  {
   "cell_type": "code",
   "execution_count": 74,
   "metadata": {},
   "outputs": [],
   "source": [
    "_cross_tabs = pd.crosstab(table.over_fifty_k_bool, table.marital_status).T"
   ]
  },
  {
   "cell_type": "markdown",
   "metadata": {},
   "source": [
    "Get relative counts:"
   ]
  },
  {
   "cell_type": "code",
   "execution_count": 75,
   "metadata": {},
   "outputs": [],
   "source": [
    "_cross_tabs = _cross_tabs / len(table)"
   ]
  },
  {
   "cell_type": "markdown",
   "metadata": {},
   "source": [
    "Confirm our counts make sense:"
   ]
  },
  {
   "cell_type": "code",
   "execution_count": 76,
   "metadata": {},
   "outputs": [
    {
     "data": {
      "text/html": [
       "<div>\n",
       "<style scoped>\n",
       "    .dataframe tbody tr th:only-of-type {\n",
       "        vertical-align: middle;\n",
       "    }\n",
       "\n",
       "    .dataframe tbody tr th {\n",
       "        vertical-align: top;\n",
       "    }\n",
       "\n",
       "    .dataframe thead th {\n",
       "        text-align: right;\n",
       "    }\n",
       "</style>\n",
       "<table border=\"1\" class=\"dataframe\">\n",
       "  <thead>\n",
       "    <tr style=\"text-align: right;\">\n",
       "      <th>over_fifty_k_bool</th>\n",
       "      <th>False</th>\n",
       "      <th>True</th>\n",
       "    </tr>\n",
       "    <tr>\n",
       "      <th>marital_status</th>\n",
       "      <th></th>\n",
       "      <th></th>\n",
       "    </tr>\n",
       "  </thead>\n",
       "  <tbody>\n",
       "    <tr>\n",
       "      <th>Divorced</th>\n",
       "      <td>0.122261</td>\n",
       "      <td>0.014230</td>\n",
       "    </tr>\n",
       "    <tr>\n",
       "      <th>Married-AF-spouse</th>\n",
       "      <td>0.000400</td>\n",
       "      <td>0.000307</td>\n",
       "    </tr>\n",
       "    <tr>\n",
       "      <th>Married-civ-spouse</th>\n",
       "      <td>0.254480</td>\n",
       "      <td>0.205612</td>\n",
       "    </tr>\n",
       "    <tr>\n",
       "      <th>Married-spouse-absent</th>\n",
       "      <td>0.011802</td>\n",
       "      <td>0.001045</td>\n",
       "    </tr>\n",
       "    <tr>\n",
       "      <th>Never-married</th>\n",
       "      <td>0.312752</td>\n",
       "      <td>0.015091</td>\n",
       "    </tr>\n",
       "    <tr>\n",
       "      <th>Separated</th>\n",
       "      <td>0.029474</td>\n",
       "      <td>0.002028</td>\n",
       "    </tr>\n",
       "    <tr>\n",
       "      <th>Widowed</th>\n",
       "      <td>0.027907</td>\n",
       "      <td>0.002612</td>\n",
       "    </tr>\n",
       "  </tbody>\n",
       "</table>\n",
       "</div>"
      ],
      "text/plain": [
       "over_fifty_k_bool         False      True\n",
       "marital_status                           \n",
       "Divorced               0.122261  0.014230\n",
       "Married-AF-spouse      0.000400  0.000307\n",
       "Married-civ-spouse     0.254480  0.205612\n",
       "Married-spouse-absent  0.011802  0.001045\n",
       "Never-married          0.312752  0.015091\n",
       "Separated              0.029474  0.002028\n",
       "Widowed                0.027907  0.002612"
      ]
     },
     "execution_count": 76,
     "metadata": {},
     "output_type": "execute_result"
    }
   ],
   "source": [
    "_cross_tabs"
   ]
  },
  {
   "cell_type": "code",
   "execution_count": 77,
   "metadata": {},
   "outputs": [
    {
     "data": {
      "text/plain": [
       "1.0"
      ]
     },
     "execution_count": 77,
     "metadata": {},
     "output_type": "execute_result"
    }
   ],
   "source": [
    "_cross_tabs.sum().sum()"
   ]
  },
  {
   "cell_type": "markdown",
   "metadata": {},
   "source": [
    "Visualize results:"
   ]
  },
  {
   "cell_type": "code",
   "execution_count": 78,
   "metadata": {},
   "outputs": [
    {
     "data": {
      "image/png": "[encoded data removed]",
      "text/plain": [
       "<Figure size 792x576 with 1 Axes>"
      ]
     },
     "metadata": {
      "needs_background": "light"
     },
     "output_type": "display_data"
    }
   ],
   "source": [
    "ax = _cross_tabs.plot.barh(figsize=(11, 8), color=[\"steelblue\", \"purple\"])"
   ]
  },
  {
   "cell_type": "markdown",
   "metadata": {},
   "source": [
    "Can we go even further, tabulating more than two columns? In fact, we can:"
   ]
  },
  {
   "cell_type": "code",
   "execution_count": 79,
   "metadata": {},
   "outputs": [
    {
     "data": {
      "text/html": [
       "<div>\n",
       "<style scoped>\n",
       "    .dataframe tbody tr th:only-of-type {\n",
       "        vertical-align: middle;\n",
       "    }\n",
       "\n",
       "    .dataframe tbody tr th {\n",
       "        vertical-align: top;\n",
       "    }\n",
       "\n",
       "    .dataframe thead th {\n",
       "        text-align: right;\n",
       "    }\n",
       "</style>\n",
       "<table border=\"1\" class=\"dataframe\">\n",
       "  <thead>\n",
       "    <tr style=\"text-align: right;\">\n",
       "      <th></th>\n",
       "      <th></th>\n",
       "      <th></th>\n",
       "      <th>0</th>\n",
       "    </tr>\n",
       "    <tr>\n",
       "      <th>over_fifty_k_bool</th>\n",
       "      <th>marital_status</th>\n",
       "      <th>sex</th>\n",
       "      <th></th>\n",
       "    </tr>\n",
       "  </thead>\n",
       "  <tbody>\n",
       "    <tr>\n",
       "      <th rowspan=\"14\" valign=\"top\">False</th>\n",
       "      <th rowspan=\"2\" valign=\"top\">Divorced</th>\n",
       "      <th>Female</th>\n",
       "      <td>2491</td>\n",
       "    </tr>\n",
       "    <tr>\n",
       "      <th>Male</th>\n",
       "      <td>1487</td>\n",
       "    </tr>\n",
       "    <tr>\n",
       "      <th rowspan=\"2\" valign=\"top\">Married-AF-spouse</th>\n",
       "      <th>Female</th>\n",
       "      <td>8</td>\n",
       "    </tr>\n",
       "    <tr>\n",
       "      <th>Male</th>\n",
       "      <td>5</td>\n",
       "    </tr>\n",
       "    <tr>\n",
       "      <th rowspan=\"2\" valign=\"top\">Married-civ-spouse</th>\n",
       "      <th>Female</th>\n",
       "      <td>903</td>\n",
       "    </tr>\n",
       "    <tr>\n",
       "      <th>Male</th>\n",
       "      <td>7377</td>\n",
       "    </tr>\n",
       "    <tr>\n",
       "      <th rowspan=\"2\" valign=\"top\">Married-spouse-absent</th>\n",
       "      <th>Female</th>\n",
       "      <td>194</td>\n",
       "    </tr>\n",
       "    <tr>\n",
       "      <th>Male</th>\n",
       "      <td>190</td>\n",
       "    </tr>\n",
       "    <tr>\n",
       "      <th rowspan=\"2\" valign=\"top\">Never-married</th>\n",
       "      <th>Female</th>\n",
       "      <td>4594</td>\n",
       "    </tr>\n",
       "    <tr>\n",
       "      <th>Male</th>\n",
       "      <td>5582</td>\n",
       "    </tr>\n",
       "    <tr>\n",
       "      <th rowspan=\"2\" valign=\"top\">Separated</th>\n",
       "      <th>Female</th>\n",
       "      <td>614</td>\n",
       "    </tr>\n",
       "    <tr>\n",
       "      <th>Male</th>\n",
       "      <td>345</td>\n",
       "    </tr>\n",
       "    <tr>\n",
       "      <th rowspan=\"2\" valign=\"top\">Widowed</th>\n",
       "      <th>Female</th>\n",
       "      <td>779</td>\n",
       "    </tr>\n",
       "    <tr>\n",
       "      <th>Male</th>\n",
       "      <td>129</td>\n",
       "    </tr>\n",
       "    <tr>\n",
       "      <th rowspan=\"14\" valign=\"top\">True</th>\n",
       "      <th rowspan=\"2\" valign=\"top\">Divorced</th>\n",
       "      <th>Female</th>\n",
       "      <td>179</td>\n",
       "    </tr>\n",
       "    <tr>\n",
       "      <th>Male</th>\n",
       "      <td>284</td>\n",
       "    </tr>\n",
       "    <tr>\n",
       "      <th rowspan=\"2\" valign=\"top\">Married-AF-spouse</th>\n",
       "      <th>Female</th>\n",
       "      <td>6</td>\n",
       "    </tr>\n",
       "    <tr>\n",
       "      <th>Male</th>\n",
       "      <td>4</td>\n",
       "    </tr>\n",
       "    <tr>\n",
       "      <th rowspan=\"2\" valign=\"top\">Married-civ-spouse</th>\n",
       "      <th>Female</th>\n",
       "      <td>754</td>\n",
       "    </tr>\n",
       "    <tr>\n",
       "      <th>Male</th>\n",
       "      <td>5936</td>\n",
       "    </tr>\n",
       "    <tr>\n",
       "      <th rowspan=\"2\" valign=\"top\">Married-spouse-absent</th>\n",
       "      <th>Female</th>\n",
       "      <td>11</td>\n",
       "    </tr>\n",
       "    <tr>\n",
       "      <th>Male</th>\n",
       "      <td>23</td>\n",
       "    </tr>\n",
       "    <tr>\n",
       "      <th rowspan=\"2\" valign=\"top\">Never-married</th>\n",
       "      <th>Female</th>\n",
       "      <td>166</td>\n",
       "    </tr>\n",
       "    <tr>\n",
       "      <th>Male</th>\n",
       "      <td>325</td>\n",
       "    </tr>\n",
       "    <tr>\n",
       "      <th rowspan=\"2\" valign=\"top\">Separated</th>\n",
       "      <th>Female</th>\n",
       "      <td>17</td>\n",
       "    </tr>\n",
       "    <tr>\n",
       "      <th>Male</th>\n",
       "      <td>49</td>\n",
       "    </tr>\n",
       "    <tr>\n",
       "      <th rowspan=\"2\" valign=\"top\">Widowed</th>\n",
       "      <th>Female</th>\n",
       "      <td>46</td>\n",
       "    </tr>\n",
       "    <tr>\n",
       "      <th>Male</th>\n",
       "      <td>39</td>\n",
       "    </tr>\n",
       "  </tbody>\n",
       "</table>\n",
       "</div>"
      ],
      "text/plain": [
       "                                                   0\n",
       "over_fifty_k_bool marital_status        sex         \n",
       "False             Divorced              Female  2491\n",
       "                                        Male    1487\n",
       "                  Married-AF-spouse     Female     8\n",
       "                                        Male       5\n",
       "                  Married-civ-spouse    Female   903\n",
       "                                        Male    7377\n",
       "                  Married-spouse-absent Female   194\n",
       "                                        Male     190\n",
       "                  Never-married         Female  4594\n",
       "                                        Male    5582\n",
       "                  Separated             Female   614\n",
       "                                        Male     345\n",
       "                  Widowed               Female   779\n",
       "                                        Male     129\n",
       "True              Divorced              Female   179\n",
       "                                        Male     284\n",
       "                  Married-AF-spouse     Female     6\n",
       "                                        Male       4\n",
       "                  Married-civ-spouse    Female   754\n",
       "                                        Male    5936\n",
       "                  Married-spouse-absent Female    11\n",
       "                                        Male      23\n",
       "                  Never-married         Female   166\n",
       "                                        Male     325\n",
       "                  Separated             Female    17\n",
       "                                        Male      49\n",
       "                  Widowed               Female    46\n",
       "                                        Male      39"
      ]
     },
     "execution_count": 79,
     "metadata": {},
     "output_type": "execute_result"
    }
   ],
   "source": [
    "table[[\"over_fifty_k_bool\", \"marital_status\", \"sex\"]\n",
    "     ].groupby([\"over_fifty_k_bool\", \"marital_status\", \"sex\"]\n",
    "     ).size().to_frame()"
   ]
  },
  {
   "cell_type": "markdown",
   "metadata": {},
   "source": [
    "Look at that monstrosity! Can we make it make a little more sense? Let's save it and give it a name:"
   ]
  },
  {
   "cell_type": "code",
   "execution_count": 80,
   "metadata": {},
   "outputs": [],
   "source": [
    "_multi_tab = table[[\"over_fifty_k\", \"marital_status\", \"sex\"]\n",
    "                     ].groupby([\"over_fifty_k\", \"marital_status\", \"sex\"]\n",
    "                     ).size().rename(\"size\")"
   ]
  },
  {
   "cell_type": "markdown",
   "metadata": {},
   "source": [
    "Using the `unstack` method, we can pop one of our row-level breakdowns into a columnar breakdown:"
   ]
  },
  {
   "cell_type": "code",
   "execution_count": 81,
   "metadata": {},
   "outputs": [
    {
     "data": {
      "text/html": [
       "<div>\n",
       "<style scoped>\n",
       "    .dataframe tbody tr th:only-of-type {\n",
       "        vertical-align: middle;\n",
       "    }\n",
       "\n",
       "    .dataframe tbody tr th {\n",
       "        vertical-align: top;\n",
       "    }\n",
       "\n",
       "    .dataframe thead th {\n",
       "        text-align: right;\n",
       "    }\n",
       "</style>\n",
       "<table border=\"1\" class=\"dataframe\">\n",
       "  <thead>\n",
       "    <tr style=\"text-align: right;\">\n",
       "      <th></th>\n",
       "      <th>sex</th>\n",
       "      <th>Female</th>\n",
       "      <th>Male</th>\n",
       "    </tr>\n",
       "    <tr>\n",
       "      <th>over_fifty_k</th>\n",
       "      <th>marital_status</th>\n",
       "      <th></th>\n",
       "      <th></th>\n",
       "    </tr>\n",
       "  </thead>\n",
       "  <tbody>\n",
       "    <tr>\n",
       "      <th rowspan=\"7\" valign=\"top\">&lt;=50K</th>\n",
       "      <th>Divorced</th>\n",
       "      <td>2491</td>\n",
       "      <td>1487</td>\n",
       "    </tr>\n",
       "    <tr>\n",
       "      <th>Married-AF-spouse</th>\n",
       "      <td>8</td>\n",
       "      <td>5</td>\n",
       "    </tr>\n",
       "    <tr>\n",
       "      <th>Married-civ-spouse</th>\n",
       "      <td>903</td>\n",
       "      <td>7377</td>\n",
       "    </tr>\n",
       "    <tr>\n",
       "      <th>Married-spouse-absent</th>\n",
       "      <td>194</td>\n",
       "      <td>190</td>\n",
       "    </tr>\n",
       "    <tr>\n",
       "      <th>Never-married</th>\n",
       "      <td>4594</td>\n",
       "      <td>5582</td>\n",
       "    </tr>\n",
       "    <tr>\n",
       "      <th>Separated</th>\n",
       "      <td>614</td>\n",
       "      <td>345</td>\n",
       "    </tr>\n",
       "    <tr>\n",
       "      <th>Widowed</th>\n",
       "      <td>779</td>\n",
       "      <td>129</td>\n",
       "    </tr>\n",
       "    <tr>\n",
       "      <th rowspan=\"7\" valign=\"top\">&gt;50K</th>\n",
       "      <th>Divorced</th>\n",
       "      <td>179</td>\n",
       "      <td>284</td>\n",
       "    </tr>\n",
       "    <tr>\n",
       "      <th>Married-AF-spouse</th>\n",
       "      <td>6</td>\n",
       "      <td>4</td>\n",
       "    </tr>\n",
       "    <tr>\n",
       "      <th>Married-civ-spouse</th>\n",
       "      <td>754</td>\n",
       "      <td>5936</td>\n",
       "    </tr>\n",
       "    <tr>\n",
       "      <th>Married-spouse-absent</th>\n",
       "      <td>11</td>\n",
       "      <td>23</td>\n",
       "    </tr>\n",
       "    <tr>\n",
       "      <th>Never-married</th>\n",
       "      <td>166</td>\n",
       "      <td>325</td>\n",
       "    </tr>\n",
       "    <tr>\n",
       "      <th>Separated</th>\n",
       "      <td>17</td>\n",
       "      <td>49</td>\n",
       "    </tr>\n",
       "    <tr>\n",
       "      <th>Widowed</th>\n",
       "      <td>46</td>\n",
       "      <td>39</td>\n",
       "    </tr>\n",
       "  </tbody>\n",
       "</table>\n",
       "</div>"
      ],
      "text/plain": [
       "sex                                 Female  Male\n",
       "over_fifty_k marital_status                     \n",
       "<=50K        Divorced                 2491  1487\n",
       "             Married-AF-spouse           8     5\n",
       "             Married-civ-spouse        903  7377\n",
       "             Married-spouse-absent     194   190\n",
       "             Never-married            4594  5582\n",
       "             Separated                 614   345\n",
       "             Widowed                   779   129\n",
       ">50K         Divorced                  179   284\n",
       "             Married-AF-spouse           6     4\n",
       "             Married-civ-spouse        754  5936\n",
       "             Married-spouse-absent      11    23\n",
       "             Never-married             166   325\n",
       "             Separated                  17    49\n",
       "             Widowed                    46    39"
      ]
     },
     "execution_count": 81,
     "metadata": {},
     "output_type": "execute_result"
    }
   ],
   "source": [
    "_multi_tab.unstack()"
   ]
  },
  {
   "cell_type": "markdown",
   "metadata": {},
   "source": [
    "We can pick which level we pop out, too:"
   ]
  },
  {
   "cell_type": "code",
   "execution_count": 82,
   "metadata": {},
   "outputs": [
    {
     "data": {
      "text/html": [
       "<div>\n",
       "<style scoped>\n",
       "    .dataframe tbody tr th:only-of-type {\n",
       "        vertical-align: middle;\n",
       "    }\n",
       "\n",
       "    .dataframe tbody tr th {\n",
       "        vertical-align: top;\n",
       "    }\n",
       "\n",
       "    .dataframe thead th {\n",
       "        text-align: right;\n",
       "    }\n",
       "</style>\n",
       "<table border=\"1\" class=\"dataframe\">\n",
       "  <thead>\n",
       "    <tr style=\"text-align: right;\">\n",
       "      <th></th>\n",
       "      <th>over_fifty_k</th>\n",
       "      <th>&lt;=50K</th>\n",
       "      <th>&gt;50K</th>\n",
       "    </tr>\n",
       "    <tr>\n",
       "      <th>marital_status</th>\n",
       "      <th>sex</th>\n",
       "      <th></th>\n",
       "      <th></th>\n",
       "    </tr>\n",
       "  </thead>\n",
       "  <tbody>\n",
       "    <tr>\n",
       "      <th rowspan=\"2\" valign=\"top\">Divorced</th>\n",
       "      <th>Female</th>\n",
       "      <td>2491</td>\n",
       "      <td>179</td>\n",
       "    </tr>\n",
       "    <tr>\n",
       "      <th>Male</th>\n",
       "      <td>1487</td>\n",
       "      <td>284</td>\n",
       "    </tr>\n",
       "    <tr>\n",
       "      <th rowspan=\"2\" valign=\"top\">Married-AF-spouse</th>\n",
       "      <th>Female</th>\n",
       "      <td>8</td>\n",
       "      <td>6</td>\n",
       "    </tr>\n",
       "    <tr>\n",
       "      <th>Male</th>\n",
       "      <td>5</td>\n",
       "      <td>4</td>\n",
       "    </tr>\n",
       "    <tr>\n",
       "      <th rowspan=\"2\" valign=\"top\">Married-civ-spouse</th>\n",
       "      <th>Female</th>\n",
       "      <td>903</td>\n",
       "      <td>754</td>\n",
       "    </tr>\n",
       "    <tr>\n",
       "      <th>Male</th>\n",
       "      <td>7377</td>\n",
       "      <td>5936</td>\n",
       "    </tr>\n",
       "    <tr>\n",
       "      <th rowspan=\"2\" valign=\"top\">Married-spouse-absent</th>\n",
       "      <th>Female</th>\n",
       "      <td>194</td>\n",
       "      <td>11</td>\n",
       "    </tr>\n",
       "    <tr>\n",
       "      <th>Male</th>\n",
       "      <td>190</td>\n",
       "      <td>23</td>\n",
       "    </tr>\n",
       "    <tr>\n",
       "      <th rowspan=\"2\" valign=\"top\">Never-married</th>\n",
       "      <th>Female</th>\n",
       "      <td>4594</td>\n",
       "      <td>166</td>\n",
       "    </tr>\n",
       "    <tr>\n",
       "      <th>Male</th>\n",
       "      <td>5582</td>\n",
       "      <td>325</td>\n",
       "    </tr>\n",
       "    <tr>\n",
       "      <th rowspan=\"2\" valign=\"top\">Separated</th>\n",
       "      <th>Female</th>\n",
       "      <td>614</td>\n",
       "      <td>17</td>\n",
       "    </tr>\n",
       "    <tr>\n",
       "      <th>Male</th>\n",
       "      <td>345</td>\n",
       "      <td>49</td>\n",
       "    </tr>\n",
       "    <tr>\n",
       "      <th rowspan=\"2\" valign=\"top\">Widowed</th>\n",
       "      <th>Female</th>\n",
       "      <td>779</td>\n",
       "      <td>46</td>\n",
       "    </tr>\n",
       "    <tr>\n",
       "      <th>Male</th>\n",
       "      <td>129</td>\n",
       "      <td>39</td>\n",
       "    </tr>\n",
       "  </tbody>\n",
       "</table>\n",
       "</div>"
      ],
      "text/plain": [
       "over_fifty_k                  <=50K  >50K\n",
       "marital_status        sex                \n",
       "Divorced              Female   2491   179\n",
       "                      Male     1487   284\n",
       "Married-AF-spouse     Female      8     6\n",
       "                      Male        5     4\n",
       "Married-civ-spouse    Female    903   754\n",
       "                      Male     7377  5936\n",
       "Married-spouse-absent Female    194    11\n",
       "                      Male      190    23\n",
       "Never-married         Female   4594   166\n",
       "                      Male     5582   325\n",
       "Separated             Female    614    17\n",
       "                      Male      345    49\n",
       "Widowed               Female    779    46\n",
       "                      Male      129    39"
      ]
     },
     "execution_count": 82,
     "metadata": {},
     "output_type": "execute_result"
    }
   ],
   "source": [
    "_multi_tab.unstack(0)"
   ]
  },
  {
   "cell_type": "markdown",
   "metadata": {},
   "source": [
    "And if we'd like to pop it back in:"
   ]
  },
  {
   "cell_type": "code",
   "execution_count": 83,
   "metadata": {},
   "outputs": [
    {
     "data": {
      "text/plain": [
       "marital_status         sex     over_fifty_k\n",
       "Divorced               Female  <=50K           2491\n",
       "                               >50K             179\n",
       "                       Male    <=50K           1487\n",
       "                               >50K             284\n",
       "Married-AF-spouse      Female  <=50K              8\n",
       "                               >50K               6\n",
       "                       Male    <=50K              5\n",
       "                               >50K               4\n",
       "Married-civ-spouse     Female  <=50K            903\n",
       "                               >50K             754\n",
       "                       Male    <=50K           7377\n",
       "                               >50K            5936\n",
       "Married-spouse-absent  Female  <=50K            194\n",
       "                               >50K              11\n",
       "                       Male    <=50K            190\n",
       "                               >50K              23\n",
       "Never-married          Female  <=50K           4594\n",
       "                               >50K             166\n",
       "                       Male    <=50K           5582\n",
       "                               >50K             325\n",
       "Separated              Female  <=50K            614\n",
       "                               >50K              17\n",
       "                       Male    <=50K            345\n",
       "                               >50K              49\n",
       "Widowed                Female  <=50K            779\n",
       "                               >50K              46\n",
       "                       Male    <=50K            129\n",
       "                               >50K              39\n",
       "dtype: int64"
      ]
     },
     "execution_count": 83,
     "metadata": {},
     "output_type": "execute_result"
    }
   ],
   "source": [
    "_multi_tab.unstack(0).stack()"
   ]
  },
  {
   "cell_type": "markdown",
   "metadata": {},
   "source": [
    "So, we could do this _all_ day (for many, many days...), but let's move on to feature selection. Before we go..."
   ]
  },
  {
   "cell_type": "markdown",
   "metadata": {},
   "source": [
    "### --"
   ]
  },
  {
   "cell_type": "markdown",
   "metadata": {},
   "source": [
    "### Problem\n",
    "\n",
    "Think about the analyses we've performed and whether you wish we'd given any of them more time. Think about some more columns you might engineer out of the data we've got, and add _at least two_ new columns to `table`."
   ]
  },
  {
   "cell_type": "markdown",
   "metadata": {},
   "source": [
    "### --"
   ]
  },
  {
   "cell_type": "markdown",
   "metadata": {},
   "source": [
    "# 3. Feature Selection\n",
    "\n",
    "Choosing the right set of features can bring many benefits.\n",
    "\n",
    "Some models don't work well with redundancy, so you'll want to choose features that are not too inter-related. Additionally, some datasets contain many, many columns, and reducing the amount of inputs to your model can drastically reduce the time it takes to prep your data and train your model. \n",
    "\n",
    "The benefits go on. In this case, we have a pretty simple feature set, but it will still help us to get a sense of what's the most predictive, which features overlap the most with other features, etc.\n",
    "\n",
    "It should be noted that, when developing predictive models, you always need to be careful to *not base your performance benchmarks off of what you're training your models on*, and that goes even for feature selection - it's one thing to look at the entire dataset when you're exploring and looking for problems, but it's another to be programmatically making decisions around what to include in a model.\n",
    "\n",
    "So we will start by taking 10% of our data out and putting it on the back burner - only for use at the very end, once we've already decided what our model and feature set are and once we're ready to just report performance estimates. We will take this 10% out _randomly_ and with respect to the _natural stratification_ of our target's clases (i.e. with respect for the balance of `True` / `False` in `over_fifty_k_bool`)."
   ]
  },
  {
   "cell_type": "code",
   "execution_count": 87,
   "metadata": {},
   "outputs": [
    {
     "data": {
      "text/plain": [
       "False    0.759074\n",
       "True     0.240926\n",
       "Name: over_fifty_k_bool, dtype: float64"
      ]
     },
     "execution_count": 87,
     "metadata": {},
     "output_type": "execute_result"
    }
   ],
   "source": [
    "table.over_fifty_k_bool.value_counts(normalize=True)"
   ]
  },
  {
   "cell_type": "markdown",
   "metadata": {},
   "source": [
    "Here, we lean on `sklearn` for the random, stratified sampling:"
   ]
  },
  {
   "cell_type": "code",
   "execution_count": 88,
   "metadata": {},
   "outputs": [],
   "source": [
    "train_inds, test_inds = train_test_split(table.index, test_size=.1, stratify=table.over_fifty_k_bool)"
   ]
  },
  {
   "cell_type": "markdown",
   "metadata": {},
   "source": [
    "Next, we filter out any columns starting with `\"over_fifty_k\"` as we want to remove those from our feature set:"
   ]
  },
  {
   "cell_type": "code",
   "execution_count": 89,
   "metadata": {},
   "outputs": [],
   "source": [
    "table_train = table.loc[train_inds, [c for c in table.columns if not c.startswith(\"over_fifty_k\")]]"
   ]
  },
  {
   "cell_type": "code",
   "execution_count": 90,
   "metadata": {
    "scrolled": true
   },
   "outputs": [
    {
     "data": {
      "text/plain": [
       "Index(['age', 'workclass', 'fnlwgt', 'education', 'marital_status',\n",
       "       'occupation', 'relationship', 'race', 'sex', 'capital_gain',\n",
       "       'capital_loss', 'hours_per_week', 'native_country', 'capital_gain_net',\n",
       "       'is_capital_gain', 'age_rounded'],\n",
       "      dtype='object')"
      ]
     },
     "execution_count": 90,
     "metadata": {},
     "output_type": "execute_result"
    }
   ],
   "source": [
    "table_train.columns"
   ]
  },
  {
   "cell_type": "markdown",
   "metadata": {},
   "source": [
    "We'll keep this as our `y`:"
   ]
  },
  {
   "cell_type": "code",
   "execution_count": 91,
   "metadata": {},
   "outputs": [],
   "source": [
    "fifty_k_train = table.loc[train_inds, \"over_fifty_k_bool\"]"
   ]
  },
  {
   "cell_type": "markdown",
   "metadata": {},
   "source": [
    "### Feature redundancy\n",
    "\n",
    "Let's start with looking at feature redundancy. There are many ways to do this, and one approach is to leverage *Euclidean distance*, which, between two vectors $p$ and $q$ is $\\sqrt{ \\sum_{i}^n (q_{i} - p_{i})^2}$\n",
    "\n",
    "You might recognize this from the Pythagorean Theorem and this is a generalization of that idea. We are solving for the distance of the straight line that exists between each of the pairwise combinations of features in the data, where each row represents a \"dimension\" of measurement.\n",
    "\n",
    "Why might one pursue this approach? _Correlation_ (Pearson's Coefficient, specifically) measures both direction and magnitude of a relationship between two variables; this method breaks down in the face of categorical data, for whom calculating magnitude (or even direction) may not be sensible. Thus, a more abstract measure of \"distance\" proves useful with mixed-type data.\n",
    "\n",
    "See more [here](https://en.wikipedia.org/wiki/Euclidean_distance).\n",
    "\n",
    "Let's work through some functionality to calculate this measure."
   ]
  },
  {
   "cell_type": "code",
   "execution_count": 92,
   "metadata": {},
   "outputs": [],
   "source": [
    "import itertools\n",
    "from sklearn.preprocessing import MinMaxScaler\n",
    "\n",
    "\n",
    "def euclidean(feature_one, feature_two):\n",
    "    \"\"\"\n",
    "    Returns Euclidean distance between the two passed features. Both\n",
    "    are assumed to be of type `pd.Series` or uni-column `pd.DataFrame`.\n",
    "    \"\"\"\n",
    "    return np.sqrt(\n",
    "                (feature_one - feature_two).pow(2).sum()\n",
    "            )\n",
    "\n",
    "\n",
    "def get_feature_iter_func(flat):\n",
    "    \"\"\"\n",
    "    Helper function to determine what type of iteration to perform across two\n",
    "    features. Takes `bool` as input.\n",
    "    \"\"\"\n",
    "    if flat:\n",
    "        return lambda feature_names: itertools.combinations(feature_names, 2)\n",
    "    else:\n",
    "        return lambda feature_names: itertools.product(feature_names, feature_names)\n",
    "\n",
    "\n",
    "def normalize_min_max(df):\n",
    "    \"\"\"\n",
    "    Uses min-max normalization to scale passed `pd.DataFrame` of values. Returns\n",
    "    `pd.DataFrame` of transformed values with original row and column labels.\n",
    "    \"\"\"\n",
    "    cols = df.columns\n",
    "    inds = df.index\n",
    "\n",
    "    arr = MinMaxScaler().fit_transform(df)\n",
    "    return pd.DataFrame(arr, columns=cols, index=inds)\n",
    "\n",
    "\n",
    "def feature_distances(distance_func):\n",
    "    \"\"\"\n",
    "    Decorator for functions that calculate feature distances.\n",
    "    `distance_func` is assumed to take as input, two features, likely in\n",
    "    following the terms laid out in `euclidean`.\n",
    "    This function will iterate through either the Cartesian Product (with\n",
    "    `flat=True`) or all combinations of 2 (`flat=False`) of the specific\n",
    "    features of the passed `DataFrame`. It will then return a nicely\n",
    "    formatted `DataFrame` of results.\n",
    "    Description of `inner` arguments, in order:\n",
    "    - `pd.DataFrame` of data\n",
    "    - `feature_names_list`, a list of  columns in `df` to compare\n",
    "    - `flat`, boolean denoting result display style\n",
    "    - `normalize_data`, which determines whether to min-max-scale data\n",
    "    \"\"\"\n",
    "    def inner(df, feature_names_list, flat=True, normalize_data=True):\n",
    "        if normalize_data:\n",
    "            df = normalize_min_max(df[feature_names_list].astype(float))\n",
    "\n",
    "        iter_func = get_feature_iter_func(flat)\n",
    "\n",
    "        scores = [(f1, f2, distance_func(df[f1], df[f2]))\n",
    "                  for f1, f2 in iter_func(feature_names_list)]\n",
    "\n",
    "        scores_df = pd.DataFrame(scores, columns=[\"feature_one\",\n",
    "                                                  \"feature_two\",\n",
    "                                                  f\"{distance_func.__name__}\"])\n",
    "\n",
    "        if flat:\n",
    "            scores_df = scores_df.set_index([\"feature_one\",\n",
    "                                             \"feature_two\"]\n",
    "                                ).sort_values(f\"{distance_func.__name__}\", \n",
    "                                              ascending=False)\n",
    "\n",
    "        else:\n",
    "            scores_df = scores_df.pivot(index='feature_one', \n",
    "                                        columns='feature_two', \n",
    "                                        values=f\"{distance_func.__name__}\")\n",
    "\n",
    "        return scores_df\n",
    "\n",
    "    return inner\n",
    "\n",
    "\n",
    "@feature_distances\n",
    "def euclidean_distances(feature_one, feature_two, **kwargs):\n",
    "    \"\"\"\n",
    "    Wrapper allowing for running `euclidean` across many feature pairs.\n",
    "    See `feature_distances` for more detail on how to pass arguments,\n",
    "    and `euclidean` for details on metric calculation.\n",
    "    \"\"\"\n",
    "    return euclidean(feature_one, feature_two)"
   ]
  },
  {
   "cell_type": "code",
   "execution_count": 93,
   "metadata": {},
   "outputs": [],
   "source": [
    "euclideans = euclidean_distances(\n",
    "                            table_train, # DataFrame\n",
    "                            table_train.select_dtypes(include=[int, float, bool]).columns # column names\n",
    "                        )"
   ]
  },
  {
   "cell_type": "code",
   "execution_count": 94,
   "metadata": {
    "scrolled": true
   },
   "outputs": [
    {
     "data": {
      "text/plain": [
       "(28, 1)"
      ]
     },
     "execution_count": 94,
     "metadata": {},
     "output_type": "execute_result"
    }
   ],
   "source": [
    "euclideans.shape"
   ]
  },
  {
   "cell_type": "markdown",
   "metadata": {},
   "source": [
    "So what are we looking for here? We want to find the features that are too \"close\" together (i.e. the value for `euclidean_distances` is small):"
   ]
  },
  {
   "cell_type": "code",
   "execution_count": 95,
   "metadata": {},
   "outputs": [
    {
     "data": {
      "text/html": [
       "<div>\n",
       "<style scoped>\n",
       "    .dataframe tbody tr th:only-of-type {\n",
       "        vertical-align: middle;\n",
       "    }\n",
       "\n",
       "    .dataframe tbody tr th {\n",
       "        vertical-align: top;\n",
       "    }\n",
       "\n",
       "    .dataframe thead th {\n",
       "        text-align: right;\n",
       "    }\n",
       "</style>\n",
       "<table border=\"1\" class=\"dataframe\">\n",
       "  <thead>\n",
       "    <tr style=\"text-align: right;\">\n",
       "      <th></th>\n",
       "      <th></th>\n",
       "      <th>euclidean_distances</th>\n",
       "    </tr>\n",
       "    <tr>\n",
       "      <th>feature_one</th>\n",
       "      <th>feature_two</th>\n",
       "      <th></th>\n",
       "    </tr>\n",
       "  </thead>\n",
       "  <tbody>\n",
       "    <tr>\n",
       "      <th>hours_per_week</th>\n",
       "      <th>is_capital_gain</th>\n",
       "      <td>74.411005</td>\n",
       "    </tr>\n",
       "    <tr>\n",
       "      <th>capital_gain</th>\n",
       "      <th>hours_per_week</th>\n",
       "      <td>71.261225</td>\n",
       "    </tr>\n",
       "    <tr>\n",
       "      <th>capital_loss</th>\n",
       "      <th>hours_per_week</th>\n",
       "      <td>70.463103</td>\n",
       "    </tr>\n",
       "    <tr>\n",
       "      <th>age</th>\n",
       "      <th>is_capital_gain</th>\n",
       "      <td>65.028980</td>\n",
       "    </tr>\n",
       "    <tr>\n",
       "      <th>hours_per_week</th>\n",
       "      <th>capital_gain_net</th>\n",
       "      <td>64.723695</td>\n",
       "    </tr>\n",
       "    <tr>\n",
       "      <th>is_capital_gain</th>\n",
       "      <th>age_rounded</th>\n",
       "      <td>63.243617</td>\n",
       "    </tr>\n",
       "    <tr>\n",
       "      <th rowspan=\"2\" valign=\"top\">age</th>\n",
       "      <th>capital_gain</th>\n",
       "      <td>59.202386</td>\n",
       "    </tr>\n",
       "    <tr>\n",
       "      <th>capital_loss</th>\n",
       "      <td>58.693449</td>\n",
       "    </tr>\n",
       "    <tr>\n",
       "      <th>capital_gain</th>\n",
       "      <th>age_rounded</th>\n",
       "      <td>56.221869</td>\n",
       "    </tr>\n",
       "    <tr>\n",
       "      <th>capital_loss</th>\n",
       "      <th>age_rounded</th>\n",
       "      <td>55.849478</td>\n",
       "    </tr>\n",
       "    <tr>\n",
       "      <th>fnlwgt</th>\n",
       "      <th>hours_per_week</th>\n",
       "      <td>54.405377</td>\n",
       "    </tr>\n",
       "    <tr>\n",
       "      <th>age</th>\n",
       "      <th>capital_gain_net</th>\n",
       "      <td>53.575569</td>\n",
       "    </tr>\n",
       "    <tr>\n",
       "      <th>capital_loss</th>\n",
       "      <th>is_capital_gain</th>\n",
       "      <td>52.149098</td>\n",
       "    </tr>\n",
       "    <tr>\n",
       "      <th>capital_gain_net</th>\n",
       "      <th>age_rounded</th>\n",
       "      <td>50.995886</td>\n",
       "    </tr>\n",
       "    <tr>\n",
       "      <th>fnlwgt</th>\n",
       "      <th>is_capital_gain</th>\n",
       "      <td>49.472241</td>\n",
       "    </tr>\n",
       "    <tr>\n",
       "      <th>age</th>\n",
       "      <th>fnlwgt</th>\n",
       "      <td>46.213291</td>\n",
       "    </tr>\n",
       "    <tr>\n",
       "      <th>hours_per_week</th>\n",
       "      <th>age_rounded</th>\n",
       "      <td>45.885050</td>\n",
       "    </tr>\n",
       "    <tr>\n",
       "      <th>fnlwgt</th>\n",
       "      <th>age_rounded</th>\n",
       "      <td>44.727167</td>\n",
       "    </tr>\n",
       "    <tr>\n",
       "      <th>capital_gain</th>\n",
       "      <th>is_capital_gain</th>\n",
       "      <td>44.556013</td>\n",
       "    </tr>\n",
       "    <tr>\n",
       "      <th>capital_gain_net</th>\n",
       "      <th>is_capital_gain</th>\n",
       "      <td>43.221720</td>\n",
       "    </tr>\n",
       "    <tr>\n",
       "      <th>age</th>\n",
       "      <th>hours_per_week</th>\n",
       "      <td>41.617678</td>\n",
       "    </tr>\n",
       "    <tr>\n",
       "      <th rowspan=\"2\" valign=\"top\">fnlwgt</th>\n",
       "      <th>capital_loss</th>\n",
       "      <td>26.440063</td>\n",
       "    </tr>\n",
       "    <tr>\n",
       "      <th>capital_gain</th>\n",
       "      <td>25.694800</td>\n",
       "    </tr>\n",
       "    <tr>\n",
       "      <th>capital_loss</th>\n",
       "      <th>capital_gain_net</th>\n",
       "      <td>21.477232</td>\n",
       "    </tr>\n",
       "    <tr>\n",
       "      <th>fnlwgt</th>\n",
       "      <th>capital_gain_net</th>\n",
       "      <td>20.892833</td>\n",
       "    </tr>\n",
       "    <tr>\n",
       "      <th>capital_gain</th>\n",
       "      <th>capital_loss</th>\n",
       "      <td>20.660519</td>\n",
       "    </tr>\n",
       "    <tr>\n",
       "      <th>age</th>\n",
       "      <th>age_rounded</th>\n",
       "      <td>8.943991</td>\n",
       "    </tr>\n",
       "    <tr>\n",
       "      <th>capital_gain</th>\n",
       "      <th>capital_gain_net</th>\n",
       "      <td>6.972445</td>\n",
       "    </tr>\n",
       "  </tbody>\n",
       "</table>\n",
       "</div>"
      ],
      "text/plain": [
       "                                   euclidean_distances\n",
       "feature_one      feature_two                          \n",
       "hours_per_week   is_capital_gain             74.411005\n",
       "capital_gain     hours_per_week              71.261225\n",
       "capital_loss     hours_per_week              70.463103\n",
       "age              is_capital_gain             65.028980\n",
       "hours_per_week   capital_gain_net            64.723695\n",
       "is_capital_gain  age_rounded                 63.243617\n",
       "age              capital_gain                59.202386\n",
       "                 capital_loss                58.693449\n",
       "capital_gain     age_rounded                 56.221869\n",
       "capital_loss     age_rounded                 55.849478\n",
       "fnlwgt           hours_per_week              54.405377\n",
       "age              capital_gain_net            53.575569\n",
       "capital_loss     is_capital_gain             52.149098\n",
       "capital_gain_net age_rounded                 50.995886\n",
       "fnlwgt           is_capital_gain             49.472241\n",
       "age              fnlwgt                      46.213291\n",
       "hours_per_week   age_rounded                 45.885050\n",
       "fnlwgt           age_rounded                 44.727167\n",
       "capital_gain     is_capital_gain             44.556013\n",
       "capital_gain_net is_capital_gain             43.221720\n",
       "age              hours_per_week              41.617678\n",
       "fnlwgt           capital_loss                26.440063\n",
       "                 capital_gain                25.694800\n",
       "capital_loss     capital_gain_net            21.477232\n",
       "fnlwgt           capital_gain_net            20.892833\n",
       "capital_gain     capital_loss                20.660519\n",
       "age              age_rounded                  8.943991\n",
       "capital_gain     capital_gain_net             6.972445"
      ]
     },
     "execution_count": 95,
     "metadata": {},
     "output_type": "execute_result"
    }
   ],
   "source": [
    "euclideans"
   ]
  },
  {
   "cell_type": "code",
   "execution_count": 96,
   "metadata": {
    "scrolled": true
   },
   "outputs": [
    {
     "data": {
      "text/html": [
       "<div>\n",
       "<style scoped>\n",
       "    .dataframe tbody tr th:only-of-type {\n",
       "        vertical-align: middle;\n",
       "    }\n",
       "\n",
       "    .dataframe tbody tr th {\n",
       "        vertical-align: top;\n",
       "    }\n",
       "\n",
       "    .dataframe thead th {\n",
       "        text-align: right;\n",
       "    }\n",
       "</style>\n",
       "<table border=\"1\" class=\"dataframe\">\n",
       "  <thead>\n",
       "    <tr style=\"text-align: right;\">\n",
       "      <th></th>\n",
       "      <th>euclidean_distances</th>\n",
       "    </tr>\n",
       "  </thead>\n",
       "  <tbody>\n",
       "    <tr>\n",
       "      <th>count</th>\n",
       "      <td>28.000000</td>\n",
       "    </tr>\n",
       "    <tr>\n",
       "      <th>mean</th>\n",
       "      <td>46.321421</td>\n",
       "    </tr>\n",
       "    <tr>\n",
       "      <th>std</th>\n",
       "      <td>18.645207</td>\n",
       "    </tr>\n",
       "    <tr>\n",
       "      <th>min</th>\n",
       "      <td>6.972445</td>\n",
       "    </tr>\n",
       "    <tr>\n",
       "      <th>25%</th>\n",
       "      <td>37.823275</td>\n",
       "    </tr>\n",
       "    <tr>\n",
       "      <th>50%</th>\n",
       "      <td>50.234063</td>\n",
       "    </tr>\n",
       "    <tr>\n",
       "      <th>75%</th>\n",
       "      <td>58.820683</td>\n",
       "    </tr>\n",
       "    <tr>\n",
       "      <th>max</th>\n",
       "      <td>74.411005</td>\n",
       "    </tr>\n",
       "  </tbody>\n",
       "</table>\n",
       "</div>"
      ],
      "text/plain": [
       "       euclidean_distances\n",
       "count            28.000000\n",
       "mean             46.321421\n",
       "std              18.645207\n",
       "min               6.972445\n",
       "25%              37.823275\n",
       "50%              50.234063\n",
       "75%              58.820683\n",
       "max              74.411005"
      ]
     },
     "execution_count": 96,
     "metadata": {},
     "output_type": "execute_result"
    }
   ],
   "source": [
    "euclideans.describe()"
   ]
  },
  {
   "cell_type": "markdown",
   "metadata": {},
   "source": [
    "There are diffrent approaches we could take in deciding what is too small:\n",
    "- pick some statistic (e.g. the `mean`, or the `25th percentile`) and use that as a cutoff\n",
    "- create a histogram, and look for upper bound of the first \"chunk\"\n",
    "- look at the data and take a more heuristic approach\n",
    "\n",
    "I'm going to start by cutting to below the 25th percentile:"
   ]
  },
  {
   "cell_type": "code",
   "execution_count": 97,
   "metadata": {},
   "outputs": [],
   "source": [
    "cutoff = euclideans.euclidean_distances.quantile(.25)"
   ]
  },
  {
   "cell_type": "code",
   "execution_count": 98,
   "metadata": {
    "scrolled": true
   },
   "outputs": [
    {
     "data": {
      "text/html": [
       "<div>\n",
       "<style scoped>\n",
       "    .dataframe tbody tr th:only-of-type {\n",
       "        vertical-align: middle;\n",
       "    }\n",
       "\n",
       "    .dataframe tbody tr th {\n",
       "        vertical-align: top;\n",
       "    }\n",
       "\n",
       "    .dataframe thead th {\n",
       "        text-align: right;\n",
       "    }\n",
       "</style>\n",
       "<table border=\"1\" class=\"dataframe\">\n",
       "  <thead>\n",
       "    <tr style=\"text-align: right;\">\n",
       "      <th></th>\n",
       "      <th></th>\n",
       "      <th>euclidean_distances</th>\n",
       "    </tr>\n",
       "    <tr>\n",
       "      <th>feature_one</th>\n",
       "      <th>feature_two</th>\n",
       "      <th></th>\n",
       "    </tr>\n",
       "  </thead>\n",
       "  <tbody>\n",
       "    <tr>\n",
       "      <th rowspan=\"2\" valign=\"top\">fnlwgt</th>\n",
       "      <th>capital_loss</th>\n",
       "      <td>26.440063</td>\n",
       "    </tr>\n",
       "    <tr>\n",
       "      <th>capital_gain</th>\n",
       "      <td>25.694800</td>\n",
       "    </tr>\n",
       "    <tr>\n",
       "      <th>capital_loss</th>\n",
       "      <th>capital_gain_net</th>\n",
       "      <td>21.477232</td>\n",
       "    </tr>\n",
       "    <tr>\n",
       "      <th>fnlwgt</th>\n",
       "      <th>capital_gain_net</th>\n",
       "      <td>20.892833</td>\n",
       "    </tr>\n",
       "    <tr>\n",
       "      <th>capital_gain</th>\n",
       "      <th>capital_loss</th>\n",
       "      <td>20.660519</td>\n",
       "    </tr>\n",
       "    <tr>\n",
       "      <th>age</th>\n",
       "      <th>age_rounded</th>\n",
       "      <td>8.943991</td>\n",
       "    </tr>\n",
       "    <tr>\n",
       "      <th>capital_gain</th>\n",
       "      <th>capital_gain_net</th>\n",
       "      <td>6.972445</td>\n",
       "    </tr>\n",
       "  </tbody>\n",
       "</table>\n",
       "</div>"
      ],
      "text/plain": [
       "                               euclidean_distances\n",
       "feature_one  feature_two                          \n",
       "fnlwgt       capital_loss                26.440063\n",
       "             capital_gain                25.694800\n",
       "capital_loss capital_gain_net            21.477232\n",
       "fnlwgt       capital_gain_net            20.892833\n",
       "capital_gain capital_loss                20.660519\n",
       "age          age_rounded                  8.943991\n",
       "capital_gain capital_gain_net             6.972445"
      ]
     },
     "execution_count": 98,
     "metadata": {},
     "output_type": "execute_result"
    }
   ],
   "source": [
    "euclideans[euclideans.euclidean_distances < cutoff]"
   ]
  },
  {
   "cell_type": "markdown",
   "metadata": {},
   "source": [
    "There are a couple of places that might make for a good cutoff point. Let's get a nice, pairwise view of the features we're trying to remove:"
   ]
  },
  {
   "cell_type": "code",
   "execution_count": 99,
   "metadata": {},
   "outputs": [
    {
     "data": {
      "text/plain": [
       "[('fnlwgt', 'capital_loss'),\n",
       " ('fnlwgt', 'capital_gain'),\n",
       " ('capital_loss', 'capital_gain_net'),\n",
       " ('fnlwgt', 'capital_gain_net'),\n",
       " ('capital_gain', 'capital_loss'),\n",
       " ('age', 'age_rounded'),\n",
       " ('capital_gain', 'capital_gain_net')]"
      ]
     },
     "execution_count": 99,
     "metadata": {},
     "output_type": "execute_result"
    }
   ],
   "source": [
    "list(euclideans[euclideans.euclidean_distances < cutoff].index)"
   ]
  },
  {
   "cell_type": "markdown",
   "metadata": {},
   "source": [
    "There exist some more automated mechanisms we could use for choosing a cutoff point. But, based on the above analysis, I'd definitely consider killing one from each of the above-selected pairs.\n",
    "\n",
    "We can always add these columns back in later. (Let's preserve a copy with all columns before we start eliminating anything.)"
   ]
  },
  {
   "cell_type": "code",
   "execution_count": 100,
   "metadata": {},
   "outputs": [],
   "source": [
    "table_train_copy = table_train.copy()"
   ]
  },
  {
   "cell_type": "markdown",
   "metadata": {},
   "source": [
    "Now, let's remove one feature from each of the above pairs:"
   ]
  },
  {
   "cell_type": "code",
   "execution_count": 101,
   "metadata": {},
   "outputs": [],
   "source": [
    "_pairs_to_kill = list(euclideans[euclideans.euclidean_distances < cutoff].index)"
   ]
  },
  {
   "cell_type": "code",
   "execution_count": 102,
   "metadata": {},
   "outputs": [],
   "source": [
    "_to_kill = list(map(lambda pair: pair[0], _pairs_to_kill))"
   ]
  },
  {
   "cell_type": "code",
   "execution_count": 103,
   "metadata": {},
   "outputs": [
    {
     "data": {
      "text/plain": [
       "['fnlwgt',\n",
       " 'fnlwgt',\n",
       " 'capital_loss',\n",
       " 'fnlwgt',\n",
       " 'capital_gain',\n",
       " 'age',\n",
       " 'capital_gain']"
      ]
     },
     "execution_count": 103,
     "metadata": {},
     "output_type": "execute_result"
    }
   ],
   "source": [
    "_to_kill"
   ]
  },
  {
   "cell_type": "code",
   "execution_count": 104,
   "metadata": {},
   "outputs": [],
   "source": [
    "table_train = table_train.drop(list(set(_to_kill)), axis=1)"
   ]
  },
  {
   "cell_type": "code",
   "execution_count": 105,
   "metadata": {},
   "outputs": [
    {
     "data": {
      "text/plain": [
       "(29283, 12)"
      ]
     },
     "execution_count": 105,
     "metadata": {},
     "output_type": "execute_result"
    }
   ],
   "source": [
    "table_train.shape"
   ]
  },
  {
   "cell_type": "markdown",
   "metadata": {},
   "source": [
    "Again, the concept of \"distance\" works well when you have a combination of numeric and categorical data (as we do) and you're looking for a one-stop shop for eliminating redundant features.\n",
    "\n",
    "\n",
    "To be thorough, you could also check correlations on numerical data. Let's work through how we would use correlation to eliminate certain features, as this could make for a good exercise:"
   ]
  },
  {
   "cell_type": "code",
   "execution_count": 106,
   "metadata": {},
   "outputs": [],
   "source": [
    "corrs = table_train_copy.corr()"
   ]
  },
  {
   "cell_type": "code",
   "execution_count": 107,
   "metadata": {},
   "outputs": [
    {
     "data": {
      "text/html": [
       "<div>\n",
       "<style scoped>\n",
       "    .dataframe tbody tr th:only-of-type {\n",
       "        vertical-align: middle;\n",
       "    }\n",
       "\n",
       "    .dataframe tbody tr th {\n",
       "        vertical-align: top;\n",
       "    }\n",
       "\n",
       "    .dataframe thead th {\n",
       "        text-align: right;\n",
       "    }\n",
       "</style>\n",
       "<table border=\"1\" class=\"dataframe\">\n",
       "  <thead>\n",
       "    <tr style=\"text-align: right;\">\n",
       "      <th></th>\n",
       "      <th>age</th>\n",
       "      <th>fnlwgt</th>\n",
       "      <th>capital_gain</th>\n",
       "      <th>capital_loss</th>\n",
       "      <th>hours_per_week</th>\n",
       "      <th>capital_gain_net</th>\n",
       "      <th>is_capital_gain</th>\n",
       "      <th>age_rounded</th>\n",
       "    </tr>\n",
       "  </thead>\n",
       "  <tbody>\n",
       "    <tr>\n",
       "      <th>age</th>\n",
       "      <td>1.000000</td>\n",
       "      <td>-0.074245</td>\n",
       "      <td>0.074140</td>\n",
       "      <td>0.059319</td>\n",
       "      <td>0.067220</td>\n",
       "      <td>0.070671</td>\n",
       "      <td>0.119502</td>\n",
       "      <td>0.979009</td>\n",
       "    </tr>\n",
       "    <tr>\n",
       "      <th>fnlwgt</th>\n",
       "      <td>-0.074245</td>\n",
       "      <td>1.000000</td>\n",
       "      <td>-0.000643</td>\n",
       "      <td>-0.010014</td>\n",
       "      <td>-0.019685</td>\n",
       "      <td>-0.000095</td>\n",
       "      <td>-0.008112</td>\n",
       "      <td>-0.074537</td>\n",
       "    </tr>\n",
       "    <tr>\n",
       "      <th>capital_gain</th>\n",
       "      <td>0.074140</td>\n",
       "      <td>-0.000643</td>\n",
       "      <td>1.000000</td>\n",
       "      <td>-0.031695</td>\n",
       "      <td>0.078427</td>\n",
       "      <td>0.998516</td>\n",
       "      <td>0.484246</td>\n",
       "      <td>0.074128</td>\n",
       "    </tr>\n",
       "    <tr>\n",
       "      <th>capital_loss</th>\n",
       "      <td>0.059319</td>\n",
       "      <td>-0.010014</td>\n",
       "      <td>-0.031695</td>\n",
       "      <td>1.000000</td>\n",
       "      <td>0.056176</td>\n",
       "      <td>-0.086076</td>\n",
       "      <td>-0.065453</td>\n",
       "      <td>0.058017</td>\n",
       "    </tr>\n",
       "    <tr>\n",
       "      <th>hours_per_week</th>\n",
       "      <td>0.067220</td>\n",
       "      <td>-0.019685</td>\n",
       "      <td>0.078427</td>\n",
       "      <td>0.056176</td>\n",
       "      <td>1.000000</td>\n",
       "      <td>0.075115</td>\n",
       "      <td>0.075337</td>\n",
       "      <td>0.064851</td>\n",
       "    </tr>\n",
       "    <tr>\n",
       "      <th>capital_gain_net</th>\n",
       "      <td>0.070671</td>\n",
       "      <td>-0.000095</td>\n",
       "      <td>0.998516</td>\n",
       "      <td>-0.086076</td>\n",
       "      <td>0.075115</td>\n",
       "      <td>1.000000</td>\n",
       "      <td>0.486258</td>\n",
       "      <td>0.070729</td>\n",
       "    </tr>\n",
       "    <tr>\n",
       "      <th>is_capital_gain</th>\n",
       "      <td>0.119502</td>\n",
       "      <td>-0.008112</td>\n",
       "      <td>0.484246</td>\n",
       "      <td>-0.065453</td>\n",
       "      <td>0.075337</td>\n",
       "      <td>0.486258</td>\n",
       "      <td>1.000000</td>\n",
       "      <td>0.118492</td>\n",
       "    </tr>\n",
       "    <tr>\n",
       "      <th>age_rounded</th>\n",
       "      <td>0.979009</td>\n",
       "      <td>-0.074537</td>\n",
       "      <td>0.074128</td>\n",
       "      <td>0.058017</td>\n",
       "      <td>0.064851</td>\n",
       "      <td>0.070729</td>\n",
       "      <td>0.118492</td>\n",
       "      <td>1.000000</td>\n",
       "    </tr>\n",
       "  </tbody>\n",
       "</table>\n",
       "</div>"
      ],
      "text/plain": [
       "                       age    fnlwgt  capital_gain  capital_loss  \\\n",
       "age               1.000000 -0.074245      0.074140      0.059319   \n",
       "fnlwgt           -0.074245  1.000000     -0.000643     -0.010014   \n",
       "capital_gain      0.074140 -0.000643      1.000000     -0.031695   \n",
       "capital_loss      0.059319 -0.010014     -0.031695      1.000000   \n",
       "hours_per_week    0.067220 -0.019685      0.078427      0.056176   \n",
       "capital_gain_net  0.070671 -0.000095      0.998516     -0.086076   \n",
       "is_capital_gain   0.119502 -0.008112      0.484246     -0.065453   \n",
       "age_rounded       0.979009 -0.074537      0.074128      0.058017   \n",
       "\n",
       "                  hours_per_week  capital_gain_net  is_capital_gain  \\\n",
       "age                     0.067220          0.070671         0.119502   \n",
       "fnlwgt                 -0.019685         -0.000095        -0.008112   \n",
       "capital_gain            0.078427          0.998516         0.484246   \n",
       "capital_loss            0.056176         -0.086076        -0.065453   \n",
       "hours_per_week          1.000000          0.075115         0.075337   \n",
       "capital_gain_net        0.075115          1.000000         0.486258   \n",
       "is_capital_gain         0.075337          0.486258         1.000000   \n",
       "age_rounded             0.064851          0.070729         0.118492   \n",
       "\n",
       "                  age_rounded  \n",
       "age                  0.979009  \n",
       "fnlwgt              -0.074537  \n",
       "capital_gain         0.074128  \n",
       "capital_loss         0.058017  \n",
       "hours_per_week       0.064851  \n",
       "capital_gain_net     0.070729  \n",
       "is_capital_gain      0.118492  \n",
       "age_rounded          1.000000  "
      ]
     },
     "execution_count": 107,
     "metadata": {},
     "output_type": "execute_result"
    }
   ],
   "source": [
    "corrs"
   ]
  },
  {
   "cell_type": "markdown",
   "metadata": {},
   "source": [
    "Notice that only the correlations for numeric data are returned.\n",
    "\n",
    "The correlation matrix above obviously contains redundant information, so let's grab a distinct set of correlation values, which we can achieve through some `numpy` magic. Let's get a representation of our row indices:"
   ]
  },
  {
   "cell_type": "code",
   "execution_count": 108,
   "metadata": {},
   "outputs": [],
   "source": [
    "corr_rows = np.arange(corrs.shape[0])[:,None] "
   ]
  },
  {
   "cell_type": "code",
   "execution_count": 109,
   "metadata": {},
   "outputs": [
    {
     "data": {
      "text/plain": [
       "array([[0],\n",
       "       [1],\n",
       "       [2],\n",
       "       [3],\n",
       "       [4],\n",
       "       [5],\n",
       "       [6],\n",
       "       [7]])"
      ]
     },
     "execution_count": 109,
     "metadata": {},
     "output_type": "execute_result"
    }
   ],
   "source": [
    "corr_rows"
   ]
  },
  {
   "cell_type": "markdown",
   "metadata": {},
   "source": [
    "Now, let's get a representation of our column indices:"
   ]
  },
  {
   "cell_type": "code",
   "execution_count": 110,
   "metadata": {},
   "outputs": [],
   "source": [
    "corr_cols = np.arange(corrs.shape[1])"
   ]
  },
  {
   "cell_type": "code",
   "execution_count": 111,
   "metadata": {},
   "outputs": [
    {
     "data": {
      "text/plain": [
       "array([0, 1, 2, 3, 4, 5, 6, 7])"
      ]
     },
     "execution_count": 111,
     "metadata": {},
     "output_type": "execute_result"
    }
   ],
   "source": [
    "corr_cols"
   ]
  },
  {
   "cell_type": "markdown",
   "metadata": {},
   "source": [
    "Now, we can create a boolean mask (as we've done above with thing like `table.duplicated()` or `table.age > 30`) through checking to see whether each value in `corr_rows` is less than or equal to the corresponding value in `corr_cols`.\n",
    "\n",
    "This mask will select only the *lower triangle* (so redundant values above are eliminated) and even further will not select the diagonal of the matrix. You'll see, shortly, why that's important.\n",
    "\n",
    "Based on how we've set this up, `numpy` will automatically blow this out into a matrix represenation:"
   ]
  },
  {
   "cell_type": "code",
   "execution_count": 112,
   "metadata": {},
   "outputs": [],
   "source": [
    "corr_mask = corr_rows <= corr_cols"
   ]
  },
  {
   "cell_type": "code",
   "execution_count": 113,
   "metadata": {
    "scrolled": true
   },
   "outputs": [
    {
     "data": {
      "text/plain": [
       "array([[ True,  True,  True,  True,  True,  True,  True,  True],\n",
       "       [False,  True,  True,  True,  True,  True,  True,  True],\n",
       "       [False, False,  True,  True,  True,  True,  True,  True],\n",
       "       [False, False, False,  True,  True,  True,  True,  True],\n",
       "       [False, False, False, False,  True,  True,  True,  True],\n",
       "       [False, False, False, False, False,  True,  True,  True],\n",
       "       [False, False, False, False, False, False,  True,  True],\n",
       "       [False, False, False, False, False, False, False,  True]])"
      ]
     },
     "execution_count": 113,
     "metadata": {},
     "output_type": "execute_result"
    }
   ],
   "source": [
    "corr_mask"
   ]
  },
  {
   "cell_type": "markdown",
   "metadata": {},
   "source": [
    "Now, why do we have `False` in the area that (as per the above description) we actually want to select? That has to do with how a function we'll call below (`corrs.mask`) works ... it keeps the passed data wherever there is `False`, and replaces with whatever is specified (defaults to `np.nan`) wherever there is `True`."
   ]
  },
  {
   "cell_type": "code",
   "execution_count": 114,
   "metadata": {
    "scrolled": true
   },
   "outputs": [
    {
     "data": {
      "text/plain": [
       "(8, 8)"
      ]
     },
     "execution_count": 114,
     "metadata": {},
     "output_type": "execute_result"
    }
   ],
   "source": [
    "corr_mask.shape"
   ]
  },
  {
   "cell_type": "code",
   "execution_count": 115,
   "metadata": {
    "scrolled": true
   },
   "outputs": [],
   "source": [
    "corrs_unique = corrs.mask(corr_mask)"
   ]
  },
  {
   "cell_type": "code",
   "execution_count": 116,
   "metadata": {},
   "outputs": [
    {
     "data": {
      "text/html": [
       "<div>\n",
       "<style scoped>\n",
       "    .dataframe tbody tr th:only-of-type {\n",
       "        vertical-align: middle;\n",
       "    }\n",
       "\n",
       "    .dataframe tbody tr th {\n",
       "        vertical-align: top;\n",
       "    }\n",
       "\n",
       "    .dataframe thead th {\n",
       "        text-align: right;\n",
       "    }\n",
       "</style>\n",
       "<table border=\"1\" class=\"dataframe\">\n",
       "  <thead>\n",
       "    <tr style=\"text-align: right;\">\n",
       "      <th></th>\n",
       "      <th>age</th>\n",
       "      <th>fnlwgt</th>\n",
       "      <th>capital_gain</th>\n",
       "      <th>capital_loss</th>\n",
       "      <th>hours_per_week</th>\n",
       "      <th>capital_gain_net</th>\n",
       "      <th>is_capital_gain</th>\n",
       "      <th>age_rounded</th>\n",
       "    </tr>\n",
       "  </thead>\n",
       "  <tbody>\n",
       "    <tr>\n",
       "      <th>age</th>\n",
       "      <td>NaN</td>\n",
       "      <td>NaN</td>\n",
       "      <td>NaN</td>\n",
       "      <td>NaN</td>\n",
       "      <td>NaN</td>\n",
       "      <td>NaN</td>\n",
       "      <td>NaN</td>\n",
       "      <td>NaN</td>\n",
       "    </tr>\n",
       "    <tr>\n",
       "      <th>fnlwgt</th>\n",
       "      <td>-0.074245</td>\n",
       "      <td>NaN</td>\n",
       "      <td>NaN</td>\n",
       "      <td>NaN</td>\n",
       "      <td>NaN</td>\n",
       "      <td>NaN</td>\n",
       "      <td>NaN</td>\n",
       "      <td>NaN</td>\n",
       "    </tr>\n",
       "    <tr>\n",
       "      <th>capital_gain</th>\n",
       "      <td>0.074140</td>\n",
       "      <td>-0.000643</td>\n",
       "      <td>NaN</td>\n",
       "      <td>NaN</td>\n",
       "      <td>NaN</td>\n",
       "      <td>NaN</td>\n",
       "      <td>NaN</td>\n",
       "      <td>NaN</td>\n",
       "    </tr>\n",
       "    <tr>\n",
       "      <th>capital_loss</th>\n",
       "      <td>0.059319</td>\n",
       "      <td>-0.010014</td>\n",
       "      <td>-0.031695</td>\n",
       "      <td>NaN</td>\n",
       "      <td>NaN</td>\n",
       "      <td>NaN</td>\n",
       "      <td>NaN</td>\n",
       "      <td>NaN</td>\n",
       "    </tr>\n",
       "    <tr>\n",
       "      <th>hours_per_week</th>\n",
       "      <td>0.067220</td>\n",
       "      <td>-0.019685</td>\n",
       "      <td>0.078427</td>\n",
       "      <td>0.056176</td>\n",
       "      <td>NaN</td>\n",
       "      <td>NaN</td>\n",
       "      <td>NaN</td>\n",
       "      <td>NaN</td>\n",
       "    </tr>\n",
       "    <tr>\n",
       "      <th>capital_gain_net</th>\n",
       "      <td>0.070671</td>\n",
       "      <td>-0.000095</td>\n",
       "      <td>0.998516</td>\n",
       "      <td>-0.086076</td>\n",
       "      <td>0.075115</td>\n",
       "      <td>NaN</td>\n",
       "      <td>NaN</td>\n",
       "      <td>NaN</td>\n",
       "    </tr>\n",
       "    <tr>\n",
       "      <th>is_capital_gain</th>\n",
       "      <td>0.119502</td>\n",
       "      <td>-0.008112</td>\n",
       "      <td>0.484246</td>\n",
       "      <td>-0.065453</td>\n",
       "      <td>0.075337</td>\n",
       "      <td>0.486258</td>\n",
       "      <td>NaN</td>\n",
       "      <td>NaN</td>\n",
       "    </tr>\n",
       "    <tr>\n",
       "      <th>age_rounded</th>\n",
       "      <td>0.979009</td>\n",
       "      <td>-0.074537</td>\n",
       "      <td>0.074128</td>\n",
       "      <td>0.058017</td>\n",
       "      <td>0.064851</td>\n",
       "      <td>0.070729</td>\n",
       "      <td>0.118492</td>\n",
       "      <td>NaN</td>\n",
       "    </tr>\n",
       "  </tbody>\n",
       "</table>\n",
       "</div>"
      ],
      "text/plain": [
       "                       age    fnlwgt  capital_gain  capital_loss  \\\n",
       "age                    NaN       NaN           NaN           NaN   \n",
       "fnlwgt           -0.074245       NaN           NaN           NaN   \n",
       "capital_gain      0.074140 -0.000643           NaN           NaN   \n",
       "capital_loss      0.059319 -0.010014     -0.031695           NaN   \n",
       "hours_per_week    0.067220 -0.019685      0.078427      0.056176   \n",
       "capital_gain_net  0.070671 -0.000095      0.998516     -0.086076   \n",
       "is_capital_gain   0.119502 -0.008112      0.484246     -0.065453   \n",
       "age_rounded       0.979009 -0.074537      0.074128      0.058017   \n",
       "\n",
       "                  hours_per_week  capital_gain_net  is_capital_gain  \\\n",
       "age                          NaN               NaN              NaN   \n",
       "fnlwgt                       NaN               NaN              NaN   \n",
       "capital_gain                 NaN               NaN              NaN   \n",
       "capital_loss                 NaN               NaN              NaN   \n",
       "hours_per_week               NaN               NaN              NaN   \n",
       "capital_gain_net        0.075115               NaN              NaN   \n",
       "is_capital_gain         0.075337          0.486258              NaN   \n",
       "age_rounded             0.064851          0.070729         0.118492   \n",
       "\n",
       "                  age_rounded  \n",
       "age                       NaN  \n",
       "fnlwgt                    NaN  \n",
       "capital_gain              NaN  \n",
       "capital_loss              NaN  \n",
       "hours_per_week            NaN  \n",
       "capital_gain_net          NaN  \n",
       "is_capital_gain           NaN  \n",
       "age_rounded               NaN  "
      ]
     },
     "execution_count": 116,
     "metadata": {},
     "output_type": "execute_result"
    }
   ],
   "source": [
    "corrs_unique"
   ]
  },
  {
   "cell_type": "markdown",
   "metadata": {},
   "source": [
    "Now we have a correlation matrix with no redeundant values and no diagonal. Why? So that we can get an ordered view that allows us to remove the most-correlated features."
   ]
  },
  {
   "cell_type": "code",
   "execution_count": 117,
   "metadata": {
    "scrolled": true
   },
   "outputs": [
    {
     "data": {
      "text/html": [
       "<div>\n",
       "<style scoped>\n",
       "    .dataframe tbody tr th:only-of-type {\n",
       "        vertical-align: middle;\n",
       "    }\n",
       "\n",
       "    .dataframe tbody tr th {\n",
       "        vertical-align: top;\n",
       "    }\n",
       "\n",
       "    .dataframe thead th {\n",
       "        text-align: right;\n",
       "    }\n",
       "</style>\n",
       "<table border=\"1\" class=\"dataframe\">\n",
       "  <thead>\n",
       "    <tr style=\"text-align: right;\">\n",
       "      <th></th>\n",
       "      <th></th>\n",
       "      <th>correlation</th>\n",
       "    </tr>\n",
       "  </thead>\n",
       "  <tbody>\n",
       "    <tr>\n",
       "      <th>capital_gain</th>\n",
       "      <th>capital_gain_net</th>\n",
       "      <td>0.998516</td>\n",
       "    </tr>\n",
       "    <tr>\n",
       "      <th>age</th>\n",
       "      <th>age_rounded</th>\n",
       "      <td>0.979009</td>\n",
       "    </tr>\n",
       "    <tr>\n",
       "      <th>capital_gain_net</th>\n",
       "      <th>is_capital_gain</th>\n",
       "      <td>0.486258</td>\n",
       "    </tr>\n",
       "    <tr>\n",
       "      <th>capital_gain</th>\n",
       "      <th>is_capital_gain</th>\n",
       "      <td>0.484246</td>\n",
       "    </tr>\n",
       "    <tr>\n",
       "      <th>age</th>\n",
       "      <th>is_capital_gain</th>\n",
       "      <td>0.119502</td>\n",
       "    </tr>\n",
       "    <tr>\n",
       "      <th>is_capital_gain</th>\n",
       "      <th>age_rounded</th>\n",
       "      <td>0.118492</td>\n",
       "    </tr>\n",
       "    <tr>\n",
       "      <th>capital_loss</th>\n",
       "      <th>capital_gain_net</th>\n",
       "      <td>0.086076</td>\n",
       "    </tr>\n",
       "    <tr>\n",
       "      <th>capital_gain</th>\n",
       "      <th>hours_per_week</th>\n",
       "      <td>0.078427</td>\n",
       "    </tr>\n",
       "    <tr>\n",
       "      <th rowspan=\"2\" valign=\"top\">hours_per_week</th>\n",
       "      <th>is_capital_gain</th>\n",
       "      <td>0.075337</td>\n",
       "    </tr>\n",
       "    <tr>\n",
       "      <th>capital_gain_net</th>\n",
       "      <td>0.075115</td>\n",
       "    </tr>\n",
       "  </tbody>\n",
       "</table>\n",
       "</div>"
      ],
      "text/plain": [
       "                                   correlation\n",
       "capital_gain     capital_gain_net     0.998516\n",
       "age              age_rounded          0.979009\n",
       "capital_gain_net is_capital_gain      0.486258\n",
       "capital_gain     is_capital_gain      0.484246\n",
       "age              is_capital_gain      0.119502\n",
       "is_capital_gain  age_rounded          0.118492\n",
       "capital_loss     capital_gain_net     0.086076\n",
       "capital_gain     hours_per_week       0.078427\n",
       "hours_per_week   is_capital_gain      0.075337\n",
       "                 capital_gain_net     0.075115"
      ]
     },
     "execution_count": 117,
     "metadata": {},
     "output_type": "execute_result"
    }
   ],
   "source": [
    "corrs_unique.unstack().rename(\"correlation\").abs().to_frame().sort_values(\"correlation\", ascending=False).head(10)"
   ]
  },
  {
   "cell_type": "markdown",
   "metadata": {},
   "source": [
    "To compare this to the above Euclidean distance method, notice that our very-correlated features line up with some of those that we'd already slated for removal. But, note that some features that we found to be \"close\" are not necessarily *correlated* - interesting, isn't it?\n",
    "\n",
    "Remember that when people say \"correlation\" they are generally referring to *Pearson's correlation coefficient* ([wikipedia](https://en.wikipedia.org/wiki/Correlation_and_dependence#Pearson's_product-moment_coefficient)). To understand how that works, let's first look at [covariance](https://en.wikipedia.org/wiki/Covariance):\n",
    "\n",
    "$$ cov(X, Y) = E[(X - E[X])(Y - E[Y])] $$\n",
    "\n",
    "In English, that's:\n",
    "1. take `X`, and subtract its mean from each of its values\n",
    "2. take `Y`, and subtract its mean from each of its values\n",
    "3. take the product of 1. and 2.\n",
    "4. take the mean of 3.\n",
    "\n",
    "Let's think about how that works ...\n",
    "\n",
    "If $X_{1} - E[X]$ is negative, but $Y_{1} - E[Y]$ is positive, the product of that will be negative. If they're both positive, the product is positive; same for if they're both negative. That's how \"direction\" plays in here. As for \"magnitude\", the bigger the difference between `X` and its mean tends to be, the bigger the *covariance* between X and anything else; ditto for `Y`.\n",
    "\n",
    "Finally, to get correlation from covariance, we scale by the product of the standard deviations of `X` and `Y`, which keeps the result between -1 and 1:\n",
    "\n",
    "$$ corr(X, Y) = \\frac {cov(X, Y)}{\\sigma_X \\sigma_Y}$$"
   ]
  },
  {
   "cell_type": "markdown",
   "metadata": {},
   "source": [
    "### Feature Selection\n",
    "\n",
    "Now, let's get into picking the _good_ features. \n",
    "\n",
    "To do this, we're going to need to do a little data prep. This data prep entails _one-hot_ (or *dummy*) encoding our `object` columns. \n",
    "\n",
    "What this entails is taking a single column of categorical data and converting it into a number of columns - as many columns as there are values for the categorical variable - of boolean data, with a each column representing a particular categorical value.\n",
    "\n",
    "Let's look at an example:"
   ]
  },
  {
   "cell_type": "code",
   "execution_count": 118,
   "metadata": {},
   "outputs": [
    {
     "data": {
      "text/plain": [
       "24765    Female\n",
       "21697      Male\n",
       "31010      Male\n",
       "8266       Male\n",
       "21044      Male\n",
       "Name: sex, dtype: object"
      ]
     },
     "execution_count": 118,
     "metadata": {},
     "output_type": "execute_result"
    }
   ],
   "source": [
    "table_train.sex.head()"
   ]
  },
  {
   "cell_type": "code",
   "execution_count": 119,
   "metadata": {},
   "outputs": [
    {
     "data": {
      "text/html": [
       "<div>\n",
       "<style scoped>\n",
       "    .dataframe tbody tr th:only-of-type {\n",
       "        vertical-align: middle;\n",
       "    }\n",
       "\n",
       "    .dataframe tbody tr th {\n",
       "        vertical-align: top;\n",
       "    }\n",
       "\n",
       "    .dataframe thead th {\n",
       "        text-align: right;\n",
       "    }\n",
       "</style>\n",
       "<table border=\"1\" class=\"dataframe\">\n",
       "  <thead>\n",
       "    <tr style=\"text-align: right;\">\n",
       "      <th></th>\n",
       "      <th>Female</th>\n",
       "      <th>Male</th>\n",
       "    </tr>\n",
       "  </thead>\n",
       "  <tbody>\n",
       "    <tr>\n",
       "      <th>24765</th>\n",
       "      <td>1</td>\n",
       "      <td>0</td>\n",
       "    </tr>\n",
       "    <tr>\n",
       "      <th>21697</th>\n",
       "      <td>0</td>\n",
       "      <td>1</td>\n",
       "    </tr>\n",
       "    <tr>\n",
       "      <th>31010</th>\n",
       "      <td>0</td>\n",
       "      <td>1</td>\n",
       "    </tr>\n",
       "    <tr>\n",
       "      <th>8266</th>\n",
       "      <td>0</td>\n",
       "      <td>1</td>\n",
       "    </tr>\n",
       "    <tr>\n",
       "      <th>21044</th>\n",
       "      <td>0</td>\n",
       "      <td>1</td>\n",
       "    </tr>\n",
       "  </tbody>\n",
       "</table>\n",
       "</div>"
      ],
      "text/plain": [
       "       Female  Male\n",
       "24765       1     0\n",
       "21697       0     1\n",
       "31010       0     1\n",
       "8266        0     1\n",
       "21044       0     1"
      ]
     },
     "execution_count": 119,
     "metadata": {},
     "output_type": "execute_result"
    }
   ],
   "source": [
    "pd.get_dummies(table_train.sex.head())"
   ]
  },
  {
   "cell_type": "markdown",
   "metadata": {},
   "source": [
    "So instead of five rows, each containing `\"Female`\" or `\"Male\"` we now have five rows, each containing a `1` in the `Male` and `0` in the `Female` column if `sex=\"Male\"`, or vice versa if  `sex=\"Female\"`.\n",
    "\n",
    "Note that there does not have to be mutual exclusivity between the columns that result from a one-hot encoding. If there _is_ mutual exlusivity, it is good practice to drop one of your resulting columns, lest you introduce some redundancy into your feature set. E.g. we wouldn't want to represent `over_fifty_k` with two columns `over_fifty_k` and `equal_to_or_under_fifty_k`, right?\n",
    "\n",
    "In this case, we're going to quickly iterate through each `object` column, perform the encoding, and drop one of the resulting columns. We're also going to prefix each of our resulting columns with the name of the column that the value originall came from, to avoid possible name collisions:"
   ]
  },
  {
   "cell_type": "code",
   "execution_count": 120,
   "metadata": {},
   "outputs": [],
   "source": [
    "_one_hots = [\n",
    "                pd.get_dummies(\n",
    "                    table_train[col],\n",
    "                    drop_first=True,\n",
    "                    prefix=col\n",
    "                )\n",
    "             for col in table_train.select_dtypes(include=object).columns]"
   ]
  },
  {
   "cell_type": "markdown",
   "metadata": {},
   "source": [
    "Now we have a list of `pd.DataFrame` objects - let's spot-check the first one:"
   ]
  },
  {
   "cell_type": "code",
   "execution_count": 121,
   "metadata": {},
   "outputs": [
    {
     "data": {
      "text/html": [
       "<div>\n",
       "<style scoped>\n",
       "    .dataframe tbody tr th:only-of-type {\n",
       "        vertical-align: middle;\n",
       "    }\n",
       "\n",
       "    .dataframe tbody tr th {\n",
       "        vertical-align: top;\n",
       "    }\n",
       "\n",
       "    .dataframe thead th {\n",
       "        text-align: right;\n",
       "    }\n",
       "</style>\n",
       "<table border=\"1\" class=\"dataframe\">\n",
       "  <thead>\n",
       "    <tr style=\"text-align: right;\">\n",
       "      <th></th>\n",
       "      <th>workclass_Federal-gov</th>\n",
       "      <th>workclass_Local-gov</th>\n",
       "      <th>workclass_Never-worked</th>\n",
       "    </tr>\n",
       "  </thead>\n",
       "  <tbody>\n",
       "    <tr>\n",
       "      <th>24765</th>\n",
       "      <td>0</td>\n",
       "      <td>0</td>\n",
       "      <td>0</td>\n",
       "    </tr>\n",
       "    <tr>\n",
       "      <th>21697</th>\n",
       "      <td>0</td>\n",
       "      <td>0</td>\n",
       "      <td>0</td>\n",
       "    </tr>\n",
       "    <tr>\n",
       "      <th>31010</th>\n",
       "      <td>0</td>\n",
       "      <td>0</td>\n",
       "      <td>0</td>\n",
       "    </tr>\n",
       "  </tbody>\n",
       "</table>\n",
       "</div>"
      ],
      "text/plain": [
       "       workclass_Federal-gov  workclass_Local-gov  workclass_Never-worked\n",
       "24765                      0                    0                       0\n",
       "21697                      0                    0                       0\n",
       "31010                      0                    0                       0"
      ]
     },
     "execution_count": 121,
     "metadata": {},
     "output_type": "execute_result"
    }
   ],
   "source": [
    "_one_hots[0].iloc[:3, :3]"
   ]
  },
  {
   "cell_type": "markdown",
   "metadata": {},
   "source": [
    "How do we join these dataframes together? One way to do that is through joining the first to the rest:"
   ]
  },
  {
   "cell_type": "code",
   "execution_count": 122,
   "metadata": {},
   "outputs": [],
   "source": [
    "one_hot_df = _one_hots[0].join(_one_hots[1:])"
   ]
  },
  {
   "cell_type": "code",
   "execution_count": 123,
   "metadata": {},
   "outputs": [
    {
     "data": {
      "text/plain": [
       "(29283, 94)"
      ]
     },
     "execution_count": 123,
     "metadata": {},
     "output_type": "execute_result"
    }
   ],
   "source": [
    "one_hot_df.shape"
   ]
  },
  {
   "cell_type": "code",
   "execution_count": 124,
   "metadata": {},
   "outputs": [
    {
     "data": {
      "text/html": [
       "<div>\n",
       "<style scoped>\n",
       "    .dataframe tbody tr th:only-of-type {\n",
       "        vertical-align: middle;\n",
       "    }\n",
       "\n",
       "    .dataframe tbody tr th {\n",
       "        vertical-align: top;\n",
       "    }\n",
       "\n",
       "    .dataframe thead th {\n",
       "        text-align: right;\n",
       "    }\n",
       "</style>\n",
       "<table border=\"1\" class=\"dataframe\">\n",
       "  <thead>\n",
       "    <tr style=\"text-align: right;\">\n",
       "      <th></th>\n",
       "      <th>workclass_Federal-gov</th>\n",
       "      <th>workclass_Local-gov</th>\n",
       "      <th>workclass_Never-worked</th>\n",
       "      <th>workclass_Private</th>\n",
       "      <th>workclass_Self-emp-inc</th>\n",
       "    </tr>\n",
       "  </thead>\n",
       "  <tbody>\n",
       "    <tr>\n",
       "      <th>24765</th>\n",
       "      <td>0</td>\n",
       "      <td>0</td>\n",
       "      <td>0</td>\n",
       "      <td>1</td>\n",
       "      <td>0</td>\n",
       "    </tr>\n",
       "    <tr>\n",
       "      <th>21697</th>\n",
       "      <td>0</td>\n",
       "      <td>0</td>\n",
       "      <td>0</td>\n",
       "      <td>1</td>\n",
       "      <td>0</td>\n",
       "    </tr>\n",
       "    <tr>\n",
       "      <th>31010</th>\n",
       "      <td>0</td>\n",
       "      <td>0</td>\n",
       "      <td>0</td>\n",
       "      <td>1</td>\n",
       "      <td>0</td>\n",
       "    </tr>\n",
       "    <tr>\n",
       "      <th>8266</th>\n",
       "      <td>0</td>\n",
       "      <td>0</td>\n",
       "      <td>0</td>\n",
       "      <td>1</td>\n",
       "      <td>0</td>\n",
       "    </tr>\n",
       "    <tr>\n",
       "      <th>21044</th>\n",
       "      <td>0</td>\n",
       "      <td>0</td>\n",
       "      <td>0</td>\n",
       "      <td>0</td>\n",
       "      <td>1</td>\n",
       "    </tr>\n",
       "  </tbody>\n",
       "</table>\n",
       "</div>"
      ],
      "text/plain": [
       "       workclass_Federal-gov  workclass_Local-gov  workclass_Never-worked  \\\n",
       "24765                      0                    0                       0   \n",
       "21697                      0                    0                       0   \n",
       "31010                      0                    0                       0   \n",
       "8266                       0                    0                       0   \n",
       "21044                      0                    0                       0   \n",
       "\n",
       "       workclass_Private  workclass_Self-emp-inc  \n",
       "24765                  1                       0  \n",
       "21697                  1                       0  \n",
       "31010                  1                       0  \n",
       "8266                   1                       0  \n",
       "21044                  0                       1  "
      ]
     },
     "execution_count": 124,
     "metadata": {},
     "output_type": "execute_result"
    }
   ],
   "source": [
    "one_hot_df.iloc[:5, :5]"
   ]
  },
  {
   "cell_type": "markdown",
   "metadata": {},
   "source": [
    "I am also going to eliminate `-` in the column names, because that can get annoying:"
   ]
  },
  {
   "cell_type": "code",
   "execution_count": 125,
   "metadata": {},
   "outputs": [],
   "source": [
    "one_hot_df.columns = one_hot_df.columns.str.replace(\"-\", \"_\")"
   ]
  },
  {
   "cell_type": "markdown",
   "metadata": {},
   "source": [
    "Now we can create our `X` and `y` variables. For `X`, we'll join the one-hot columns to our numeric data: "
   ]
  },
  {
   "cell_type": "code",
   "execution_count": 126,
   "metadata": {},
   "outputs": [],
   "source": [
    "X = one_hot_df.join(table_train.select_dtypes(include=[int, float]))"
   ]
  },
  {
   "cell_type": "code",
   "execution_count": 127,
   "metadata": {},
   "outputs": [
    {
     "data": {
      "text/plain": [
       "(29283, 97)"
      ]
     },
     "execution_count": 127,
     "metadata": {},
     "output_type": "execute_result"
    }
   ],
   "source": [
    "X.shape"
   ]
  },
  {
   "cell_type": "code",
   "execution_count": 128,
   "metadata": {},
   "outputs": [
    {
     "data": {
      "text/plain": [
       "object    8\n",
       "int64     3\n",
       "bool      1\n",
       "dtype: int64"
      ]
     },
     "execution_count": 128,
     "metadata": {},
     "output_type": "execute_result"
    }
   ],
   "source": [
    "table_train.dtypes.value_counts()"
   ]
  },
  {
   "cell_type": "markdown",
   "metadata": {},
   "source": [
    "You can see that we have no more `object` columns:"
   ]
  },
  {
   "cell_type": "code",
   "execution_count": 129,
   "metadata": {
    "scrolled": false
   },
   "outputs": [
    {
     "data": {
      "text/plain": [
       "uint8    94\n",
       "int64     3\n",
       "dtype: int64"
      ]
     },
     "execution_count": 129,
     "metadata": {},
     "output_type": "execute_result"
    }
   ],
   "source": [
    "X.dtypes.value_counts()"
   ]
  },
  {
   "cell_type": "markdown",
   "metadata": {},
   "source": [
    "For `y` (which we typically lowercase to indicate that it is not a matrix but a vector), we don't have to do any prep:"
   ]
  },
  {
   "cell_type": "code",
   "execution_count": 130,
   "metadata": {},
   "outputs": [],
   "source": [
    "y = fifty_k_train"
   ]
  },
  {
   "cell_type": "markdown",
   "metadata": {},
   "source": [
    "Next, we're going to create a _Random Forest Classifier_. What's that mean? Let's break it down.\n",
    "\n",
    "--\n",
    "\n",
    "### Some Theory\n",
    "\n",
    "**Classification**\n",
    "\n",
    "For starters, a [classifier](https://en.wikipedia.org/wiki/Statistical_classification) is a model that predicts a class or label, as opposed to a numeric value - i.e. it's built for predicting categorical data. In this case, we're going to -- for all intents -- restrict our definitions to [binary classification](https://en.wikipedia.org/wiki/Binary_classification) (where our target, what we're predicting, can only take one of two values). \n",
    "\n",
    "**Decision Tree Learning**\n",
    "\n",
    "A _Decision Tree_ [is](https://en.wikipedia.org/wiki/Decision_tree_learning) a model that builds a series of rules, kind of like the game _twenty questions_. E.g is `age >= 15`? It typically does this repeatedly until it has created a number of *pure* (or close to it) \"leaves\" or terminal nodes such that each of these nodes strongly represents a particular class value. In more detail, we train a decision tree through, basically:\n",
    "- iterating through the available features and the available values for each of those features\n",
    "- evaluating the effectiveness of each of those feature values when it comes to splitting the data into groups that represent a particular class\n",
    "- selecting the most effective feature-value rule (e.g. `age >= 30`) or \"splitting rule\" and splitting the data based on that rule\n",
    "- we then apply the same process to each of the resultant groups (e.g. `age >= 30` and `age < 30`) and continue doing so until we have found our \"pure\" nodes\n",
    "\n",
    "What is a pure node? The idea is that, once our tree is built (i.e. trained), we can make a prediction through propagating a data point through the rules in the tree (e.g. `age >= 30`, `sex == Female`) until we've reached a partition of the data that, in our training, we found to be associated with one particular class. We then return the class associated with our final partition as our \"prediction.\"\n",
    "\n",
    "What's been described has been maybe a little bit simplified but should provide a good idea of the foundational concepts.\n",
    "\n",
    "**Splitting Rule Evaluation**\n",
    "\n",
    "Purity here refers to the distributional concentration of the data towards a particular class. Put differently, we can think about the probability of how often a randomly chosen item would be mislabeled, if all we had to go off was the class probabilities across the entirety of the given data. To calculate this number, we must account for the following:\n",
    "- probability of drawing a random item with a certain class label (let's call this `p`)\n",
    "- probability that this data will have come from another class (this is in fact `1 - p`)\n",
    "\n",
    "(this is of course assuming that a given data point can belong to exactly one class.) Since these two conditions are independent, we simply multiply them together, yielding:\n",
    "\n",
    "$$ p \\cdot (1 - p) $$\n",
    "\n",
    "and at a given node. Note that this is a quadratic function, with a max at $p=50\\%$; in other words, the highest possible misclassification rate, i.e. least useful possible splitting rule, occurs when we just split the data 50 / 50 (assuming that classes are evenly balanced; there is weighting that can be done to account for imbalanced classes); and the lowest misclassification rate or highest \"purity\" occuring when a node consists entirely of one class or the other."
   ]
  },
  {
   "cell_type": "code",
   "execution_count": 131,
   "metadata": {},
   "outputs": [],
   "source": [
    "p = np.arange(0, 1, .01)"
   ]
  },
  {
   "cell_type": "code",
   "execution_count": 132,
   "metadata": {},
   "outputs": [
    {
     "data": {
      "image/png": "[encoded data removed]",
      "text/plain": [
       "<Figure size 792x576 with 1 Axes>"
      ]
     },
     "metadata": {
      "needs_background": "light"
     },
     "output_type": "display_data"
    }
   ],
   "source": [
    "ax = pd.Series(p * (1 - p), index=p).plot(figsize=(11, 8))\n",
    "_ = ax.set_xlabel(\"p\")\n",
    "_ = ax.set_ylabel(\"p * (1 - p)\")\n",
    "_ = ax.title.set_text(\"Misclassification Rate\")"
   ]
  },
  {
   "cell_type": "markdown",
   "metadata": {},
   "source": [
    "At each node, we can sum this result across all classes to get what's called [Gini impurity](https://en.wikipedia.org/wiki/Decision_tree_learning#Gini_impurity), which provides a good measure for the effectiveness of a given splitting rule in partitioning the data according to its class labels. Now that we have a good measure for splitting rule effectiveness, we can choose our splitting rule such that it provides the greatest reduction in impurity from the previous node.\n",
    "\n",
    "**Tree Depth**\n",
    "\n",
    "If we let a decision tree grow, uninhibited, until all of its leaves are pure, we will likely end up with a tree that has *overfit*; i.e. so tightly coupled to the data it was trained on that it won't generalize well. Thus we will often implement something to prevent the tree from becoming too deep, through setting something like a specific number of levels that a tree can't exceed, or a minimum number of items that can end up in a leaf / terminal node.\n",
    "\n",
    "**Random Forest**\n",
    "\n",
    "So what's a *Random Forest*? The idea is that, in trying to prevent overfitting, we build a whole bunch of decision trees, such that each tree is a little bit different, and take the average across all these trees' votes to produce a prediction.\n",
    "\n",
    "In a little more detail, a [random forest](https://en.wikipedia.org/wiki/Random_forest) generally relies on the following procedures in order to ensure that there is *variance* across its trees' structures:\n",
    "- each tree is based off its own [bootstrap sample](https://en.wikipedia.org/wiki/Random_forest#Bagging), or random resampling with replacement, of the underlying data\n",
    "- a random subset of the available features will be used each time a new splitting rule is to be defined\n",
    "\n",
    "It's worth noting that random forests are models for which it is desirable to limit redundancy in features, as redundant features will limit the effectiveness of creating a number of different trees using random subsets of the feature space.\n",
    "\n",
    "--\n",
    "\n",
    "So, what are going to use a random forest for? We're actually going to build a machine learning model, and retrain it to different subsets of the feature space, and use feature contributions to help us determine what our most useful features are.\n",
    "\n",
    "We're going to set this forest to build 10 trees (in practice, it's good to use 100), and pass another argument for `class_weight`, which we'll get to in a bit:"
   ]
  },
  {
   "cell_type": "code",
   "execution_count": 133,
   "metadata": {},
   "outputs": [],
   "source": [
    "rf = RandomForestClassifier(n_estimators=10, class_weight=\"balanced\")"
   ]
  },
  {
   "cell_type": "markdown",
   "metadata": {},
   "source": [
    "Now, we'll use something called the *recursive feature eliminator* (`RFE`) to help us determine which features are worth keeping. In practice, [permutation importance](https://scikit-learn.org/stable/modules/permutation_importance.html) is the preferred method for this, but the `RFE` is kind of an intuitive and interesting trick to see.\n",
    "\n",
    "The way the `RFE` works is as follows:\n",
    "- we pass it a model to use (in our case, `rf`) as well as the number of features we're looking to keep (in our case, `10`)\n",
    "- then, we fit it to some data\n",
    "- from there, it will evaluate the effectiveness of each feature, and it will eliminate the least effective feature\n",
    "- it will then continue this process, [recursively](https://en.wikipedia.org/wiki/Recursion_(computer_science)) (hence its name), until the desired number of features remain\n",
    "\n",
    "How does it determine the effectiveness of each feature? It actually leans on the inputted model for that, and what the random forest uses is Gini impurity - it will look across each split in each of its trees, sum up the reductions to impurity, by feature, and return these results.\n",
    "\n",
    "Now, why is *permutation importance* preferred? Because relying on Gini to interpret features can lead to results that favor features with a high [cardinality](https://en.wikipedia.org/wiki/Cardinality). But, the interpretability of tree-based models is interesting and is worth learning about, and we'll work with that method here."
   ]
  },
  {
   "cell_type": "code",
   "execution_count": 134,
   "metadata": {},
   "outputs": [],
   "source": [
    "selector = RFE(rf, n_features_to_select=10)"
   ]
  },
  {
   "cell_type": "code",
   "execution_count": 135,
   "metadata": {},
   "outputs": [
    {
     "data": {
      "text/plain": [
       "RFE(estimator=RandomForestClassifier(class_weight='balanced', n_estimators=10),\n",
       "    n_features_to_select=10)"
      ]
     },
     "execution_count": 135,
     "metadata": {},
     "output_type": "execute_result"
    }
   ],
   "source": [
    "selector.fit(X, y)"
   ]
  },
  {
   "cell_type": "markdown",
   "metadata": {},
   "source": [
    "These are the top 10 columns that were selected:"
   ]
  },
  {
   "cell_type": "code",
   "execution_count": 136,
   "metadata": {
    "scrolled": true
   },
   "outputs": [
    {
     "data": {
      "text/plain": [
       "['age_rounded',\n",
       " 'capital_gain_net',\n",
       " 'education_Bachelors',\n",
       " 'hours_per_week',\n",
       " 'marital_status_Married_civ_spouse',\n",
       " 'marital_status_Never_married',\n",
       " 'occupation_Exec_managerial',\n",
       " 'occupation_Prof_specialty',\n",
       " 'relationship_Not_in_family',\n",
       " 'sex_Male']"
      ]
     },
     "execution_count": 136,
     "metadata": {},
     "output_type": "execute_result"
    }
   ],
   "source": [
    "sorted(list(X.columns[selector.support_]))"
   ]
  },
  {
   "cell_type": "code",
   "execution_count": 137,
   "metadata": {
    "scrolled": true
   },
   "outputs": [],
   "source": [
    "good_cols = sorted(list(X.columns[selector.support_]))"
   ]
  },
  {
   "cell_type": "code",
   "execution_count": 138,
   "metadata": {},
   "outputs": [],
   "source": [
    "ranks = pd.DataFrame(\n",
    "    list(zip(X.columns, selector.ranking_)), \n",
    "    columns=[\"column_name\", \"rank_survived_until\"]\n",
    "                     ).sort_values(\"rank_survived_until\")"
   ]
  },
  {
   "cell_type": "markdown",
   "metadata": {},
   "source": [
    "Let's look at the 10 worst:"
   ]
  },
  {
   "cell_type": "code",
   "execution_count": 139,
   "metadata": {},
   "outputs": [
    {
     "data": {
      "text/html": [
       "<div>\n",
       "<style scoped>\n",
       "    .dataframe tbody tr th:only-of-type {\n",
       "        vertical-align: middle;\n",
       "    }\n",
       "\n",
       "    .dataframe tbody tr th {\n",
       "        vertical-align: top;\n",
       "    }\n",
       "\n",
       "    .dataframe thead th {\n",
       "        text-align: right;\n",
       "    }\n",
       "</style>\n",
       "<table border=\"1\" class=\"dataframe\">\n",
       "  <thead>\n",
       "    <tr style=\"text-align: right;\">\n",
       "      <th></th>\n",
       "      <th>column_name</th>\n",
       "      <th>rank_survived_until</th>\n",
       "    </tr>\n",
       "  </thead>\n",
       "  <tbody>\n",
       "    <tr>\n",
       "      <th>90</th>\n",
       "      <td>native_country_Trinadad&amp;Tobago</td>\n",
       "      <td>79</td>\n",
       "    </tr>\n",
       "    <tr>\n",
       "      <th>59</th>\n",
       "      <td>native_country_Ecuador</td>\n",
       "      <td>80</td>\n",
       "    </tr>\n",
       "    <tr>\n",
       "      <th>86</th>\n",
       "      <td>native_country_Scotland</td>\n",
       "      <td>81</td>\n",
       "    </tr>\n",
       "    <tr>\n",
       "      <th>80</th>\n",
       "      <td>native_country_Outlying_US(Guam_USVI_etc)</td>\n",
       "      <td>82</td>\n",
       "    </tr>\n",
       "    <tr>\n",
       "      <th>7</th>\n",
       "      <td>workclass_Without_pay</td>\n",
       "      <td>83</td>\n",
       "    </tr>\n",
       "    <tr>\n",
       "      <th>89</th>\n",
       "      <td>native_country_Thailand</td>\n",
       "      <td>84</td>\n",
       "    </tr>\n",
       "    <tr>\n",
       "      <th>30</th>\n",
       "      <td>occupation_Armed_Forces</td>\n",
       "      <td>85</td>\n",
       "    </tr>\n",
       "    <tr>\n",
       "      <th>68</th>\n",
       "      <td>native_country_Honduras</td>\n",
       "      <td>86</td>\n",
       "    </tr>\n",
       "    <tr>\n",
       "      <th>2</th>\n",
       "      <td>workclass_Never_worked</td>\n",
       "      <td>87</td>\n",
       "    </tr>\n",
       "    <tr>\n",
       "      <th>67</th>\n",
       "      <td>native_country_Holand_Netherlands</td>\n",
       "      <td>88</td>\n",
       "    </tr>\n",
       "  </tbody>\n",
       "</table>\n",
       "</div>"
      ],
      "text/plain": [
       "                                  column_name  rank_survived_until\n",
       "90             native_country_Trinadad&Tobago                   79\n",
       "59                     native_country_Ecuador                   80\n",
       "86                    native_country_Scotland                   81\n",
       "80  native_country_Outlying_US(Guam_USVI_etc)                   82\n",
       "7                       workclass_Without_pay                   83\n",
       "89                    native_country_Thailand                   84\n",
       "30                    occupation_Armed_Forces                   85\n",
       "68                    native_country_Honduras                   86\n",
       "2                      workclass_Never_worked                   87\n",
       "67          native_country_Holand_Netherlands                   88"
      ]
     },
     "execution_count": 139,
     "metadata": {},
     "output_type": "execute_result"
    }
   ],
   "source": [
    "ranks.iloc[-10:]"
   ]
  },
  {
   "cell_type": "markdown",
   "metadata": {},
   "source": [
    "Let's retain these particularly bad ones and drop them out of our data:"
   ]
  },
  {
   "cell_type": "code",
   "execution_count": 140,
   "metadata": {},
   "outputs": [],
   "source": [
    "crummy_features = ranks.iloc[-10:].column_name"
   ]
  },
  {
   "cell_type": "code",
   "execution_count": 141,
   "metadata": {},
   "outputs": [],
   "source": [
    "X = X.drop(crummy_features, axis=1)"
   ]
  },
  {
   "cell_type": "markdown",
   "metadata": {},
   "source": [
    "# 3. Machine Learning\n",
    "\n",
    "Let's build a model, and let's evaluate it (at least somewhat) properly."
   ]
  },
  {
   "cell_type": "markdown",
   "metadata": {},
   "source": [
    "### Class imblanace\n",
    "\n",
    "One thing I cannot stress enough is the need to keep in mind the balance of the classes in the data you have. For example, let's say I start with the following model, which will simply return `0` (i.e. `False`) for each row in the inputted `X`:"
   ]
  },
  {
   "cell_type": "code",
   "execution_count": 142,
   "metadata": {},
   "outputs": [],
   "source": [
    "def crummy_model(X):\n",
    "    return np.zeros((len(X),))"
   ]
  },
  {
   "cell_type": "code",
   "execution_count": 143,
   "metadata": {},
   "outputs": [],
   "source": [
    "y_pred = crummy_model(X)"
   ]
  },
  {
   "cell_type": "code",
   "execution_count": 144,
   "metadata": {
    "scrolled": true
   },
   "outputs": [
    {
     "data": {
      "text/plain": [
       "0.7590752313629068"
      ]
     },
     "execution_count": 144,
     "metadata": {},
     "output_type": "execute_result"
    }
   ],
   "source": [
    "accuracy_score(y, y_pred)"
   ]
  },
  {
   "cell_type": "markdown",
   "metadata": {},
   "source": [
    "What?! All we did we literally return 0 for every value! How is our accuracy so good?"
   ]
  },
  {
   "cell_type": "code",
   "execution_count": 145,
   "metadata": {
    "scrolled": true
   },
   "outputs": [
    {
     "data": {
      "text/plain": [
       "False    0.759075\n",
       "True     0.240925\n",
       "Name: over_fifty_k_bool, dtype: float64"
      ]
     },
     "execution_count": 145,
     "metadata": {},
     "output_type": "execute_result"
    }
   ],
   "source": [
    "y.value_counts(normalize=True)"
   ]
  },
  {
   "cell_type": "markdown",
   "metadata": {},
   "source": [
    "Wait a second ... that's a perfect match for the natural distribution of classes in the data. And now you've seen the danger of class imblanace - when you have more of one class than the other, if you just always pick the _majority_ class, you'll have a model that looks decent (at least if you are using \"accuracy\" to evaluate it).\n",
    "\n",
    "This is what the `class_weights` argument to our model is for - it tells the forest to build each tree based off a _class-balanced_ subset of the data."
   ]
  },
  {
   "cell_type": "markdown",
   "metadata": {},
   "source": [
    "### Scores\n",
    "\n",
    "So, how do we protect ourselves, aside from setting the right model parameters, against falling into that sort of trap?\n",
    "\n",
    "The above example showed that accuracy, though a nice thumb-in-the-air sort of metric, and also a metric that lots of managers will enjoy discussing, can be pretty dangerous to use. There are better scores, for sure, but one thing you can always do with your prediction results is *look* at them, instead of just rolling them up into a score.\n",
    "\n",
    "Enter the [confusion matrix](https://scikit-learn.org/stable/modules/generated/sklearn.metrics.confusion_matrix.html), whose rows represent the actual class value and whose columns represent the predicted class value. `sklearn` implements this for us, and we will wrap their function to better format the results:"
   ]
  },
  {
   "cell_type": "code",
   "execution_count": 146,
   "metadata": {},
   "outputs": [],
   "source": [
    "def get_confusion(y, y_pred):\n",
    "    # with score functions, especially in sklearn, we always pass y or y_true and then y_pred\n",
    "    matrix = confusion_matrix(y, y_pred)\n",
    "    \n",
    "    df = pd.DataFrame(matrix,\n",
    "                     index=[\"negative_actual\", \"positive_actual\"],\n",
    "                     columns=[\"negative_predicted\", \"positive_predicted\"])\n",
    "    \n",
    "    return df"
   ]
  },
  {
   "cell_type": "code",
   "execution_count": 147,
   "metadata": {
    "scrolled": false
   },
   "outputs": [
    {
     "data": {
      "text/html": [
       "<div>\n",
       "<style scoped>\n",
       "    .dataframe tbody tr th:only-of-type {\n",
       "        vertical-align: middle;\n",
       "    }\n",
       "\n",
       "    .dataframe tbody tr th {\n",
       "        vertical-align: top;\n",
       "    }\n",
       "\n",
       "    .dataframe thead th {\n",
       "        text-align: right;\n",
       "    }\n",
       "</style>\n",
       "<table border=\"1\" class=\"dataframe\">\n",
       "  <thead>\n",
       "    <tr style=\"text-align: right;\">\n",
       "      <th></th>\n",
       "      <th>negative_predicted</th>\n",
       "      <th>positive_predicted</th>\n",
       "    </tr>\n",
       "  </thead>\n",
       "  <tbody>\n",
       "    <tr>\n",
       "      <th>negative_actual</th>\n",
       "      <td>22228</td>\n",
       "      <td>0</td>\n",
       "    </tr>\n",
       "    <tr>\n",
       "      <th>positive_actual</th>\n",
       "      <td>7055</td>\n",
       "      <td>0</td>\n",
       "    </tr>\n",
       "  </tbody>\n",
       "</table>\n",
       "</div>"
      ],
      "text/plain": [
       "                 negative_predicted  positive_predicted\n",
       "negative_actual               22228                   0\n",
       "positive_actual                7055                   0"
      ]
     },
     "execution_count": 147,
     "metadata": {},
     "output_type": "execute_result"
    }
   ],
   "source": [
    "get_confusion(y, y_pred)"
   ]
  },
  {
   "cell_type": "markdown",
   "metadata": {},
   "source": [
    "Looking at the above, we can see clearly that all our model did was predict `negative`.\n",
    "\n",
    "A little bit more on the confusion matrix: the diagonal (i.e. positions `(0,0)` and `(1, 1)`) hold the correct predictions. Points falsely predicted as positive are known as *false positives* (FP), and points correctly predicted as positive are known as *true positives* (TP) - the same nomenclature holds on the negative side.\n",
    "\n",
    "We can get *accuracy* score from the above through taking the following ratio:\n",
    "\n",
    "$$ accuracy = \\frac {TP + TN}{TP + TN + FP + FN}$$\n",
    "\n",
    "i.e. we take the number of correct predictions (or predictions on the diagonal) and divide that by the total number of predictions. But we can get some more nuanced measures here, too. If the above is our overall accuracy, what if we broke that down into two, let's say this colloquially, components? For instance:\n",
    "1. a model's carefulness\n",
    "2. a model's thoroughness\n",
    "\n",
    "How might we calculate these scores? Maybe for \"carefulness,\" we could do:\n",
    "\n",
    "$$ precision = \\frac{TP}{TP + FP}$$\n",
    "\n",
    "The above is the ratio of correct, positive predictions to the number of total positive predictions - i.e. of all the times the model predicted *positive*, what proportion of those predictions were correct? Maybe for \"thoroughness,\" we could do:\n",
    "\n",
    "$$ recall = \\frac{TP}{TP + FN} $$\n",
    "\n",
    "The above is the ratio of correct, positive predictions to the number of total actual positive values - i.e. out of all the actual positive values in the data, what proportion did the model correctly identify?\n",
    "\n",
    "Which you might use depends on what you trying to solve for, and what the consequences of different types of mistakes are. It's almost like different styles of poker players - some bet carefully, preserving their bankroll, while some bet aggressively, not wanting to miss an opptortunity to make money. Or, for another example, it could be like talking to people at a cocktail party - do you want to speak only to people who you think have a good chance of responding to you, or do you want to speak to as many people as possible?\n",
    "\n",
    "And, interestingly, there's a [tradeoff](https://scikit-learn.org/stable/auto_examples/model_selection/plot_precision_recall.html) between precision and recall - lower your decision threshold and you'll identify more positives (higher recall) less precisely (i.e. with more false positives). Often times you want to account for both precision *and* recall, and there a number of other scores one can look to in evaluating a predictive model. For instance, the [f1 score](https://scikit-learn.org/stable/modules/generated/sklearn.metrics.f1_score.html) is the harmonic mean of precision and recall.\n",
    "\n",
    "For now, the 3 scores we've covered, along with the confusion matrix, should provide a great starting point."
   ]
  },
  {
   "cell_type": "markdown",
   "metadata": {},
   "source": [
    "### Cross-validation\n",
    "\n",
    "So how do we actually evaulate our models? We generally:\n",
    "- pick some kind of scoring metric\n",
    "- run several trials using different samples of the data\n",
    "- take the aggregate (usually the *mean*) score across these trials as our meeasure of model performance\n",
    "\n",
    "There are some mechanics to how we achieve this. The standard, applicable to many problems, is [cross-validation](https://en.wikipedia.org/wiki/Cross-validation_(statistics)). In cross-validation, we break the data into chunks or \"folds\" - for the sake of example, let's say 5. We take 4 of those folds and use them to train a model, and test that model on the other fold (or \"hold-out\" or \"test\" fold). Then, we repeat that process, inserting the previous test fold back into the train set, and taking a different train fold out as the test set. We do this until we've tested on all 5 folds and then typically report the average (and maybe standard deviation) performance across these folds.\n",
    "\n",
    "Some additional details:\n",
    "- cross validation (CV) is often referred to as *k-fold cross validation*, where `k` represents the number of folds used (in the above example, 5)\n",
    "- the data is typically sampled randomly into the k folds\n",
    "- in classification, [stratified](https://en.wikipedia.org/wiki/Stratified_sampling) random sampling is used, such that the given class distributions are preserved within each fold\n",
    "\n",
    "So, this whole process is kind of like what we did above, with our \"hold-out\" set that we're using for our final, reported performance estimates, except that we are repeating the process several times. Why?\n",
    "- we can evaluate the model's performance across every provided data point (as we test on every fold)\n",
    "- we avoid ever evaluating the model's results on the data that it was trained it on\n",
    "\n",
    "Finally, why the exterior or initial 90 / 10 breakdown, in addition to CV? That's because we use CV for making decisions like:\n",
    "- which features to use\n",
    "- which model to use\n",
    "- how to tune that model\n",
    "\n",
    "and we want to have fresh data to report our final estimates on that was not used as part of the feature or model selection processes. Let's try this out! We'll use the implementation from [sklearn](https://scikit-learn.org/stable/modules/generated/sklearn.model_selection.cross_val_score.html):"
   ]
  },
  {
   "cell_type": "code",
   "execution_count": 148,
   "metadata": {},
   "outputs": [],
   "source": [
    "rf = RandomForestClassifier(n_estimators=10, class_weight=\"balanced\")"
   ]
  },
  {
   "cell_type": "markdown",
   "metadata": {},
   "source": [
    "Accuracy:"
   ]
  },
  {
   "cell_type": "code",
   "execution_count": 149,
   "metadata": {},
   "outputs": [],
   "source": [
    "accs = cross_val_score(rf, X, y, scoring=make_scorer(accuracy_score), cv=5)"
   ]
  },
  {
   "cell_type": "code",
   "execution_count": 150,
   "metadata": {},
   "outputs": [
    {
     "data": {
      "text/plain": [
       "(0.831881967632957, 0.005850958689482836)"
      ]
     },
     "execution_count": 150,
     "metadata": {},
     "output_type": "execute_result"
    }
   ],
   "source": [
    "np.mean(accs), np.std(accs)"
   ]
  },
  {
   "cell_type": "markdown",
   "metadata": {},
   "source": [
    "Precision:"
   ]
  },
  {
   "cell_type": "code",
   "execution_count": 151,
   "metadata": {},
   "outputs": [],
   "source": [
    "precs = cross_val_score(rf, X, y, scoring=make_scorer(precision_score), cv=5)"
   ]
  },
  {
   "cell_type": "code",
   "execution_count": 152,
   "metadata": {
    "scrolled": true
   },
   "outputs": [
    {
     "data": {
      "text/plain": [
       "(0.6450458549059814, 0.015017844111903158)"
      ]
     },
     "execution_count": 152,
     "metadata": {},
     "output_type": "execute_result"
    }
   ],
   "source": [
    "np.mean(precs), np.std(precs)"
   ]
  },
  {
   "cell_type": "markdown",
   "metadata": {},
   "source": [
    "Recall:"
   ]
  },
  {
   "cell_type": "code",
   "execution_count": 153,
   "metadata": {},
   "outputs": [],
   "source": [
    "recs = cross_val_score(rf, X, y, scoring=make_scorer(recall_score), cv=5)"
   ]
  },
  {
   "cell_type": "code",
   "execution_count": 154,
   "metadata": {
    "scrolled": false
   },
   "outputs": [
    {
     "data": {
      "text/plain": [
       "(0.6710134656272146, 0.016032681130747215)"
      ]
     },
     "execution_count": 154,
     "metadata": {},
     "output_type": "execute_result"
    }
   ],
   "source": [
    "np.mean(recs), np.std(recs)"
   ]
  },
  {
   "cell_type": "markdown",
   "metadata": {},
   "source": [
    "So our accuracy is way higher than our precision, which is also a good bit higher than our recall - this large disparity amongst scores can be a good indicator that a model is not fitting to the data well."
   ]
  },
  {
   "cell_type": "markdown",
   "metadata": {},
   "source": [
    "### Hyper-parameter tuning\n",
    "\n",
    "An obvious goal when selecting the model is to avoid *underfitting* - i.e. we want our model to fit the data well. But, as mentioned before, we also want to avoid *overfitting*, or building a model that is too tightly coupled to the data it's trained on.\n",
    "\n",
    "There's actually a great concept that encapsulates this relationship, and that's the [bias-variance tradeoff](https://en.wikipedia.org/wiki/Bias%E2%80%93variance_tradeoff). The idea is that, generally speaking, there's a tradeoff between a model being correct and a model being consistent. A model that will, at least on some data, predict certain data with high accuracy may offer much worse performance on other data (i.e. there's \"variance\" in its performance). On the other hand, a model that is restricted from building a tight fit to any particular data may produce predictions that are wrong (or \"biased\").\n",
    "\n",
    "We evaluate fit by comparing our train scores to the test scores. In other words, in addition to retaining performance on each of our hold out sets, we also retain performance when predicting the data the model is trained on. We must **never** report train scores, but they can prove useful when compared to test scores. If there's a large disparity - let's say, greater than 5% - then the model is likely overfitting.\n",
    "\n",
    "How do we handle that? Most models have some *hyper-parameters* - parameters you pass to the model creation process, as opposed to the data that you pass to the model fitting proces - that will restict a model from establishing too tight of a fit. With *logistic regression*, you can control [regularization](https://en.wikipedia.org/wiki/Regularization_(mathematics)) in order to force the model's coefficients to stay near 0. With a random forest, you can control the [depth of a tree](https://en.wikipedia.org/wiki/Decision_tree_pruning)."
   ]
  },
  {
   "cell_type": "code",
   "execution_count": 155,
   "metadata": {},
   "outputs": [],
   "source": [
    "results = cross_validate(rf, X, y, scoring=make_scorer(recall_score), cv=5, return_train_score=True)"
   ]
  },
  {
   "cell_type": "code",
   "execution_count": 156,
   "metadata": {},
   "outputs": [],
   "source": [
    "results_train = pd.Series(results[\"train_score\"], name=\"train\")"
   ]
  },
  {
   "cell_type": "code",
   "execution_count": 157,
   "metadata": {},
   "outputs": [],
   "source": [
    "results_test= pd.Series(results[\"test_score\"], name=\"test\")"
   ]
  },
  {
   "cell_type": "code",
   "execution_count": 158,
   "metadata": {},
   "outputs": [
    {
     "data": {
      "text/html": [
       "<div>\n",
       "<style scoped>\n",
       "    .dataframe tbody tr th:only-of-type {\n",
       "        vertical-align: middle;\n",
       "    }\n",
       "\n",
       "    .dataframe tbody tr th {\n",
       "        vertical-align: top;\n",
       "    }\n",
       "\n",
       "    .dataframe thead th {\n",
       "        text-align: right;\n",
       "    }\n",
       "</style>\n",
       "<table border=\"1\" class=\"dataframe\">\n",
       "  <thead>\n",
       "    <tr style=\"text-align: right;\">\n",
       "      <th></th>\n",
       "      <th>train</th>\n",
       "      <th>test</th>\n",
       "    </tr>\n",
       "  </thead>\n",
       "  <tbody>\n",
       "    <tr>\n",
       "      <th>0</th>\n",
       "      <td>0.931609</td>\n",
       "      <td>0.676825</td>\n",
       "    </tr>\n",
       "    <tr>\n",
       "      <th>1</th>\n",
       "      <td>0.930191</td>\n",
       "      <td>0.658398</td>\n",
       "    </tr>\n",
       "    <tr>\n",
       "      <th>2</th>\n",
       "      <td>0.928774</td>\n",
       "      <td>0.661233</td>\n",
       "    </tr>\n",
       "    <tr>\n",
       "      <th>3</th>\n",
       "      <td>0.926471</td>\n",
       "      <td>0.671155</td>\n",
       "    </tr>\n",
       "    <tr>\n",
       "      <th>4</th>\n",
       "      <td>0.931963</td>\n",
       "      <td>0.683912</td>\n",
       "    </tr>\n",
       "  </tbody>\n",
       "</table>\n",
       "</div>"
      ],
      "text/plain": [
       "      train      test\n",
       "0  0.931609  0.676825\n",
       "1  0.930191  0.658398\n",
       "2  0.928774  0.661233\n",
       "3  0.926471  0.671155\n",
       "4  0.931963  0.683912"
      ]
     },
     "execution_count": 158,
     "metadata": {},
     "output_type": "execute_result"
    }
   ],
   "source": [
    "results_train.to_frame().join(results_test)"
   ]
  },
  {
   "cell_type": "markdown",
   "metadata": {},
   "source": [
    "We can see quite a disparity here! I wonder what will happen if we limit tree depth?"
   ]
  },
  {
   "cell_type": "code",
   "execution_count": 159,
   "metadata": {},
   "outputs": [],
   "source": [
    "rf_depth = RandomForestClassifier(n_estimators=10, class_weight=\"balanced\", max_depth=16)"
   ]
  },
  {
   "cell_type": "code",
   "execution_count": 160,
   "metadata": {},
   "outputs": [],
   "source": [
    "results = cross_validate(rf_depth, X, y, scoring=make_scorer(recall_score), cv=5, return_train_score=True)"
   ]
  },
  {
   "cell_type": "code",
   "execution_count": 161,
   "metadata": {},
   "outputs": [],
   "source": [
    "results_train = pd.Series(results[\"train_score\"], name=\"train\")"
   ]
  },
  {
   "cell_type": "code",
   "execution_count": 162,
   "metadata": {},
   "outputs": [],
   "source": [
    "results_test= pd.Series(results[\"test_score\"], name=\"test\")"
   ]
  },
  {
   "cell_type": "code",
   "execution_count": 163,
   "metadata": {},
   "outputs": [
    {
     "data": {
      "text/html": [
       "<div>\n",
       "<style scoped>\n",
       "    .dataframe tbody tr th:only-of-type {\n",
       "        vertical-align: middle;\n",
       "    }\n",
       "\n",
       "    .dataframe tbody tr th {\n",
       "        vertical-align: top;\n",
       "    }\n",
       "\n",
       "    .dataframe thead th {\n",
       "        text-align: right;\n",
       "    }\n",
       "</style>\n",
       "<table border=\"1\" class=\"dataframe\">\n",
       "  <thead>\n",
       "    <tr style=\"text-align: right;\">\n",
       "      <th></th>\n",
       "      <th>train</th>\n",
       "      <th>test</th>\n",
       "    </tr>\n",
       "  </thead>\n",
       "  <tbody>\n",
       "    <tr>\n",
       "      <th>0</th>\n",
       "      <td>0.908930</td>\n",
       "      <td>0.862509</td>\n",
       "    </tr>\n",
       "    <tr>\n",
       "      <th>1</th>\n",
       "      <td>0.923281</td>\n",
       "      <td>0.832034</td>\n",
       "    </tr>\n",
       "    <tr>\n",
       "      <th>2</th>\n",
       "      <td>0.924522</td>\n",
       "      <td>0.844082</td>\n",
       "    </tr>\n",
       "    <tr>\n",
       "      <th>3</th>\n",
       "      <td>0.922573</td>\n",
       "      <td>0.862509</td>\n",
       "    </tr>\n",
       "    <tr>\n",
       "      <th>4</th>\n",
       "      <td>0.918143</td>\n",
       "      <td>0.860383</td>\n",
       "    </tr>\n",
       "  </tbody>\n",
       "</table>\n",
       "</div>"
      ],
      "text/plain": [
       "      train      test\n",
       "0  0.908930  0.862509\n",
       "1  0.923281  0.832034\n",
       "2  0.924522  0.844082\n",
       "3  0.922573  0.862509\n",
       "4  0.918143  0.860383"
      ]
     },
     "execution_count": 163,
     "metadata": {},
     "output_type": "execute_result"
    }
   ],
   "source": [
    "results_train.to_frame().join(results_test)"
   ]
  },
  {
   "cell_type": "markdown",
   "metadata": {},
   "source": [
    "Wow - a big difference! By the way, if we wanted to evaluate based on limiting the size of the leaves in the trees, as opposed to explicitly limiting the depth of the tree, you could tweak the `min_samples_leaf` hyper-parameter. These methods are probably pretty comparable in practice but maybe offer different interpretations, each of which might fit certain datasets or problems better.\n",
    "\n",
    "A good tecnhique is to evaluate a model's performance over different hyper-parameter values. `sklearn` has [implemented](https://scikit-learn.org/stable/modules/generated/sklearn.model_selection.GridSearchCV.html) something called `GridSearchCV`, which will perform an exhaustive search over the different parameter values you pass. This is a great tool, and makes setting up automated build pipelines much easier.\n",
    "\n",
    "Let's visualize performance over different `max_depth` values (following [this example](https://scikit-learn.org/stable/auto_examples/model_selection/plot_validation_curve.html) from `sklearn`):"
   ]
  },
  {
   "cell_type": "code",
   "execution_count": 164,
   "metadata": {},
   "outputs": [
    {
     "data": {
      "image/png": "[encoded data removed]",
      "text/plain": [
       "<Figure size 792x576 with 1 Axes>"
      ]
     },
     "metadata": {
      "needs_background": "light"
     },
     "output_type": "display_data"
    }
   ],
   "source": [
    "param_range = [2**x for x in range(1, 6)]\n",
    "other_hp = {\"n_estimators\": 10, \"class_weight\": \"balanced\"}\n",
    "\n",
    "train_scores, test_scores = validation_curve(\n",
    "    RandomForestClassifier(**other_hp),\n",
    "    X,\n",
    "    y,\n",
    "    param_name=\"max_depth\",\n",
    "    param_range=param_range,\n",
    "    scoring=\"recall\"\n",
    ")\n",
    "\n",
    "train_scores_mean = np.mean(train_scores, axis=1)\n",
    "train_scores_std = np.std(train_scores, axis=1)\n",
    "test_scores_mean = np.mean(test_scores, axis=1)\n",
    "test_scores_std = np.std(test_scores, axis=1)\n",
    "\n",
    "plt.figure(figsize=(11, 8))\n",
    "\n",
    "plt.title(\"Validation Curve\")\n",
    "plt.xlabel(r\"$\\max_depth$\")\n",
    "plt.ylabel(\"recall\")\n",
    "\n",
    "lw = 2\n",
    "plt.semilogx(\n",
    "    param_range, train_scores_mean, base=2,\n",
    "    label=\"training score\", color=\"darkorange\", lw=lw\n",
    ")\n",
    "plt.fill_between(\n",
    "    param_range,\n",
    "    train_scores_mean - train_scores_std,\n",
    "    train_scores_mean + train_scores_std,\n",
    "    alpha=0.2,\n",
    "    color=\"darkorange\",\n",
    "    lw=lw,\n",
    ")\n",
    "plt.semilogx(\n",
    "    param_range, test_scores_mean, base=2,\n",
    "    label=\"validation score\", color=\"navy\", lw=lw\n",
    ")\n",
    "plt.fill_between(\n",
    "    param_range,\n",
    "    test_scores_mean - test_scores_std,\n",
    "    test_scores_mean + test_scores_std,\n",
    "    alpha=0.2,\n",
    "    color=\"navy\",\n",
    "    lw=lw,\n",
    ")\n",
    "\n",
    "plt.legend(loc=\"best\")\n",
    "plt.show()"
   ]
  },
  {
   "cell_type": "markdown",
   "metadata": {},
   "source": [
    "We see train and validation data staying close together at lower values and diverging as we let the tree grow deeper -- we'll want to select a `max_depth` value that keeps the two scores close enough together, while also letting validation (which we'll use for selecting a model) get as high as reasonably possible."
   ]
  },
  {
   "cell_type": "markdown",
   "metadata": {},
   "source": [
    "Now, we can also consider precision, and a good way to compare precision to recall is through looking at a *precision-recall curve*; to do this, we're going to sub-sample `X` and `y` to get separate train and validation sets."
   ]
  },
  {
   "cell_type": "code",
   "execution_count": 166,
   "metadata": {},
   "outputs": [],
   "source": [
    "X_train, X_validation, y_train, y_validation = train_test_split(X, y, test_size=.2, stratify=y)"
   ]
  },
  {
   "cell_type": "markdown",
   "metadata": {},
   "source": [
    "Next, let's plot the curve (drawing from [this example](https://scikit-learn.org/stable/auto_examples/model_selection/plot_precision_recall.html#plot-the-precision-recall-curve) from `sklearn`):"
   ]
  },
  {
   "cell_type": "code",
   "execution_count": 178,
   "metadata": {},
   "outputs": [
    {
     "data": {
      "image/png": "[encoded data removed]",
      "text/plain": [
       "<Figure size 792x576 with 1 Axes>"
      ]
     },
     "metadata": {
      "needs_background": "light"
     },
     "output_type": "display_data"
    }
   ],
   "source": [
    "clf = RandomForestClassifier(max_depth=8, **other_hp).fit(X_train, y_train)\n",
    "\n",
    "fig, ax = plt.subplots(figsize=(11, 8))\n",
    "\n",
    "display = PrecisionRecallDisplay.from_estimator(\n",
    "    clf, X_validation, y_validation, name=clf.__class__.__name__,\n",
    "    ax=ax\n",
    ")\n",
    "\n",
    "_ = ax.set_xlim(0, 1.01)\n",
    "_ = ax.set_ylim(0, 1.01)\n",
    "\n",
    "_ = display.ax_.set_title(\"Precision-Recall\")"
   ]
  },
  {
   "cell_type": "markdown",
   "metadata": {},
   "source": [
    "The points in the above plot represent the scores achieved at different [decision threshold](https://machinelearningmastery.com/threshold-moving-for-imbalanced-classification/) values; you can think of the decision threshold as the score at which a model will make a positive classification. See, the way most classifiers work is they actually produce some kind of \"score\" that is then rolled up into the prediction of a \"label\" or class.\n",
    "\n",
    "For some models these scores can be considered sound probability estimates, as with logistic regression classifiers. Random forests do a pretty good job with scores (i.e. they tend to be pretty well [calibrated](https://www.svds.com/classifiers2/))."
   ]
  },
  {
   "cell_type": "markdown",
   "metadata": {},
   "source": [
    "### Model Selection, Additional Details\n",
    "\n",
    "There are many models to choose from, with each providing its own strengths and weaknesses.\n",
    "\n",
    "Simpler models lead to reduced odds of overfitting, quicker build times, and easier debugging when problems occur. For example, [logistic regression](https://en.wikipedia.org/wiki/Logistic_regression#:~:text=Logistic%20regression%20is%20a%20statistical,a%20form%20of%20binary%20regression), which basically entails wrapping a linear regression model with the *logit* function (squashing output to be between 0 and 1 so that it can be interpreted as a probability), is considered a very simple model. As an added bonus, if you need to go beyond class labels and into class probabilities, logistic regession naturally does a great job there.\n",
    "\n",
    "Complex models, while sometimes useful or even necessary, can bring the burdens of potential overfitting, more hyperparameters to tune, longer train times, and more complicated debugging procedures. They can sometimes deliver much stronger results (see: the world of [neural networks](https://en.wikipedia.org/wiki/Artificial_neural_network)). Often it comes down to bias & variance: would you rather have your model be wrong, but conistent, or sometimes very right and sometimes very wrong? Generally, it's somewhere in between.\n",
    "\n",
    "Now, data preparation plays a part, too. With any model that involves taking a linear combination of features (e.g. logistic regression, or the internals of a [multilayer perceptron](https://en.wikipedia.org/wiki/Multilayer_perceptron)), pre-treating continuous data so that its values are [normalized](https://en.wikipedia.org/wiki/Feature_scaling) (to be between 0 and 1) is very important. So is reducing skewness. Additionally, you must worry about outliers. And of course, missing data.\n",
    "\n",
    "With a random forest, you do not need to worry about feature scaling or skewness. You also don't really need to worry about outliers (since the tree works through splitting, and not multiplying and adding). Ditto for missing data, as long as you encode it correctly. That's not to say that you shouldn't have an understanding of the source of your data quality issues, just that you don't have to worry about coding around them.\n",
    "\n",
    "So, RF models take some of the fun out of creative data prep, but they take some of the work out, too!"
   ]
  },
  {
   "cell_type": "markdown",
   "metadata": {},
   "source": [
    "### --"
   ]
  },
  {
   "cell_type": "markdown",
   "metadata": {},
   "source": [
    "### Problem\n",
    "\n",
    "Your turn - find the \"best\" model you can. This means you need to:\n",
    "- pick a score function to use\n",
    "- pick a subset of the feature space to use\n",
    "- pick the model hyper-parameters to use\n",
    "\n",
    "Try out different combinations of features to see if you get anything that's noticeably better. For those of you who have done this before, please feel free to try additional models."
   ]
  },
  {
   "cell_type": "markdown",
   "metadata": {},
   "source": [
    "### --"
   ]
  },
  {
   "cell_type": "markdown",
   "metadata": {},
   "source": [
    "### Final performance estimation\n",
    "\n",
    "Once we've done _everything_ we'd like to do for our model evaulation, we can use our selected model to predict the _hold-out_ set that we saved earlier. We'll build our `X` and `y` as we did before."
   ]
  },
  {
   "cell_type": "code",
   "execution_count": 179,
   "metadata": {},
   "outputs": [],
   "source": [
    "def is_y_col(c):\n",
    "    return c != \"over_fifty_k\""
   ]
  },
  {
   "cell_type": "code",
   "execution_count": 180,
   "metadata": {},
   "outputs": [
    {
     "data": {
      "text/plain": [
       "['age',\n",
       " 'workclass',\n",
       " 'fnlwgt',\n",
       " 'education',\n",
       " 'marital_status',\n",
       " 'occupation',\n",
       " 'relationship',\n",
       " 'race',\n",
       " 'sex',\n",
       " 'capital_gain',\n",
       " 'capital_loss',\n",
       " 'hours_per_week',\n",
       " 'native_country',\n",
       " 'over_fifty_k_bool',\n",
       " 'capital_gain_net',\n",
       " 'is_capital_gain',\n",
       " 'age_rounded']"
      ]
     },
     "execution_count": 180,
     "metadata": {},
     "output_type": "execute_result"
    }
   ],
   "source": [
    "[c for c in table.columns if is_y_col(c)]"
   ]
  },
  {
   "cell_type": "code",
   "execution_count": 181,
   "metadata": {},
   "outputs": [],
   "source": [
    "table_test = table.loc[test_inds, [c for c in table.columns if c != \"over_fifty_k\"]]"
   ]
  },
  {
   "cell_type": "code",
   "execution_count": 182,
   "metadata": {},
   "outputs": [],
   "source": [
    "fifty_k_test = table.loc[test_inds, \"over_fifty_k_bool\"]"
   ]
  },
  {
   "cell_type": "code",
   "execution_count": 184,
   "metadata": {},
   "outputs": [],
   "source": [
    "table_test = table_test.drop(_to_kill, axis=1)"
   ]
  },
  {
   "cell_type": "code",
   "execution_count": 191,
   "metadata": {},
   "outputs": [],
   "source": [
    "_one_hots = [\n",
    "                pd.get_dummies(\n",
    "                        table_test[col], drop_first=True, prefix=col\n",
    "                    )\n",
    "             for col in table_test.select_dtypes(include=object).columns\n",
    "        ]"
   ]
  },
  {
   "cell_type": "code",
   "execution_count": 192,
   "metadata": {},
   "outputs": [],
   "source": [
    "one_hot_df_test = _one_hots[0].join(_one_hots[1:])"
   ]
  },
  {
   "cell_type": "code",
   "execution_count": 193,
   "metadata": {},
   "outputs": [],
   "source": [
    "one_hot_df_test.columns = one_hot_df_test.columns.str.replace(\"-\", \"_\")"
   ]
  },
  {
   "cell_type": "code",
   "execution_count": 194,
   "metadata": {},
   "outputs": [
    {
     "data": {
      "text/plain": [
       "(3254, 91)"
      ]
     },
     "execution_count": 194,
     "metadata": {},
     "output_type": "execute_result"
    }
   ],
   "source": [
    "one_hot_df_test.shape"
   ]
  },
  {
   "cell_type": "code",
   "execution_count": 195,
   "metadata": {},
   "outputs": [],
   "source": [
    "X_test = one_hot_df_test.join(table_test.select_dtypes(include=[int, float]))"
   ]
  },
  {
   "cell_type": "code",
   "execution_count": 196,
   "metadata": {},
   "outputs": [
    {
     "data": {
      "text/plain": [
       "(3254, 94)"
      ]
     },
     "execution_count": 196,
     "metadata": {},
     "output_type": "execute_result"
    }
   ],
   "source": [
    "X_test.shape"
   ]
  },
  {
   "cell_type": "markdown",
   "metadata": {},
   "source": [
    "Now, we must make sure that the columns of `X_test` line up with those of the `X` that we trained on."
   ]
  },
  {
   "cell_type": "code",
   "execution_count": 197,
   "metadata": {},
   "outputs": [
    {
     "data": {
      "text/plain": [
       "{'native_country_Ecuador',\n",
       " 'native_country_Honduras',\n",
       " 'native_country_Outlying_US(Guam_USVI_etc)',\n",
       " 'native_country_Scotland',\n",
       " 'native_country_Thailand',\n",
       " 'native_country_Trinadad&Tobago',\n",
       " 'workclass_Never_worked',\n",
       " 'workclass_Without_pay'}"
      ]
     },
     "execution_count": 197,
     "metadata": {},
     "output_type": "execute_result"
    }
   ],
   "source": [
    "set(X_test.columns) - set(X.columns)"
   ]
  },
  {
   "cell_type": "markdown",
   "metadata": {},
   "source": [
    "So, `X_test` has some columns that `X` doesn't; remember that we dropped some columns during feature selection, and that -- since we're training and testing on different subsets of the data -- we may end up with differing values in some one-hot columns."
   ]
  },
  {
   "cell_type": "code",
   "execution_count": 198,
   "metadata": {},
   "outputs": [
    {
     "data": {
      "text/plain": [
       "{'native_country_Nicaragua'}"
      ]
     },
     "execution_count": 198,
     "metadata": {},
     "output_type": "execute_result"
    }
   ],
   "source": [
    "set(X.columns) - set(X_test.columns)"
   ]
  },
  {
   "cell_type": "markdown",
   "metadata": {},
   "source": [
    "Why does `X` have columns `X_test` doesn't? Again, because our one-hot features in each table were created on subsets of the data (train and test), we probably have some categorical values that were present in `test` but not `train`. \n",
    "\n",
    "So, we'll drop anything in `X_test` that's not in `X`, and we'll also add `0` columns for anything `X_test` is missing (i.e. we'll create new, one-hot columns but since we know the values were missing, we can just set them to `0` or `False`)."
   ]
  },
  {
   "cell_type": "code",
   "execution_count": 200,
   "metadata": {},
   "outputs": [],
   "source": [
    "X_test = X_test.drop(list(set(X_test.columns) - set(X.columns)), axis=1)"
   ]
  },
  {
   "cell_type": "code",
   "execution_count": 201,
   "metadata": {},
   "outputs": [],
   "source": [
    "for c in set(X.columns) - set(X_test.columns):\n",
    "    X_test[c] = 0"
   ]
  },
  {
   "cell_type": "code",
   "execution_count": 202,
   "metadata": {
    "scrolled": true
   },
   "outputs": [
    {
     "data": {
      "text/plain": [
       "(3254, 87)"
      ]
     },
     "execution_count": 202,
     "metadata": {},
     "output_type": "execute_result"
    }
   ],
   "source": [
    "X_test.shape"
   ]
  },
  {
   "cell_type": "code",
   "execution_count": 203,
   "metadata": {},
   "outputs": [],
   "source": [
    "y_test = fifty_k_test"
   ]
  },
  {
   "cell_type": "code",
   "execution_count": 204,
   "metadata": {},
   "outputs": [
    {
     "data": {
      "text/plain": [
       "False    0.759066\n",
       "True     0.240934\n",
       "Name: over_fifty_k_bool, dtype: float64"
      ]
     },
     "execution_count": 204,
     "metadata": {},
     "output_type": "execute_result"
    }
   ],
   "source": [
    "y_test.value_counts(normalize=True)"
   ]
  },
  {
   "cell_type": "markdown",
   "metadata": {},
   "source": [
    "Now, we can train our model:"
   ]
  },
  {
   "cell_type": "code",
   "execution_count": 207,
   "metadata": {},
   "outputs": [],
   "source": [
    "rf = RandomForestClassifier(max_depth=8, class_weight=\"balanced\", n_estimators=10)"
   ]
  },
  {
   "cell_type": "code",
   "execution_count": 208,
   "metadata": {},
   "outputs": [],
   "source": [
    "rf = rf.fit(X, y)"
   ]
  },
  {
   "cell_type": "markdown",
   "metadata": {},
   "source": [
    "Let's predict our hold-out data:"
   ]
  },
  {
   "cell_type": "code",
   "execution_count": 214,
   "metadata": {},
   "outputs": [],
   "source": [
    "X_test = X_test[X.columns]"
   ]
  },
  {
   "cell_type": "code",
   "execution_count": 215,
   "metadata": {},
   "outputs": [],
   "source": [
    "y_pred = rf.predict(X_test)"
   ]
  },
  {
   "cell_type": "markdown",
   "metadata": {},
   "source": [
    "And finally, let's evaluate:"
   ]
  },
  {
   "cell_type": "code",
   "execution_count": 216,
   "metadata": {},
   "outputs": [
    {
     "name": "stdout",
     "output_type": "stream",
     "text": [
      "accuracy_score:  0.7473878303626306\n",
      "precision_score:  0.4866197183098592\n",
      "recall_score:  0.8813775510204082\n"
     ]
    }
   ],
   "source": [
    "for score in (accuracy_score, precision_score, recall_score):\n",
    "    print(f\"{score.__name__}: \", score(y_test, y_pred))"
   ]
  },
  {
   "cell_type": "code",
   "execution_count": 217,
   "metadata": {},
   "outputs": [
    {
     "data": {
      "text/html": [
       "<div>\n",
       "<style scoped>\n",
       "    .dataframe tbody tr th:only-of-type {\n",
       "        vertical-align: middle;\n",
       "    }\n",
       "\n",
       "    .dataframe tbody tr th {\n",
       "        vertical-align: top;\n",
       "    }\n",
       "\n",
       "    .dataframe thead th {\n",
       "        text-align: right;\n",
       "    }\n",
       "</style>\n",
       "<table border=\"1\" class=\"dataframe\">\n",
       "  <thead>\n",
       "    <tr style=\"text-align: right;\">\n",
       "      <th></th>\n",
       "      <th>negative_predicted</th>\n",
       "      <th>positive_predicted</th>\n",
       "    </tr>\n",
       "  </thead>\n",
       "  <tbody>\n",
       "    <tr>\n",
       "      <th>negative_actual</th>\n",
       "      <td>1741</td>\n",
       "      <td>729</td>\n",
       "    </tr>\n",
       "    <tr>\n",
       "      <th>positive_actual</th>\n",
       "      <td>93</td>\n",
       "      <td>691</td>\n",
       "    </tr>\n",
       "  </tbody>\n",
       "</table>\n",
       "</div>"
      ],
      "text/plain": [
       "                 negative_predicted  positive_predicted\n",
       "negative_actual                1741                 729\n",
       "positive_actual                  93                 691"
      ]
     },
     "execution_count": 217,
     "metadata": {},
     "output_type": "execute_result"
    }
   ],
   "source": [
    "get_confusion(y_test, y_pred)"
   ]
  },
  {
   "cell_type": "markdown",
   "metadata": {},
   "source": [
    "So, how'd we do? Our model looks okay but, through creating a simpler model (fixing `max_depth=8`) we've sacrificed some precision.\n",
    "\n",
    "Some potential [improvements](https://www.svds.com/learning-imbalanced-classes/):\n",
    "- change `class_weight` from `\"balanced\"` to something that explicitly favors the positive class\n",
    "- resample the data to artificially create class balance (through removing negative instances or duplicating positive instances)\n",
    "\n",
    "Of course, this is our reporting run, so we don't want to use this for tuning, selection, etc. If you end up in this type of situation, take it as a nudge to go back to validation and really work things out (in this case, validating over different `class_weight` values is the easiest step) and then, once you've made a final decision, generate reporting estimates and call it a day!"
   ]
  },
  {
   "cell_type": "code",
   "execution_count": null,
   "metadata": {},
   "outputs": [],
   "source": []
  }
 ],
 "metadata": {
  "kernelspec": {
   "display_name": "Python 3 (ipykernel)",
   "language": "python",
   "name": "python3"
  },
  "language_info": {
   "codemirror_mode": {
    "name": "ipython",
    "version": 3
   },
   "file_extension": ".py",
   "mimetype": "text/x-python",
   "name": "python",
   "nbconvert_exporter": "python",
   "pygments_lexer": "ipython3",
   "version": "3.8.9"
  }
 },
 "nbformat": 4,
 "nbformat_minor": 2
}
